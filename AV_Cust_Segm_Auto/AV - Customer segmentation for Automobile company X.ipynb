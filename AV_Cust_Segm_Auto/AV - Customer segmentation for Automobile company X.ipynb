{
 "cells": [
  {
   "cell_type": "code",
   "execution_count": 88,
   "metadata": {},
   "outputs": [],
   "source": [
    "import numpy as np\n",
    "import pandas as pd\n",
    "import matplotlib.pyplot as plt\n",
    "import os\n",
    "import seaborn as sns\n",
    "from scipy import stats\n",
    "import statistics\n",
    "from sklearn.model_selection import train_test_split\n",
    "\n",
    "import time\n",
    "# for preprocessing the data\n",
    "from sklearn.preprocessing import StandardScaler\n",
    "\n",
    "\n",
    "# Models\n",
    "from sklearn.ensemble import RandomForestClassifier\n",
    "from sklearn.linear_model import LogisticRegression\n",
    "from sklearn.linear_model import LinearRegression\n",
    "from mord import LogisticAT\n",
    "import xgboost as xgb\n",
    "from sklearn.neural_network import MLPClassifier\n",
    "from catboost import CatBoostClassifier\n",
    "\n",
    "# for combining the preprocess with model training\n",
    "from sklearn.pipeline import make_pipeline\n",
    "from sklearn.preprocessing import  LabelEncoder\n",
    "\n",
    "# for optimizing the hyperparameters of the pipeline\n",
    "from sklearn.model_selection import GridSearchCV\n",
    "from sklearn.cluster import KMeans\n",
    "from sklearn.model_selection import RandomizedSearchCV\n",
    "\n",
    "# For accuracy Score\n",
    "from sklearn.metrics import accuracy_score\n",
    "\n",
    "\n",
    "from impyute.imputation.cs import fast_knn\n",
    "import sys"
   ]
  },
  {
   "cell_type": "code",
   "execution_count": 2,
   "metadata": {},
   "outputs": [],
   "source": []
  },
  {
   "cell_type": "code",
   "execution_count": 64,
   "metadata": {},
   "outputs": [],
   "source": [
    "def get_datasets():\n",
    "    train = pd.read_csv(\"Train.csv\")\n",
    "    test = pd.read_csv(\"Test.csv\")\n",
    "    return train, test\n",
    "train, test = get_datasets()"
   ]
  },
  {
   "cell_type": "code",
   "execution_count": 4,
   "metadata": {},
   "outputs": [
    {
     "data": {
      "text/plain": [
       "(8068, 11)"
      ]
     },
     "execution_count": 4,
     "metadata": {},
     "output_type": "execute_result"
    }
   ],
   "source": [
    "train.shape"
   ]
  },
  {
   "cell_type": "code",
   "execution_count": 5,
   "metadata": {},
   "outputs": [
    {
     "data": {
      "text/html": [
       "<div>\n",
       "<style scoped>\n",
       "    .dataframe tbody tr th:only-of-type {\n",
       "        vertical-align: middle;\n",
       "    }\n",
       "\n",
       "    .dataframe tbody tr th {\n",
       "        vertical-align: top;\n",
       "    }\n",
       "\n",
       "    .dataframe thead th {\n",
       "        text-align: right;\n",
       "    }\n",
       "</style>\n",
       "<table border=\"1\" class=\"dataframe\">\n",
       "  <thead>\n",
       "    <tr style=\"text-align: right;\">\n",
       "      <th></th>\n",
       "      <th>ID</th>\n",
       "      <th>Gender</th>\n",
       "      <th>Ever_Married</th>\n",
       "      <th>Age</th>\n",
       "      <th>Graduated</th>\n",
       "      <th>Profession</th>\n",
       "      <th>Work_Experience</th>\n",
       "      <th>Spending_Score</th>\n",
       "      <th>Family_Size</th>\n",
       "      <th>Var_1</th>\n",
       "      <th>Segmentation</th>\n",
       "    </tr>\n",
       "  </thead>\n",
       "  <tbody>\n",
       "    <tr>\n",
       "      <th>0</th>\n",
       "      <td>462809</td>\n",
       "      <td>Male</td>\n",
       "      <td>No</td>\n",
       "      <td>22</td>\n",
       "      <td>No</td>\n",
       "      <td>Healthcare</td>\n",
       "      <td>1.0</td>\n",
       "      <td>Low</td>\n",
       "      <td>4.0</td>\n",
       "      <td>Cat_4</td>\n",
       "      <td>D</td>\n",
       "    </tr>\n",
       "    <tr>\n",
       "      <th>1</th>\n",
       "      <td>462643</td>\n",
       "      <td>Female</td>\n",
       "      <td>Yes</td>\n",
       "      <td>38</td>\n",
       "      <td>Yes</td>\n",
       "      <td>Engineer</td>\n",
       "      <td>NaN</td>\n",
       "      <td>Average</td>\n",
       "      <td>3.0</td>\n",
       "      <td>Cat_4</td>\n",
       "      <td>A</td>\n",
       "    </tr>\n",
       "    <tr>\n",
       "      <th>2</th>\n",
       "      <td>466315</td>\n",
       "      <td>Female</td>\n",
       "      <td>Yes</td>\n",
       "      <td>67</td>\n",
       "      <td>Yes</td>\n",
       "      <td>Engineer</td>\n",
       "      <td>1.0</td>\n",
       "      <td>Low</td>\n",
       "      <td>1.0</td>\n",
       "      <td>Cat_6</td>\n",
       "      <td>B</td>\n",
       "    </tr>\n",
       "    <tr>\n",
       "      <th>3</th>\n",
       "      <td>461735</td>\n",
       "      <td>Male</td>\n",
       "      <td>Yes</td>\n",
       "      <td>67</td>\n",
       "      <td>Yes</td>\n",
       "      <td>Lawyer</td>\n",
       "      <td>0.0</td>\n",
       "      <td>High</td>\n",
       "      <td>2.0</td>\n",
       "      <td>Cat_6</td>\n",
       "      <td>B</td>\n",
       "    </tr>\n",
       "    <tr>\n",
       "      <th>4</th>\n",
       "      <td>462669</td>\n",
       "      <td>Female</td>\n",
       "      <td>Yes</td>\n",
       "      <td>40</td>\n",
       "      <td>Yes</td>\n",
       "      <td>Entertainment</td>\n",
       "      <td>NaN</td>\n",
       "      <td>High</td>\n",
       "      <td>6.0</td>\n",
       "      <td>Cat_6</td>\n",
       "      <td>A</td>\n",
       "    </tr>\n",
       "  </tbody>\n",
       "</table>\n",
       "</div>"
      ],
      "text/plain": [
       "       ID  Gender Ever_Married  Age Graduated     Profession  Work_Experience  \\\n",
       "0  462809    Male           No   22        No     Healthcare              1.0   \n",
       "1  462643  Female          Yes   38       Yes       Engineer              NaN   \n",
       "2  466315  Female          Yes   67       Yes       Engineer              1.0   \n",
       "3  461735    Male          Yes   67       Yes         Lawyer              0.0   \n",
       "4  462669  Female          Yes   40       Yes  Entertainment              NaN   \n",
       "\n",
       "  Spending_Score  Family_Size  Var_1 Segmentation  \n",
       "0            Low          4.0  Cat_4            D  \n",
       "1        Average          3.0  Cat_4            A  \n",
       "2            Low          1.0  Cat_6            B  \n",
       "3           High          2.0  Cat_6            B  \n",
       "4           High          6.0  Cat_6            A  "
      ]
     },
     "execution_count": 5,
     "metadata": {},
     "output_type": "execute_result"
    }
   ],
   "source": [
    "train.head()"
   ]
  },
  {
   "cell_type": "code",
   "execution_count": 6,
   "metadata": {
    "scrolled": true
   },
   "outputs": [
    {
     "data": {
      "text/plain": [
       "<matplotlib.axes._subplots.AxesSubplot at 0x225ea7ec2b0>"
      ]
     },
     "execution_count": 6,
     "metadata": {},
     "output_type": "execute_result"
    },
    {
     "data": {
      "image/png": "[encoded data removed]",
      "text/plain": [
       "<Figure size 432x288 with 1 Axes>"
      ]
     },
     "metadata": {
      "needs_background": "light"
     },
     "output_type": "display_data"
    }
   ],
   "source": [
    "#colormap = ['red', 'blue', 'yellow', 'green']\n",
    "train.groupby(\"Segmentation\")['ID'].count().plot(kind='barh')"
   ]
  },
  {
   "cell_type": "code",
   "execution_count": 7,
   "metadata": {},
   "outputs": [],
   "source": [
    "def perc_stacked_graph(dataset, X, Y, Z, axs, figsize=(5,5)):\n",
    "    # in a pivot table -> X - row, y - Column, Z - Values\n",
    "    perc_stacked = dataset.pivot_table(index=[X], columns=Y, values=Z, aggfunc='count').reset_index()\n",
    "    #perc_stacked.drop(['land_surface_condition'], axis=1)\n",
    "\n",
    "    perc_stacked = perc_stacked.set_index(perc_stacked[X], drop=True)\n",
    "    perc_stacked = perc_stacked.drop([X], axis=1)\n",
    "    for row in perc_stacked.index:\n",
    "        perc_stacked.loc[row] = perc_stacked.loc[row]/np.sum(perc_stacked.loc[row], axis=0)\n",
    "    perc_stacked.plot(ax=axs, kind = 'bar', figsize=(15,15))"
   ]
  },
  {
   "cell_type": "code",
   "execution_count": 8,
   "metadata": {},
   "outputs": [
    {
     "data": {
      "image/png": "[encoded data removed]",
      "text/plain": [
       "<Figure size 1080x1080 with 9 Axes>"
      ]
     },
     "metadata": {
      "needs_background": "light"
     },
     "output_type": "display_data"
    }
   ],
   "source": [
    "fig, axs = plt.subplots(3,3)\n",
    "\n",
    "perc_stacked_graph(train, \"Segmentation\", \"Gender\", \"ID\", axs = axs[0,0])\n",
    "perc_stacked_graph(train, \"Segmentation\", \"Ever_Married\", \"ID\", axs = axs[0,1])\n",
    "#perc_stacked_graph(train, \"Segmentation\", \"Age\", \"ID\", axs = axs[0,2])\n",
    "perc_stacked_graph(train, \"Segmentation\", \"Graduated\", \"ID\", axs = axs[1,0])\n",
    "perc_stacked_graph(train, \"Segmentation\", \"Profession\", \"ID\", axs = axs[1,1])\n",
    "#perc_stacked_graph(train, \"Segmentation\", \"Work_Experience\", \"ID\", axs = axs[1,2])\n",
    "perc_stacked_graph(train, \"Segmentation\", \"Spending_Score\", \"ID\", axs = axs[2,0])\n",
    "perc_stacked_graph(train, \"Segmentation\", \"Family_Size\", \"ID\", axs = axs[2,1])\n",
    "perc_stacked_graph(train, \"Segmentation\", \"Var_1\", \"ID\", axs = axs[2,2])\n",
    "\n",
    "plt.show()"
   ]
  },
  {
   "cell_type": "code",
   "execution_count": 9,
   "metadata": {},
   "outputs": [
    {
     "data": {
      "text/plain": [
       "<matplotlib.axes._subplots.AxesSubplot at 0x225eb908828>"
      ]
     },
     "execution_count": 9,
     "metadata": {},
     "output_type": "execute_result"
    },
    {
     "data": {
      "image/png": "[encoded data removed]",
      "text/plain": [
       "<Figure size 432x288 with 1 Axes>"
      ]
     },
     "metadata": {
      "needs_background": "light"
     },
     "output_type": "display_data"
    }
   ],
   "source": [
    "train.groupby(\"Segmentation\")[\"Age\"].median().plot(kind='barh')"
   ]
  },
  {
   "cell_type": "code",
   "execution_count": 10,
   "metadata": {},
   "outputs": [
    {
     "data": {
      "text/plain": [
       "<matplotlib.axes._subplots.AxesSubplot at 0x225ea756da0>"
      ]
     },
     "execution_count": 10,
     "metadata": {},
     "output_type": "execute_result"
    },
    {
     "data": {
      "image/png": "[encoded data removed]",
      "text/plain": [
       "<Figure size 432x288 with 1 Axes>"
      ]
     },
     "metadata": {
      "needs_background": "light"
     },
     "output_type": "display_data"
    }
   ],
   "source": [
    "train.groupby(\"Segmentation\")['Work_Experience'].mean().plot(kind='barh')"
   ]
  },
  {
   "cell_type": "code",
   "execution_count": 79,
   "metadata": {},
   "outputs": [
    {
     "data": {
      "text/html": [
       "<div>\n",
       "<style scoped>\n",
       "    .dataframe tbody tr th:only-of-type {\n",
       "        vertical-align: middle;\n",
       "    }\n",
       "\n",
       "    .dataframe tbody tr th {\n",
       "        vertical-align: top;\n",
       "    }\n",
       "\n",
       "    .dataframe thead th {\n",
       "        text-align: right;\n",
       "    }\n",
       "</style>\n",
       "<table border=\"1\" class=\"dataframe\">\n",
       "  <thead>\n",
       "    <tr style=\"text-align: right;\">\n",
       "      <th></th>\n",
       "      <th>Gender</th>\n",
       "      <th>Ever_Married</th>\n",
       "      <th>Graduated</th>\n",
       "      <th>Profession</th>\n",
       "      <th>Spending_Score</th>\n",
       "      <th>Var_1</th>\n",
       "      <th>Segmentation</th>\n",
       "    </tr>\n",
       "  </thead>\n",
       "  <tbody>\n",
       "    <tr>\n",
       "      <th>Gender</th>\n",
       "      <td>NaN</td>\n",
       "      <td>NaN</td>\n",
       "      <td>NaN</td>\n",
       "      <td>NaN</td>\n",
       "      <td>NaN</td>\n",
       "      <td>NaN</td>\n",
       "      <td>NaN</td>\n",
       "    </tr>\n",
       "    <tr>\n",
       "      <th>Ever_Married</th>\n",
       "      <td>NaN</td>\n",
       "      <td>NaN</td>\n",
       "      <td>NaN</td>\n",
       "      <td>NaN</td>\n",
       "      <td>NaN</td>\n",
       "      <td>NaN</td>\n",
       "      <td>NaN</td>\n",
       "    </tr>\n",
       "    <tr>\n",
       "      <th>Graduated</th>\n",
       "      <td>NaN</td>\n",
       "      <td>NaN</td>\n",
       "      <td>NaN</td>\n",
       "      <td>NaN</td>\n",
       "      <td>NaN</td>\n",
       "      <td>NaN</td>\n",
       "      <td>NaN</td>\n",
       "    </tr>\n",
       "    <tr>\n",
       "      <th>Profession</th>\n",
       "      <td>NaN</td>\n",
       "      <td>NaN</td>\n",
       "      <td>NaN</td>\n",
       "      <td>NaN</td>\n",
       "      <td>NaN</td>\n",
       "      <td>NaN</td>\n",
       "      <td>NaN</td>\n",
       "    </tr>\n",
       "    <tr>\n",
       "      <th>Spending_Score</th>\n",
       "      <td>NaN</td>\n",
       "      <td>NaN</td>\n",
       "      <td>NaN</td>\n",
       "      <td>NaN</td>\n",
       "      <td>NaN</td>\n",
       "      <td>NaN</td>\n",
       "      <td>NaN</td>\n",
       "    </tr>\n",
       "    <tr>\n",
       "      <th>Var_1</th>\n",
       "      <td>NaN</td>\n",
       "      <td>NaN</td>\n",
       "      <td>NaN</td>\n",
       "      <td>NaN</td>\n",
       "      <td>NaN</td>\n",
       "      <td>NaN</td>\n",
       "      <td>NaN</td>\n",
       "    </tr>\n",
       "    <tr>\n",
       "      <th>Segmentation</th>\n",
       "      <td>NaN</td>\n",
       "      <td>NaN</td>\n",
       "      <td>NaN</td>\n",
       "      <td>NaN</td>\n",
       "      <td>NaN</td>\n",
       "      <td>NaN</td>\n",
       "      <td>NaN</td>\n",
       "    </tr>\n",
       "  </tbody>\n",
       "</table>\n",
       "</div>"
      ],
      "text/plain": [
       "               Gender Ever_Married Graduated Profession Spending_Score Var_1  \\\n",
       "Gender            NaN          NaN       NaN        NaN            NaN   NaN   \n",
       "Ever_Married      NaN          NaN       NaN        NaN            NaN   NaN   \n",
       "Graduated         NaN          NaN       NaN        NaN            NaN   NaN   \n",
       "Profession        NaN          NaN       NaN        NaN            NaN   NaN   \n",
       "Spending_Score    NaN          NaN       NaN        NaN            NaN   NaN   \n",
       "Var_1             NaN          NaN       NaN        NaN            NaN   NaN   \n",
       "Segmentation      NaN          NaN       NaN        NaN            NaN   NaN   \n",
       "\n",
       "               Segmentation  \n",
       "Gender                  NaN  \n",
       "Ever_Married            NaN  \n",
       "Graduated               NaN  \n",
       "Profession              NaN  \n",
       "Spending_Score          NaN  \n",
       "Var_1                   NaN  \n",
       "Segmentation            NaN  "
      ]
     },
     "execution_count": 79,
     "metadata": {},
     "output_type": "execute_result"
    }
   ],
   "source": [
    "def chi_square_test(train):\n",
    "    categ_col_list = train.select_dtypes(exclude='number').columns\n",
    "    chi_df = pd.DataFrame(columns=categ_col_list, index=categ_col_list)\n",
    "    for i in categ_col_list:\n",
    "        for j in categ_col_list:\n",
    "            cross = pd.crosstab(train[i], train[j])\n",
    "\n",
    "            chi_stat = stats.chi2_contingency(cross)\n",
    "            p_chi_stat = chi_stat[1]\n",
    "            chi_df.loc[i,j] = p_chi_stat\n",
    "    return chi_df\n",
    "chi_sq = chi_square_test(train)\n",
    "chi_sq[chi_sq > 0.05]"
   ]
  },
  {
   "cell_type": "code",
   "execution_count": 83,
   "metadata": {},
   "outputs": [
    {
     "data": {
      "text/html": [
       "<div>\n",
       "<style scoped>\n",
       "    .dataframe tbody tr th:only-of-type {\n",
       "        vertical-align: middle;\n",
       "    }\n",
       "\n",
       "    .dataframe tbody tr th {\n",
       "        vertical-align: top;\n",
       "    }\n",
       "\n",
       "    .dataframe thead th {\n",
       "        text-align: right;\n",
       "    }\n",
       "</style>\n",
       "<table border=\"1\" class=\"dataframe\">\n",
       "  <thead>\n",
       "    <tr style=\"text-align: right;\">\n",
       "      <th></th>\n",
       "      <th>Age</th>\n",
       "      <th>Work_Experience</th>\n",
       "      <th>Family_Size</th>\n",
       "    </tr>\n",
       "  </thead>\n",
       "  <tbody>\n",
       "    <tr>\n",
       "      <th>Age</th>\n",
       "      <td>1.000000</td>\n",
       "      <td>-0.190789</td>\n",
       "      <td>-0.280517</td>\n",
       "    </tr>\n",
       "    <tr>\n",
       "      <th>Work_Experience</th>\n",
       "      <td>-0.190789</td>\n",
       "      <td>1.000000</td>\n",
       "      <td>-0.063234</td>\n",
       "    </tr>\n",
       "    <tr>\n",
       "      <th>Family_Size</th>\n",
       "      <td>-0.280517</td>\n",
       "      <td>-0.063234</td>\n",
       "      <td>1.000000</td>\n",
       "    </tr>\n",
       "  </tbody>\n",
       "</table>\n",
       "</div>"
      ],
      "text/plain": [
       "                      Age  Work_Experience  Family_Size\n",
       "Age              1.000000        -0.190789    -0.280517\n",
       "Work_Experience -0.190789         1.000000    -0.063234\n",
       "Family_Size     -0.280517        -0.063234     1.000000"
      ]
     },
     "execution_count": 83,
     "metadata": {},
     "output_type": "execute_result"
    },
    {
     "data": {
      "image/png": "[encoded data removed]",
      "text/plain": [
       "<Figure size 432x288 with 2 Axes>"
      ]
     },
     "metadata": {
      "needs_background": "light"
     },
     "output_type": "display_data"
    }
   ],
   "source": [
    "def pearson_cor(dataset):\n",
    "    pearsoncorr = dataset._get_numeric_data().corr()\n",
    "    sns.heatmap(pearsoncorr, \n",
    "                xticklabels=pearsoncorr.columns,\n",
    "                yticklabels=pearsoncorr.columns,\n",
    "                cmap='RdBu_r',\n",
    "                annot=True,\n",
    "                linewidth=0.5)\n",
    "    #pearsoncorr.to_csv(\"correlation matrix.csv\")\n",
    "    return pearsoncorr\n",
    "pearson_cor(train.drop(\"ID\", axis=1))"
   ]
  },
  {
   "cell_type": "code",
   "execution_count": 86,
   "metadata": {},
   "outputs": [
    {
     "data": {
      "text/html": [
       "<div>\n",
       "<style scoped>\n",
       "    .dataframe tbody tr th:only-of-type {\n",
       "        vertical-align: middle;\n",
       "    }\n",
       "\n",
       "    .dataframe tbody tr th {\n",
       "        vertical-align: top;\n",
       "    }\n",
       "\n",
       "    .dataframe thead th {\n",
       "        text-align: right;\n",
       "    }\n",
       "</style>\n",
       "<table border=\"1\" class=\"dataframe\">\n",
       "  <thead>\n",
       "    <tr style=\"text-align: right;\">\n",
       "      <th></th>\n",
       "      <th>ID</th>\n",
       "      <th>Age</th>\n",
       "      <th>Work_Experience</th>\n",
       "      <th>Family_Size</th>\n",
       "    </tr>\n",
       "  </thead>\n",
       "  <tbody>\n",
       "    <tr>\n",
       "      <th>count</th>\n",
       "      <td>8068.000000</td>\n",
       "      <td>8068.000000</td>\n",
       "      <td>7239.000000</td>\n",
       "      <td>7733.000000</td>\n",
       "    </tr>\n",
       "    <tr>\n",
       "      <th>mean</th>\n",
       "      <td>463479.214551</td>\n",
       "      <td>43.466906</td>\n",
       "      <td>2.641663</td>\n",
       "      <td>2.850123</td>\n",
       "    </tr>\n",
       "    <tr>\n",
       "      <th>std</th>\n",
       "      <td>2595.381232</td>\n",
       "      <td>16.711696</td>\n",
       "      <td>3.406763</td>\n",
       "      <td>1.531413</td>\n",
       "    </tr>\n",
       "    <tr>\n",
       "      <th>min</th>\n",
       "      <td>458982.000000</td>\n",
       "      <td>18.000000</td>\n",
       "      <td>0.000000</td>\n",
       "      <td>1.000000</td>\n",
       "    </tr>\n",
       "    <tr>\n",
       "      <th>25%</th>\n",
       "      <td>461240.750000</td>\n",
       "      <td>30.000000</td>\n",
       "      <td>0.000000</td>\n",
       "      <td>2.000000</td>\n",
       "    </tr>\n",
       "    <tr>\n",
       "      <th>50%</th>\n",
       "      <td>463472.500000</td>\n",
       "      <td>40.000000</td>\n",
       "      <td>1.000000</td>\n",
       "      <td>3.000000</td>\n",
       "    </tr>\n",
       "    <tr>\n",
       "      <th>75%</th>\n",
       "      <td>465744.250000</td>\n",
       "      <td>53.000000</td>\n",
       "      <td>4.000000</td>\n",
       "      <td>4.000000</td>\n",
       "    </tr>\n",
       "    <tr>\n",
       "      <th>max</th>\n",
       "      <td>467974.000000</td>\n",
       "      <td>89.000000</td>\n",
       "      <td>14.000000</td>\n",
       "      <td>9.000000</td>\n",
       "    </tr>\n",
       "  </tbody>\n",
       "</table>\n",
       "</div>"
      ],
      "text/plain": [
       "                  ID          Age  Work_Experience  Family_Size\n",
       "count    8068.000000  8068.000000      7239.000000  7733.000000\n",
       "mean   463479.214551    43.466906         2.641663     2.850123\n",
       "std      2595.381232    16.711696         3.406763     1.531413\n",
       "min    458982.000000    18.000000         0.000000     1.000000\n",
       "25%    461240.750000    30.000000         0.000000     2.000000\n",
       "50%    463472.500000    40.000000         1.000000     3.000000\n",
       "75%    465744.250000    53.000000         4.000000     4.000000\n",
       "max    467974.000000    89.000000        14.000000     9.000000"
      ]
     },
     "execution_count": 86,
     "metadata": {},
     "output_type": "execute_result"
    }
   ],
   "source": [
    "train.describe()"
   ]
  },
  {
   "cell_type": "code",
   "execution_count": 98,
   "metadata": {},
   "outputs": [
    {
     "data": {
      "text/plain": [
       "ID                   0\n",
       "Gender               0\n",
       "Ever_Married       140\n",
       "Age                  0\n",
       "Graduated           78\n",
       "Profession         124\n",
       "Work_Experience    829\n",
       "Spending_Score       0\n",
       "Family_Size        335\n",
       "Var_1               76\n",
       "Segmentation         0\n",
       "dtype: int64"
      ]
     },
     "execution_count": 98,
     "metadata": {},
     "output_type": "execute_result"
    }
   ],
   "source": [
    "train.isnull().sum()"
   ]
  },
  {
   "cell_type": "code",
   "execution_count": 124,
   "metadata": {},
   "outputs": [],
   "source": [
    "def clean_data(dataset):\n",
    "    dataset['Ever_Married'] = dataset['Ever_Married'].map({'Yes':1, 'No':0})\n",
    "    dataset['Graduated'] = dataset['Graduated'].map({'Yes':1, 'No':0})\n",
    "    \n",
    "    #dataset.loc[dataset['Ever_Married'].isnull(), 'Ever_Married'] = statistics.mode(dataset['Ever_Married'])\n",
    "    #dataset.loc[dataset['Graduated'].isnull(), 'Graduated'] = statistics.mode(dataset['Graduated'])\n",
    "    dataset.loc[dataset['Profession'].isnull(), 'Profession'] = statistics.mode(dataset['Profession'])\n",
    "    #dataset.loc[dataset['Work_Experience'].isnull(), 'Work_Experience'] = np.round(statistics.mean(train.loc[~(train['Work_Experience'].isnull()), 'Work_Experience']))\n",
    "    #dataset.loc[dataset['Family_Size'].isnull(), 'Family_Size'] = statistics.mode(dataset['Family_Size'])\n",
    "    dataset.loc[dataset['Var_1'].isin(['Cat_1', 'Cat_2', 'Cat_5', 'Cat_7']), 'Var_1'] = 'Cat_8'\n",
    "    dataset.loc[dataset['Var_1'].isnull(), 'Var_1'] = statistics.mode(dataset['Var_1'])\n",
    "    \n",
    "    return dataset"
   ]
  },
  {
   "cell_type": "code",
   "execution_count": 125,
   "metadata": {},
   "outputs": [],
   "source": [
    "gender_map = {\n",
    "    'Male':0,\n",
    "    'Female':1\n",
    "}\n",
    "Ever_Married = {\n",
    "    'No':0,\n",
    "    'Yes':1\n",
    "}\n",
    "grad = {\n",
    "    'No':0,\n",
    "    'Yes':1\n",
    "}\n",
    "spend_score ={\n",
    "    'Low':0,\n",
    "    'Average':1,\n",
    "    'High':2\n",
    "}\n",
    "var1 ={\n",
    "    'Low':0,\n",
    "    'Average':1,\n",
    "    'High':2\n",
    "}\n",
    "proff ={'Artist': 0,\n",
    " 'Healthcare': 1,\n",
    " 'Entertainment': 2,\n",
    " 'Engineer':3,\n",
    " 'Doctor': 4,\n",
    " 'Lawyer': 5,\n",
    " 'Executive': 6,\n",
    " 'Marketing': 7,\n",
    " 'Homemaker': 8}\n",
    "cat_var = {'Cat_6': 5,\n",
    " 'Cat_4': 3,\n",
    " 'Cat_3': 2,\n",
    " 'Cat_2': 1,\n",
    " 'Cat_7': 6,\n",
    " 'Cat_1': 0,\n",
    " 'Cat_5': 4}\n",
    "\n",
    "seg ={\n",
    "    'A':0,\n",
    "    'B':1,\n",
    "    'C':2,\n",
    "    'D':3\n",
    "}\n",
    "    \n",
    "rev_seg ={\n",
    "    0:'A',\n",
    "    1:'B',\n",
    "    2:'C',\n",
    "    3:'D'\n",
    "}\n",
    "map_bins = {'35-45': 3,\n",
    " '25-35': 2,\n",
    " '45-55': 4,\n",
    " '65-100': 6,\n",
    " '0-25': 1,\n",
    " '55-65': 5}"
   ]
  },
  {
   "cell_type": "code",
   "execution_count": 126,
   "metadata": {},
   "outputs": [],
   "source": [
    "\n",
    "def get_age_groups(x):\n",
    "    if x <= 25:\n",
    "        return '0-25'\n",
    "    if x > 25 and x<=35:\n",
    "        return '25-35'\n",
    "    if x>35 and x<=45:\n",
    "        return '35-45'\n",
    "    if x>45 and x<=55:\n",
    "        return '45-55'\n",
    "    if x>55 and x<=65:\n",
    "        return '55-65'\n",
    "    else:\n",
    "        return '65-100'"
   ]
  },
  {
   "cell_type": "code",
   "execution_count": 127,
   "metadata": {},
   "outputs": [],
   "source": [
    "def add_features(full_df):\n",
    "    \n",
    "    le = LabelEncoder()\n",
    "    full_df[\"Prof+Grad\"] = full_df[\"Profession\"].fillna('-9999')+\"_\"+full_df[\"Graduated\"].astype(str)\n",
    "    full_df[\"Prof+Grad\"] = le.fit_transform(full_df[\"Prof+Grad\"])\n",
    "    full_df['Gender'] = full_df['Gender'].map(gender_map)\n",
    "    full_df['Ever_Married'] = full_df['Ever_Married'].map(Ever_Married)\n",
    "    full_df['Graduated'] = full_df['Graduated'].map(grad)\n",
    "    full_df['Profession']= full_df['Profession'].map(proff)\n",
    "    full_df['Spending_Score'] = full_df['Spending_Score'].map(spend_score)\n",
    "    full_df['Var_1'] = full_df['Var_1'].map(cat_var)\n",
    "    #full_df['Segmentation'] = full_df['Segmentation'].map(seg)\n",
    "    \n",
    "    full_df[\"Var1_Family\"] = full_df[\"Var_1\"] + full_df[\"Prof+Grad\"]\n",
    "    temp = full_df.groupby(['Age']).agg({'Spending_Score':['count','mean','sum'],\n",
    "                                   'Work_Experience':['count','sum','min','max','mean'],\n",
    "                                   'Profession':['min','max','count'],\n",
    "                                           'Graduated':['count'],\n",
    "                                   'Ever_Married':['count'],\n",
    "                                    'Gender':['count'], \n",
    "                                       'Family_Size':['count','sum','min','max'],\n",
    "                                       'Age':['count'],\n",
    "                                    'Var_1':['count','max','min']})\n",
    "    temp.columns = ['_'.join(x) for x in temp.columns]\n",
    "    full_df = pd.merge(full_df,temp,on=['Age'],how='left')\n",
    "    \n",
    "    temp = full_df.groupby(['Profession']).agg({\n",
    "                                           'Age':['count','sum','min','max']})\n",
    "    temp.columns = ['_Prof_'.join(x) for x in temp.columns]\n",
    "    full_df = pd.merge(full_df,temp,on=['Profession'],how='left')\n",
    "    \n",
    "    \n",
    "    full_df['Age_Bins'] = full_df['Age'].apply(lambda x:get_age_groups(x))\n",
    "    full_df['Age_Bins'] = full_df['Age_Bins'].map(map_bins)\n",
    "    \n",
    "    return full_df"
   ]
  },
  {
   "cell_type": "code",
   "execution_count": 128,
   "metadata": {},
   "outputs": [],
   "source": [
    "\n",
    "def impute_num_missing(dataset):\n",
    "    numeric_colnames = dataset._get_numeric_data().columns\n",
    "    imputed_training=fast_knn(dataset._get_numeric_data().values, k=10)\n",
    "    imputed_training = pd.DataFrame(imputed_training, columns = numeric_colnames)\n",
    "    imputed_training.head()\n",
    "\n",
    "    dataset = dataset.drop(dataset.drop('ID', axis=1)._get_numeric_data().columns, axis=1)\n",
    "    dataset = pd.merge(dataset, imputed_training, how='left', on = ['ID'])\n",
    "    return dataset"
   ]
  },
  {
   "cell_type": "code",
   "execution_count": 129,
   "metadata": {},
   "outputs": [],
   "source": [
    "# Basic data cleaning\n",
    "train, test = get_datasets()\n",
    "train = clean_data(train)\n",
    "test = clean_data(test)\n",
    "train = impute_num_missing(train)\n",
    "test = impute_num_missing(test)"
   ]
  },
  {
   "cell_type": "code",
   "execution_count": 114,
   "metadata": {},
   "outputs": [],
   "source": [
    "train = add_features(train)\n",
    "#test = add_features(test)"
   ]
  },
  {
   "cell_type": "code",
   "execution_count": 115,
   "metadata": {},
   "outputs": [],
   "source": [
    "train = train.drop('ID', axis=1)"
   ]
  },
  {
   "cell_type": "code",
   "execution_count": 130,
   "metadata": {},
   "outputs": [
    {
     "data": {
      "text/plain": [
       "(6454, 10)"
      ]
     },
     "execution_count": 130,
     "metadata": {},
     "output_type": "execute_result"
    }
   ],
   "source": [
    "def create_test_train(train):\n",
    "    X = train.drop('Segmentation', axis=1)\n",
    "    Y = train['Segmentation']\n",
    "    X_train, X_test, y_train, y_test = train_test_split(X, Y,test_size=0.2, random_state=1000)\n",
    "    return(X_train, X_test, y_train, y_test)\n",
    "\n",
    "\n",
    "X_train, X_test, y_train, y_test = create_test_train(train)\n",
    "X_train.shape\n"
   ]
  },
  {
   "cell_type": "code",
   "execution_count": 119,
   "metadata": {},
   "outputs": [
    {
     "data": {
      "text/plain": [
       "Gender                   0\n",
       "Ever_Married             0\n",
       "Graduated                0\n",
       "Profession               0\n",
       "Spending_Score           0\n",
       "Var_1                    0\n",
       "Age                      0\n",
       "Work_Experience          0\n",
       "Family_Size              0\n",
       "Prof+Grad                0\n",
       "Var1_Family              0\n",
       "Spending_Score_count     0\n",
       "Spending_Score_mean      0\n",
       "Spending_Score_sum       0\n",
       "Work_Experience_count    0\n",
       "Work_Experience_sum      0\n",
       "Work_Experience_min      0\n",
       "Work_Experience_max      0\n",
       "Work_Experience_mean     0\n",
       "Profession_min           0\n",
       "Profession_max           0\n",
       "Profession_count         0\n",
       "Graduated_count          0\n",
       "Ever_Married_count       0\n",
       "Gender_count             0\n",
       "Family_Size_count        0\n",
       "Family_Size_sum          0\n",
       "Family_Size_min          0\n",
       "Family_Size_max          0\n",
       "Age_count                0\n",
       "Var_1_count              0\n",
       "Var_1_max                0\n",
       "Var_1_min                0\n",
       "Age_Prof_count           0\n",
       "Age_Prof_sum             0\n",
       "Age_Prof_min             0\n",
       "Age_Prof_max             0\n",
       "Age_Bins                 0\n",
       "dtype: int64"
      ]
     },
     "execution_count": 119,
     "metadata": {},
     "output_type": "execute_result"
    }
   ],
   "source": [
    "X_train.fillna(-9999,inplace=True)\n",
    "X_train.isnull().sum()"
   ]
  },
  {
   "cell_type": "code",
   "execution_count": 131,
   "metadata": {},
   "outputs": [],
   "source": [
    "X_train_dum = pd.get_dummies(X_train)\n",
    "X_test_dum = pd.get_dummies(X_test)\n",
    "#y_train_mapped = y_train.map({'A':1, 'B':2, 'C':3, 'D':4})\n",
    "#y_test_mapped = y_test.map({'A':1, 'B':2, 'C':3, 'D':4})"
   ]
  },
  {
   "cell_type": "code",
   "execution_count": 132,
   "metadata": {},
   "outputs": [
    {
     "data": {
      "text/html": [
       "<div>\n",
       "<style scoped>\n",
       "    .dataframe tbody tr th:only-of-type {\n",
       "        vertical-align: middle;\n",
       "    }\n",
       "\n",
       "    .dataframe tbody tr th {\n",
       "        vertical-align: top;\n",
       "    }\n",
       "\n",
       "    .dataframe thead th {\n",
       "        text-align: right;\n",
       "    }\n",
       "</style>\n",
       "<table border=\"1\" class=\"dataframe\">\n",
       "  <thead>\n",
       "    <tr style=\"text-align: right;\">\n",
       "      <th></th>\n",
       "      <th>ID</th>\n",
       "      <th>Ever_Married</th>\n",
       "      <th>Age</th>\n",
       "      <th>Graduated</th>\n",
       "      <th>Work_Experience</th>\n",
       "      <th>Family_Size</th>\n",
       "      <th>Gender_Female</th>\n",
       "      <th>Gender_Male</th>\n",
       "      <th>Profession_Artist</th>\n",
       "      <th>Profession_Doctor</th>\n",
       "      <th>...</th>\n",
       "      <th>Profession_Homemaker</th>\n",
       "      <th>Profession_Lawyer</th>\n",
       "      <th>Profession_Marketing</th>\n",
       "      <th>Spending_Score_Average</th>\n",
       "      <th>Spending_Score_High</th>\n",
       "      <th>Spending_Score_Low</th>\n",
       "      <th>Var_1_Cat_3</th>\n",
       "      <th>Var_1_Cat_4</th>\n",
       "      <th>Var_1_Cat_6</th>\n",
       "      <th>Var_1_Cat_8</th>\n",
       "    </tr>\n",
       "  </thead>\n",
       "  <tbody>\n",
       "    <tr>\n",
       "      <th>147</th>\n",
       "      <td>461740</td>\n",
       "      <td>1.0</td>\n",
       "      <td>80.0</td>\n",
       "      <td>1.0</td>\n",
       "      <td>1.0</td>\n",
       "      <td>1.0</td>\n",
       "      <td>0</td>\n",
       "      <td>1</td>\n",
       "      <td>0</td>\n",
       "      <td>0</td>\n",
       "      <td>...</td>\n",
       "      <td>0</td>\n",
       "      <td>1</td>\n",
       "      <td>0</td>\n",
       "      <td>0</td>\n",
       "      <td>0</td>\n",
       "      <td>1</td>\n",
       "      <td>0</td>\n",
       "      <td>0</td>\n",
       "      <td>1</td>\n",
       "      <td>0</td>\n",
       "    </tr>\n",
       "    <tr>\n",
       "      <th>5279</th>\n",
       "      <td>463393</td>\n",
       "      <td>1.0</td>\n",
       "      <td>38.0</td>\n",
       "      <td>1.0</td>\n",
       "      <td>6.0</td>\n",
       "      <td>2.0</td>\n",
       "      <td>1</td>\n",
       "      <td>0</td>\n",
       "      <td>1</td>\n",
       "      <td>0</td>\n",
       "      <td>...</td>\n",
       "      <td>0</td>\n",
       "      <td>0</td>\n",
       "      <td>0</td>\n",
       "      <td>0</td>\n",
       "      <td>0</td>\n",
       "      <td>1</td>\n",
       "      <td>1</td>\n",
       "      <td>0</td>\n",
       "      <td>0</td>\n",
       "      <td>0</td>\n",
       "    </tr>\n",
       "    <tr>\n",
       "      <th>5762</th>\n",
       "      <td>462456</td>\n",
       "      <td>0.0</td>\n",
       "      <td>18.0</td>\n",
       "      <td>0.0</td>\n",
       "      <td>0.0</td>\n",
       "      <td>8.0</td>\n",
       "      <td>0</td>\n",
       "      <td>1</td>\n",
       "      <td>0</td>\n",
       "      <td>0</td>\n",
       "      <td>...</td>\n",
       "      <td>0</td>\n",
       "      <td>0</td>\n",
       "      <td>0</td>\n",
       "      <td>0</td>\n",
       "      <td>0</td>\n",
       "      <td>1</td>\n",
       "      <td>0</td>\n",
       "      <td>0</td>\n",
       "      <td>1</td>\n",
       "      <td>0</td>\n",
       "    </tr>\n",
       "    <tr>\n",
       "      <th>650</th>\n",
       "      <td>464427</td>\n",
       "      <td>1.0</td>\n",
       "      <td>62.0</td>\n",
       "      <td>1.0</td>\n",
       "      <td>1.0</td>\n",
       "      <td>4.0</td>\n",
       "      <td>0</td>\n",
       "      <td>1</td>\n",
       "      <td>0</td>\n",
       "      <td>1</td>\n",
       "      <td>...</td>\n",
       "      <td>0</td>\n",
       "      <td>0</td>\n",
       "      <td>0</td>\n",
       "      <td>1</td>\n",
       "      <td>0</td>\n",
       "      <td>0</td>\n",
       "      <td>1</td>\n",
       "      <td>0</td>\n",
       "      <td>0</td>\n",
       "      <td>0</td>\n",
       "    </tr>\n",
       "    <tr>\n",
       "      <th>5274</th>\n",
       "      <td>467946</td>\n",
       "      <td>1.0</td>\n",
       "      <td>40.0</td>\n",
       "      <td>1.0</td>\n",
       "      <td>0.0</td>\n",
       "      <td>2.0</td>\n",
       "      <td>1</td>\n",
       "      <td>0</td>\n",
       "      <td>1</td>\n",
       "      <td>0</td>\n",
       "      <td>...</td>\n",
       "      <td>0</td>\n",
       "      <td>0</td>\n",
       "      <td>0</td>\n",
       "      <td>0</td>\n",
       "      <td>0</td>\n",
       "      <td>1</td>\n",
       "      <td>0</td>\n",
       "      <td>0</td>\n",
       "      <td>1</td>\n",
       "      <td>0</td>\n",
       "    </tr>\n",
       "  </tbody>\n",
       "</table>\n",
       "<p>5 rows × 24 columns</p>\n",
       "</div>"
      ],
      "text/plain": [
       "          ID  Ever_Married   Age  Graduated  Work_Experience  Family_Size  \\\n",
       "147   461740           1.0  80.0        1.0              1.0          1.0   \n",
       "5279  463393           1.0  38.0        1.0              6.0          2.0   \n",
       "5762  462456           0.0  18.0        0.0              0.0          8.0   \n",
       "650   464427           1.0  62.0        1.0              1.0          4.0   \n",
       "5274  467946           1.0  40.0        1.0              0.0          2.0   \n",
       "\n",
       "      Gender_Female  Gender_Male  Profession_Artist  Profession_Doctor  ...  \\\n",
       "147               0            1                  0                  0  ...   \n",
       "5279              1            0                  1                  0  ...   \n",
       "5762              0            1                  0                  0  ...   \n",
       "650               0            1                  0                  1  ...   \n",
       "5274              1            0                  1                  0  ...   \n",
       "\n",
       "      Profession_Homemaker  Profession_Lawyer  Profession_Marketing  \\\n",
       "147                      0                  1                     0   \n",
       "5279                     0                  0                     0   \n",
       "5762                     0                  0                     0   \n",
       "650                      0                  0                     0   \n",
       "5274                     0                  0                     0   \n",
       "\n",
       "      Spending_Score_Average  Spending_Score_High  Spending_Score_Low  \\\n",
       "147                        0                    0                   1   \n",
       "5279                       0                    0                   1   \n",
       "5762                       0                    0                   1   \n",
       "650                        1                    0                   0   \n",
       "5274                       0                    0                   1   \n",
       "\n",
       "      Var_1_Cat_3  Var_1_Cat_4  Var_1_Cat_6  Var_1_Cat_8  \n",
       "147             0            0            1            0  \n",
       "5279            1            0            0            0  \n",
       "5762            0            0            1            0  \n",
       "650             1            0            0            0  \n",
       "5274            0            0            1            0  \n",
       "\n",
       "[5 rows x 24 columns]"
      ]
     },
     "execution_count": 132,
     "metadata": {},
     "output_type": "execute_result"
    }
   ],
   "source": [
    "X_test_dum.head()"
   ]
  },
  {
   "cell_type": "code",
   "execution_count": 133,
   "metadata": {},
   "outputs": [
    {
     "name": "stdout",
     "output_type": "stream",
     "text": [
      "Accuracy Score - Test:  0.315365551425031\n"
     ]
    }
   ],
   "source": [
    "# Linear Regression\n",
    "model_linear = LinearRegression()\n",
    "model_linear.fit(X_train_dum, y_train_mapped)\n",
    "in_sample_preds_lin = model_linear.predict(X_test_dum)\n",
    "print(\"Accuracy Score - Test: \", accuracy_score(y_test_mapped, np.round(in_sample_preds_lin)))"
   ]
  },
  {
   "cell_type": "code",
   "execution_count": 82,
   "metadata": {},
   "outputs": [
    {
     "name": "stdout",
     "output_type": "stream",
     "text": [
      "Accuracy Score - Test:  0.5105328376703842\n"
     ]
    },
    {
     "name": "stderr",
     "output_type": "stream",
     "text": [
      "C:\\ProgramData\\Anaconda3\\lib\\site-packages\\sklearn\\linear_model\\logistic.py:432: FutureWarning: Default solver will be changed to 'lbfgs' in 0.22. Specify a solver to silence this warning.\n",
      "  FutureWarning)\n"
     ]
    }
   ],
   "source": [
    "# 1 vs Rest\n",
    "model_1vR = LogisticRegression(multi_class='ovr', class_weight='balanced', max_iter=500)\n",
    "model_1vR.fit(X_train_dum, y_train)\n",
    "in_sample_preds_1vR = model_1vR.predict(X_test_dum)\n",
    "print(\"Accuracy Score - Test: \", accuracy_score(y_test, in_sample_preds_1vR))"
   ]
  },
  {
   "cell_type": "code",
   "execution_count": 282,
   "metadata": {},
   "outputs": [
    {
     "name": "stdout",
     "output_type": "stream",
     "text": [
      "{'randomforestclassifier__min_samples_leaf': 8, 'randomforestclassifier__n_estimators': 1500}\n",
      "79.296875\n"
     ]
    }
   ],
   "source": [
    "# Random Forest\n",
    "def random_forest_model(X_train_dum, y_train):\n",
    "    \n",
    "    pipe = make_pipeline(StandardScaler(), \n",
    "                         RandomForestClassifier(random_state=2020, n_jobs=-1))\n",
    "    pipe\n",
    "\n",
    "    param_grid = {'randomforestclassifier__n_estimators': [1000,1500],\n",
    "                  'randomforestclassifier__min_samples_leaf': [8,10]}\n",
    "    gs = GridSearchCV(pipe, param_grid, cv=5)\n",
    "    gs.fit(X_train_dum, y_train.values.ravel())\n",
    "    print(gs.best_params_)\n",
    "\n",
    "    return gs\n",
    "\n",
    "start = time.process_time()\n",
    "gs = random_forest_model(X_train_dum, y_train)\n",
    "print(time.process_time() - start)"
   ]
  },
  {
   "cell_type": "code",
   "execution_count": 174,
   "metadata": {},
   "outputs": [
    {
     "name": "stdout",
     "output_type": "stream",
     "text": [
      "Accuracy Score - Train:  0.6344902386117137\n",
      "Accuracy Score - Test:  0.533457249070632\n"
     ]
    }
   ],
   "source": [
    "rfc = RandomForestClassifier(n_estimators = 300,\n",
    "                            max_depth = 15,\n",
    "                             n_jobs = -1,\n",
    "                             min_samples_leaf = 8\n",
    "                             \n",
    "                            )\n",
    "rfc.fit(X_train_dum, y_train)\n",
    "in_sample_preds = rfc.predict(X_train_dum)\n",
    "print(\"Accuracy Score - Train: \", accuracy_score(y_train, in_sample_preds))\n",
    "\n",
    "in_sample_preds_rf = rfc.predict(X_test_dum)\n",
    "print(\"Accuracy Score - Test: \", accuracy_score(y_test, in_sample_preds_rf))"
   ]
  },
  {
   "cell_type": "code",
   "execution_count": 307,
   "metadata": {},
   "outputs": [
    {
     "name": "stdout",
     "output_type": "stream",
     "text": [
      "Fitting 3 folds for each of 100 candidates, totalling 300 fits\n"
     ]
    },
    {
     "name": "stderr",
     "output_type": "stream",
     "text": [
      "[Parallel(n_jobs=-1)]: Using backend LokyBackend with 8 concurrent workers.\n",
      "[Parallel(n_jobs=-1)]: Done  25 tasks      | elapsed:   58.6s\n",
      "[Parallel(n_jobs=-1)]: Done 146 tasks      | elapsed:  5.6min\n",
      "[Parallel(n_jobs=-1)]: Done 300 out of 300 | elapsed: 11.9min finished\n"
     ]
    },
    {
     "data": {
      "text/plain": [
       "RandomizedSearchCV(cv=3, error_score='raise-deprecating',\n",
       "                   estimator=RandomForestClassifier(bootstrap=True,\n",
       "                                                    class_weight=None,\n",
       "                                                    criterion='gini',\n",
       "                                                    max_depth=None,\n",
       "                                                    max_features='auto',\n",
       "                                                    max_leaf_nodes=None,\n",
       "                                                    min_impurity_decrease=0.0,\n",
       "                                                    min_impurity_split=None,\n",
       "                                                    min_samples_leaf=1,\n",
       "                                                    min_samples_split=2,\n",
       "                                                    min_weight_fraction_leaf=0.0,\n",
       "                                                    n_estimators='warn',\n",
       "                                                    n_jobs=None,\n",
       "                                                    oob_score=False,\n",
       "                                                    random_state=None,\n",
       "                                                    verbose=0,\n",
       "                                                    warm_start=False),\n",
       "                   iid='warn', n_iter=100, n_jobs=-1,\n",
       "                   param_distributions={'max_depth': [100, 140, 180, 220, 260,\n",
       "                                                      300, 340, 380, 420, 460,\n",
       "                                                      500],\n",
       "                                        'n_estimators': [200, 400, 600, 800,\n",
       "                                                         1000, 1200, 1400, 1600,\n",
       "                                                         1800, 2000]},\n",
       "                   pre_dispatch='2*n_jobs', random_state=42, refit=True,\n",
       "                   return_train_score=False, scoring=None, verbose=2)"
      ]
     },
     "execution_count": 307,
     "metadata": {},
     "output_type": "execute_result"
    }
   ],
   "source": [
    "rfc = RandomForestClassifier()\n",
    "\n",
    "# number of trees in random forest\n",
    "n_estimators = [int(x) for x in np.linspace(start = 200, stop = 2000, num = 10)]\n",
    "\n",
    "# max depth\n",
    "max_depth = [int(x) for x in np.linspace(100, 500, num = 11)]\n",
    "\n",
    "\n",
    "random_grid = {\n",
    " 'n_estimators': n_estimators,\n",
    " 'max_depth': max_depth\n",
    " }\n",
    "# Random search of parameters\n",
    "rfc_random = RandomizedSearchCV(estimator = rfc, param_distributions = random_grid, n_iter = 100, cv = 3, verbose=2, random_state=42, n_jobs = -1)\n",
    "# Fit the model\n",
    "rfc_random.fit(X_train_dum, y_train)\n",
    "# print results"
   ]
  },
  {
   "cell_type": "code",
   "execution_count": 326,
   "metadata": {},
   "outputs": [
    {
     "name": "stdout",
     "output_type": "stream",
     "text": [
      "Accuracy Score - Train:  0.9480942051440967\n",
      "Accuracy Score - Test:  0.46158612143742256\n"
     ]
    }
   ],
   "source": [
    "in_sample_preds = rfc_random.predict(X_train_dum)\n",
    "print(\"Accuracy Score - Train: \", accuracy_score(y_train, in_sample_preds))\n",
    "\n",
    "in_sample_preds_rf = rfc_random.predict(X_test_dum)\n",
    "print(\"Accuracy Score - Test: \", accuracy_score(y_test, in_sample_preds_rf))"
   ]
  },
  {
   "cell_type": "code",
   "execution_count": 309,
   "metadata": {},
   "outputs": [
    {
     "data": {
      "text/plain": [
       "<bound method BaseEstimator.get_params of RandomizedSearchCV(cv=3, error_score='raise-deprecating',\n",
       "                   estimator=RandomForestClassifier(bootstrap=True,\n",
       "                                                    class_weight=None,\n",
       "                                                    criterion='gini',\n",
       "                                                    max_depth=None,\n",
       "                                                    max_features='auto',\n",
       "                                                    max_leaf_nodes=None,\n",
       "                                                    min_impurity_decrease=0.0,\n",
       "                                                    min_impurity_split=None,\n",
       "                                                    min_samples_leaf=1,\n",
       "                                                    min_samples_split=2,\n",
       "                                                    min_weight_fraction_leaf=0.0,\n",
       "                                                    n_estimators='warn',\n",
       "                                                    n_jobs=None,\n",
       "                                                    oob_score=False,\n",
       "                                                    random_state=None,\n",
       "                                                    verbose=0,\n",
       "                                                    warm_start=False),\n",
       "                   iid='warn', n_iter=100, n_jobs=-1,\n",
       "                   param_distributions={'max_depth': [100, 140, 180, 220, 260,\n",
       "                                                      300, 340, 380, 420, 460,\n",
       "                                                      500],\n",
       "                                        'n_estimators': [200, 400, 600, 800,\n",
       "                                                         1000, 1200, 1400, 1600,\n",
       "                                                         1800, 2000]},\n",
       "                   pre_dispatch='2*n_jobs', random_state=42, refit=True,\n",
       "                   return_train_score=False, scoring=None, verbose=2)>"
      ]
     },
     "execution_count": 309,
     "metadata": {},
     "output_type": "execute_result"
    }
   ],
   "source": [
    "rfc_random.get_params"
   ]
  },
  {
   "cell_type": "code",
   "execution_count": 311,
   "metadata": {},
   "outputs": [
    {
     "data": {
      "text/plain": [
       "{'n_estimators': 1600, 'max_depth': 300}"
      ]
     },
     "execution_count": 311,
     "metadata": {},
     "output_type": "execute_result"
    }
   ],
   "source": [
    "rfc_random.best_params_"
   ]
  },
  {
   "cell_type": "code",
   "execution_count": 322,
   "metadata": {},
   "outputs": [],
   "source": [
    "new_params = {'estimator__n_estimators': 1600, 'estimator__max_depth': 300}\n",
    "for k, v in new_params.items():\n",
    "    rfc_random = rfc_random.set_params(**{k: v})"
   ]
  },
  {
   "cell_type": "code",
   "execution_count": 323,
   "metadata": {},
   "outputs": [
    {
     "data": {
      "text/plain": [
       "{'cv': 3,\n",
       " 'error_score': 'raise-deprecating',\n",
       " 'estimator__bootstrap': True,\n",
       " 'estimator__class_weight': None,\n",
       " 'estimator__criterion': 'gini',\n",
       " 'estimator__max_depth': 300,\n",
       " 'estimator__max_features': 'auto',\n",
       " 'estimator__max_leaf_nodes': None,\n",
       " 'estimator__min_impurity_decrease': 0.0,\n",
       " 'estimator__min_impurity_split': None,\n",
       " 'estimator__min_samples_leaf': 1,\n",
       " 'estimator__min_samples_split': 2,\n",
       " 'estimator__min_weight_fraction_leaf': 0.0,\n",
       " 'estimator__n_estimators': 1600,\n",
       " 'estimator__n_jobs': None,\n",
       " 'estimator__oob_score': False,\n",
       " 'estimator__random_state': None,\n",
       " 'estimator__verbose': 0,\n",
       " 'estimator__warm_start': False,\n",
       " 'estimator': RandomForestClassifier(bootstrap=True, class_weight=None, criterion='gini',\n",
       "                        max_depth=300, max_features='auto', max_leaf_nodes=None,\n",
       "                        min_impurity_decrease=0.0, min_impurity_split=None,\n",
       "                        min_samples_leaf=1, min_samples_split=2,\n",
       "                        min_weight_fraction_leaf=0.0, n_estimators=1600,\n",
       "                        n_jobs=None, oob_score=False, random_state=None,\n",
       "                        verbose=0, warm_start=False),\n",
       " 'iid': 'warn',\n",
       " 'n_iter': 100,\n",
       " 'n_jobs': -1,\n",
       " 'param_distributions': {'n_estimators': [200,\n",
       "   400,\n",
       "   600,\n",
       "   800,\n",
       "   1000,\n",
       "   1200,\n",
       "   1400,\n",
       "   1600,\n",
       "   1800,\n",
       "   2000],\n",
       "  'max_depth': [100, 140, 180, 220, 260, 300, 340, 380, 420, 460, 500]},\n",
       " 'pre_dispatch': '2*n_jobs',\n",
       " 'random_state': 42,\n",
       " 'refit': True,\n",
       " 'return_train_score': False,\n",
       " 'scoring': None,\n",
       " 'verbose': 2}"
      ]
     },
     "execution_count": 323,
     "metadata": {},
     "output_type": "execute_result"
    }
   ],
   "source": [
    "rfc_random.get_params()"
   ]
  },
  {
   "cell_type": "code",
   "execution_count": 176,
   "metadata": {},
   "outputs": [],
   "source": [
    "# XGBoost\n",
    "xgb1 = xgb.XGBClassifier(\n",
    "learning_rate =0.2,\n",
    "n_estimators=400,\n",
    "max_depth=3,\n",
    "min_child_weight=3,\n",
    "gamma=0,\n",
    "subsample=0.8,\n",
    "colsample_bytree=0.8,\n",
    "objective= 'multi:softmax',\n",
    "scale_pos_weight=0,\n",
    "seed=27,\n",
    "num_class=4,\n",
    "verbose = 10)\n",
    "\n"
   ]
  },
  {
   "cell_type": "code",
   "execution_count": null,
   "metadata": {},
   "outputs": [],
   "source": [
    "start = time.process_time()\n",
    "\n",
    "param_test1 = {'learning_rate':[0.03, 0.05, 0.1, 0.2],\n",
    "               'max_depth':[4,10,15,25],\n",
    "               'min_child_weight':[1,2,5,10],\n",
    "                'subsample':[0.5,0.7,1],\n",
    "                'colsample_bylevel':[0.45,0.7,1],\n",
    "                'colsample_bytree':[0.45,0.7,1],\n",
    "                'gamma':[0,0.1,0.5,1],\n",
    "               'n_estimators':[100,200,300]\n",
    "}\n",
    "\n",
    "gsearch1 = GridSearchCV(estimator = xgb1, param_grid = param_test1, cv =5, n_jobs=-1)\n",
    "gsearch1.fit(X_train_dum, y_train_mapped)\n",
    "print(gsearch1.best_params_, gsearch1.best_score_)\n",
    "\n",
    "print(time.process_time() - start)"
   ]
  },
  {
   "cell_type": "code",
   "execution_count": 254,
   "metadata": {},
   "outputs": [
    {
     "data": {
      "text/plain": [
       "{'learning_rate': 0.2}"
      ]
     },
     "execution_count": 254,
     "metadata": {},
     "output_type": "execute_result"
    }
   ],
   "source": [
    "gsearch1.best_params_"
   ]
  },
  {
   "cell_type": "code",
   "execution_count": null,
   "metadata": {},
   "outputs": [],
   "source": [
    "y_test_mapped = y_test.map({'A':1, 'B':2, 'C':3, 'D':4})"
   ]
  },
  {
   "cell_type": "code",
   "execution_count": 255,
   "metadata": {},
   "outputs": [
    {
     "name": "stdout",
     "output_type": "stream",
     "text": [
      "32.640625\n"
     ]
    }
   ],
   "source": [
    "#y_train_mapped = y_train.map({'A':1, 'B':2, 'C':3, 'D':4})\n",
    "#X_train_dum = X_train_dum.astype('int32')\n",
    "\n",
    "xgb_param = xgb1.get_xgb_params()\n",
    "xgb_param\n",
    "\n",
    "start = time.process_time()\n",
    "xgdmat = xgb.DMatrix(X_train_dum, y_train_mapped.values-1)\n",
    "cvresult = xgb.cv(xgb_param, xgdmat, num_boost_round=xgb1.get_params()['n_estimators'], nfold=3,\n",
    "            early_stopping_rounds=100)\n",
    "xgb1.set_params(n_estimators=cvresult.shape[0])\n",
    "\n",
    "xgb1.fit(X_train_dum, y_train_mapped.values-1)\n",
    "print(time.process_time() - start)"
   ]
  },
  {
   "cell_type": "code",
   "execution_count": 256,
   "metadata": {},
   "outputs": [
    {
     "name": "stdout",
     "output_type": "stream",
     "text": [
      "Accuracy Score - Test:  0.5415117719950434\n"
     ]
    }
   ],
   "source": [
    "test_xgb = xgb.DMatrix(X_test_dum)\n",
    "in_sample_preds_xgb= (xgb1.predict(X_test_dum)+1).astype(int)\n",
    "print(\"Accuracy Score - Test: \", accuracy_score(y_test_mapped, in_sample_preds_xgb))"
   ]
  },
  {
   "cell_type": "code",
   "execution_count": 259,
   "metadata": {},
   "outputs": [
    {
     "data": {
      "text/plain": [
       "ID                   0\n",
       "Gender               0\n",
       "Ever_Married        50\n",
       "Age                  0\n",
       "Graduated           24\n",
       "Profession           0\n",
       "Work_Experience    269\n",
       "Spending_Score       0\n",
       "Family_Size        113\n",
       "Var_1                0\n",
       "dtype: int64"
      ]
     },
     "execution_count": 259,
     "metadata": {},
     "output_type": "execute_result"
    }
   ],
   "source": [
    "test.isnull().sum()"
   ]
  },
  {
   "cell_type": "code",
   "execution_count": 276,
   "metadata": {},
   "outputs": [
    {
     "data": {
      "text/plain": [
       "26"
      ]
     },
     "execution_count": 276,
     "metadata": {},
     "output_type": "execute_result"
    }
   ],
   "source": [
    "\n",
    "dummy_columns = list(pd.get_dummies(train.drop(['Segmentation','ID'], axis=1)).columns)\n",
    "len(dummy_columns)"
   ]
  },
  {
   "cell_type": "code",
   "execution_count": 275,
   "metadata": {},
   "outputs": [
    {
     "data": {
      "text/plain": [
       "26"
      ]
     },
     "execution_count": 275,
     "metadata": {},
     "output_type": "execute_result"
    }
   ],
   "source": [
    "len(var_imp)"
   ]
  },
  {
   "cell_type": "code",
   "execution_count": 277,
   "metadata": {},
   "outputs": [
    {
     "data": {
      "text/html": [
       "<div>\n",
       "<style scoped>\n",
       "    .dataframe tbody tr th:only-of-type {\n",
       "        vertical-align: middle;\n",
       "    }\n",
       "\n",
       "    .dataframe tbody tr th {\n",
       "        vertical-align: top;\n",
       "    }\n",
       "\n",
       "    .dataframe thead th {\n",
       "        text-align: right;\n",
       "    }\n",
       "</style>\n",
       "<table border=\"1\" class=\"dataframe\">\n",
       "  <thead>\n",
       "    <tr style=\"text-align: right;\">\n",
       "      <th></th>\n",
       "      <th>Variable</th>\n",
       "      <th>Importance</th>\n",
       "    </tr>\n",
       "  </thead>\n",
       "  <tbody>\n",
       "    <tr>\n",
       "      <th>1</th>\n",
       "      <td>Age</td>\n",
       "      <td>0.258367</td>\n",
       "    </tr>\n",
       "    <tr>\n",
       "      <th>12</th>\n",
       "      <td>Profession_Healthcare</td>\n",
       "      <td>0.097593</td>\n",
       "    </tr>\n",
       "    <tr>\n",
       "      <th>7</th>\n",
       "      <td>Profession_Artist</td>\n",
       "      <td>0.096010</td>\n",
       "    </tr>\n",
       "    <tr>\n",
       "      <th>18</th>\n",
       "      <td>Spending_Score_Low</td>\n",
       "      <td>0.086896</td>\n",
       "    </tr>\n",
       "    <tr>\n",
       "      <th>2</th>\n",
       "      <td>Graduated</td>\n",
       "      <td>0.071149</td>\n",
       "    </tr>\n",
       "    <tr>\n",
       "      <th>0</th>\n",
       "      <td>Ever_Married</td>\n",
       "      <td>0.069637</td>\n",
       "    </tr>\n",
       "    <tr>\n",
       "      <th>4</th>\n",
       "      <td>Family_Size</td>\n",
       "      <td>0.062534</td>\n",
       "    </tr>\n",
       "    <tr>\n",
       "      <th>3</th>\n",
       "      <td>Work_Experience</td>\n",
       "      <td>0.050501</td>\n",
       "    </tr>\n",
       "    <tr>\n",
       "      <th>16</th>\n",
       "      <td>Spending_Score_Average</td>\n",
       "      <td>0.046417</td>\n",
       "    </tr>\n",
       "    <tr>\n",
       "      <th>24</th>\n",
       "      <td>Var_1_Cat_6</td>\n",
       "      <td>0.018852</td>\n",
       "    </tr>\n",
       "    <tr>\n",
       "      <th>10</th>\n",
       "      <td>Profession_Entertainment</td>\n",
       "      <td>0.018703</td>\n",
       "    </tr>\n",
       "    <tr>\n",
       "      <th>22</th>\n",
       "      <td>Var_1_Cat_4</td>\n",
       "      <td>0.016816</td>\n",
       "    </tr>\n",
       "    <tr>\n",
       "      <th>5</th>\n",
       "      <td>Gender_Female</td>\n",
       "      <td>0.016045</td>\n",
       "    </tr>\n",
       "    <tr>\n",
       "      <th>6</th>\n",
       "      <td>Gender_Male</td>\n",
       "      <td>0.015951</td>\n",
       "    </tr>\n",
       "    <tr>\n",
       "      <th>15</th>\n",
       "      <td>Profession_Marketing</td>\n",
       "      <td>0.014254</td>\n",
       "    </tr>\n",
       "    <tr>\n",
       "      <th>17</th>\n",
       "      <td>Spending_Score_High</td>\n",
       "      <td>0.013827</td>\n",
       "    </tr>\n",
       "    <tr>\n",
       "      <th>9</th>\n",
       "      <td>Profession_Engineer</td>\n",
       "      <td>0.012264</td>\n",
       "    </tr>\n",
       "    <tr>\n",
       "      <th>8</th>\n",
       "      <td>Profession_Doctor</td>\n",
       "      <td>0.007767</td>\n",
       "    </tr>\n",
       "    <tr>\n",
       "      <th>11</th>\n",
       "      <td>Profession_Executive</td>\n",
       "      <td>0.007158</td>\n",
       "    </tr>\n",
       "    <tr>\n",
       "      <th>14</th>\n",
       "      <td>Profession_Lawyer</td>\n",
       "      <td>0.006150</td>\n",
       "    </tr>\n",
       "    <tr>\n",
       "      <th>21</th>\n",
       "      <td>Var_1_Cat_3</td>\n",
       "      <td>0.004827</td>\n",
       "    </tr>\n",
       "    <tr>\n",
       "      <th>13</th>\n",
       "      <td>Profession_Homemaker</td>\n",
       "      <td>0.003697</td>\n",
       "    </tr>\n",
       "    <tr>\n",
       "      <th>20</th>\n",
       "      <td>Var_1_Cat_2</td>\n",
       "      <td>0.003666</td>\n",
       "    </tr>\n",
       "    <tr>\n",
       "      <th>25</th>\n",
       "      <td>Var_1_Cat_7</td>\n",
       "      <td>0.000591</td>\n",
       "    </tr>\n",
       "    <tr>\n",
       "      <th>19</th>\n",
       "      <td>Var_1_Cat_1</td>\n",
       "      <td>0.000257</td>\n",
       "    </tr>\n",
       "    <tr>\n",
       "      <th>23</th>\n",
       "      <td>Var_1_Cat_5</td>\n",
       "      <td>0.000071</td>\n",
       "    </tr>\n",
       "  </tbody>\n",
       "</table>\n",
       "</div>"
      ],
      "text/plain": [
       "                    Variable  Importance\n",
       "1                        Age    0.258367\n",
       "12     Profession_Healthcare    0.097593\n",
       "7          Profession_Artist    0.096010\n",
       "18        Spending_Score_Low    0.086896\n",
       "2                  Graduated    0.071149\n",
       "0               Ever_Married    0.069637\n",
       "4                Family_Size    0.062534\n",
       "3            Work_Experience    0.050501\n",
       "16    Spending_Score_Average    0.046417\n",
       "24               Var_1_Cat_6    0.018852\n",
       "10  Profession_Entertainment    0.018703\n",
       "22               Var_1_Cat_4    0.016816\n",
       "5              Gender_Female    0.016045\n",
       "6                Gender_Male    0.015951\n",
       "15      Profession_Marketing    0.014254\n",
       "17       Spending_Score_High    0.013827\n",
       "9        Profession_Engineer    0.012264\n",
       "8          Profession_Doctor    0.007767\n",
       "11      Profession_Executive    0.007158\n",
       "14         Profession_Lawyer    0.006150\n",
       "21               Var_1_Cat_3    0.004827\n",
       "13      Profession_Homemaker    0.003697\n",
       "20               Var_1_Cat_2    0.003666\n",
       "25               Var_1_Cat_7    0.000591\n",
       "19               Var_1_Cat_1    0.000257\n",
       "23               Var_1_Cat_5    0.000071"
      ]
     },
     "execution_count": 277,
     "metadata": {},
     "output_type": "execute_result"
    }
   ],
   "source": [
    "var_imp = gs.best_estimator_.named_steps.randomforestclassifier.feature_importances_\n",
    "var_imp.shape\n",
    "\n",
    "dummy_columns = list(pd.get_dummies(train.drop(['Segmentation','ID'], axis=1)).columns)\n",
    "type(dummy_columns)\n",
    "\n",
    "\n",
    "var_imp_df = pd.DataFrame(dummy_columns, columns=['Variable'])\n",
    "var_imp_df['Importance'] = var_imp\n",
    "\n",
    "var_imp_df.sort_values(by=['Importance'], ascending=False)"
   ]
  },
  {
   "cell_type": "code",
   "execution_count": 113,
   "metadata": {},
   "outputs": [
    {
     "data": {
      "text/plain": [
       "{'D'}"
      ]
     },
     "execution_count": 113,
     "metadata": {},
     "output_type": "execute_result"
    }
   ],
   "source": [
    "\n",
    "\n",
    "clf = MLPClassifier(solver='lbfgs', alpha=0.005, hidden_layer_sizes=(5, X_train_dum.shape[1]), random_state=1, max_iter = 1000)\n",
    "clf.fit(X_train_dum.to_numpy(), y_train.to_numpy())\n",
    "in_sample_preds_nn = clf.predict(X_test_dum.to_numpy())\n",
    "set(in_sample_preds_nn)\n"
   ]
  },
  {
   "cell_type": "code",
   "execution_count": 48,
   "metadata": {},
   "outputs": [],
   "source": [
    "\n",
    "#Submission File\n",
    "test_sub = test.drop(\"ID\", axis=1)\n",
    "test_sub = pd.get_dummies(test_sub)\n",
    "test_sub.shape\n",
    "oos_sample_preds = rfc.predict(test_sub)\n",
    "final_sub = pd.DataFrame(test['ID'])\n",
    "final_sub['Segmentation'] = oos_sample_preds\n",
    "final_sub.to_csv(\"Segment_3.csv\", index=False)"
   ]
  },
  {
   "cell_type": "code",
   "execution_count": 53,
   "metadata": {},
   "outputs": [],
   "source": [
    "test_sub = test.drop(\"ID\", axis=1)\n",
    "test_sub = pd.get_dummies(test_sub)\n",
    "test_sub.shape\n",
    "oos_sample_preds = cb.predict(test_sub)"
   ]
  },
  {
   "cell_type": "code",
   "execution_count": 76,
   "metadata": {},
   "outputs": [],
   "source": [
    "new_test_sub = pd.DataFrame(oos_sample_preds, columns=['Preds'])\n",
    "new_test_sub['ID'] = test['ID']\n",
    "new_test_sub = pd.merge(new_test_sub,  train[['ID', 'Segmentation']], on='ID', how='left')"
   ]
  },
  {
   "cell_type": "code",
   "execution_count": 77,
   "metadata": {},
   "outputs": [],
   "source": [
    "new_test_sub['Segmentation'] = np.where(new_test_sub['Segmentation'].isnull(), new_test_sub['Preds'], new_test_sub['Segmentation'])"
   ]
  },
  {
   "cell_type": "code",
   "execution_count": 79,
   "metadata": {},
   "outputs": [],
   "source": [
    "new_test_sub = new_test_sub.drop('Preds', axis=1)"
   ]
  },
  {
   "cell_type": "code",
   "execution_count": 81,
   "metadata": {},
   "outputs": [],
   "source": [
    "new_test_sub.to_csv(\"Segment_4_leakage_fix.csv\", index=False)"
   ]
  },
  {
   "cell_type": "code",
   "execution_count": null,
   "metadata": {},
   "outputs": [],
   "source": [
    "\n",
    "\n",
    "cb=CatBoostClassifier(learning_rate=0.05,depth=8,boosting_type='Plain',eval_metric='Accuracy',n_estimators=1000,random_state=294)\n",
    "cb.fit(X_train_dum,y_train)\n",
    "in_sample_preds_cat = cb.predict(X_test_dum)\n",
    "print(\"Accuracy Score - Test: \", accuracy_score(y_test, in_sample_preds_cat))"
   ]
  },
  {
   "cell_type": "code",
   "execution_count": 43,
   "metadata": {},
   "outputs": [
    {
     "name": "stdout",
     "output_type": "stream",
     "text": [
      "Accuracy Score - Test:  0.48636926889714993\n"
     ]
    }
   ],
   "source": [
    "import lightgbm as lgb\n",
    "lgbm = lgb.LGBMClassifier(n_estimators=1000,max_depth=4,random_state=22)\n",
    "lgbm.fit(X_train_dum,y_train)\n",
    "in_sample_preds_lgbm = lgbm.predict(X_test_dum)\n",
    "print(\"Accuracy Score - Test: \", accuracy_score(y_true=y_test, y_pred=in_sample_preds_cat))"
   ]
  }
 ],
 "metadata": {
  "kernelspec": {
   "display_name": "Python 3",
   "language": "python",
   "name": "python3"
  },
  "language_info": {
   "codemirror_mode": {
    "name": "ipython",
    "version": 3
   },
   "file_extension": ".py",
   "mimetype": "text/x-python",
   "name": "python",
   "nbconvert_exporter": "python",
   "pygments_lexer": "ipython3",
   "version": "3.7.1"
  }
 },
 "nbformat": 4,
 "nbformat_minor": 2
}
