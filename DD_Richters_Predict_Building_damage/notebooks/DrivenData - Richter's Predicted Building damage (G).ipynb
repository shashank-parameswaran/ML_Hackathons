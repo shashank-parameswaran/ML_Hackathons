{
 "cells": [
  {
   "cell_type": "markdown",
   "metadata": {},
   "source": [
    "# Predicting Building damage grade - hosted by DrivenData\n",
    "\n",
    "Based on aspects of building location and construction, the goal is to predict the level of damage to buildings caused by the 2015 Gorkha earthquake in Nepal. \n",
    "\n",
    "The dataset was collected through surveys by Kathmandu Living Labs and the Central Bureau of Statistics, which works under the National Planning Commission Secretariat of Nepal. This survey is one of the largest post-disaster datasets ever collected, containing valuable information on earthquake impacts, household conditions, and socio-economic-demographic statistics.\n",
    "\n",
    "We're trying to predict the ordinal variable **damage_grade**, which represents a level of damage to the building that was hit by the earthquake. There are 3 grades of the damage:\n",
    " - 1 represents low damage\n",
    " - 2 represents a medium amount of damage\n",
    " - 3 represents almost complete destruction\n"
   ]
  },
  {
   "cell_type": "code",
   "execution_count": 33,
   "metadata": {},
   "outputs": [],
   "source": [
    "# Import necessary libraries\n",
    "import pandas as pd\n",
    "import numpy as np\n",
    "import matplotlib.pyplot as plt\n",
    "import os \n",
    "from scipy import stats\n",
    "import statistics\n",
    "from sklearn.metrics import f1_score\n",
    "from sklearn.metrics import accuracy_score\n",
    "import time\n",
    "import seaborn as sns\n",
    "# for preprocessing the data\n",
    "from sklearn.preprocessing import StandardScaler\n",
    "import pickle\n",
    "\n",
    "# Models\n",
    "from sklearn.ensemble import RandomForestClassifier\n",
    "from sklearn.linear_model import LogisticRegression\n",
    "from sklearn.linear_model import LinearRegression\n",
    "from mord import LogisticAT\n",
    "import xgboost as xgb\n",
    "from catboost import CatBoostClassifier\n",
    "\n",
    "# for combining the preprocess with model training\n",
    "from sklearn.pipeline import make_pipeline\n",
    "\n",
    "# for optimizing the hyperparameters of the pipeline\n",
    "from sklearn.model_selection import GridSearchCV\n",
    "from sklearn.model_selection import train_test_split\n",
    "from sklearn.cluster import KMeans"
   ]
  },
  {
   "cell_type": "code",
   "execution_count": 2,
   "metadata": {},
   "outputs": [],
   "source": [
    "# Dataset\n",
    "\n",
    "def get_datasets():\n",
    "    dataset = pd.read_csv(\"train_values.csv\")\n",
    "    train_label = pd.read_csv(\"train_labels.csv\")\n",
    "    dataset = pd.merge(dataset, train_label, on='building_id', how='left')\n",
    "    dataset = dataset[dataset['damage_grade'].isin([1.0,2.0,3.0])]\n",
    "    #dataset = dataset.drop('position', axis = 1)\n",
    "    test_values = pd.read_csv(\"test_values.csv\")\n",
    "    return dataset, test_values\n",
    "\n",
    "dataset, test_values = get_datasets()\n"
   ]
  },
  {
   "cell_type": "code",
   "execution_count": 3,
   "metadata": {},
   "outputs": [
    {
     "name": "stdout",
     "output_type": "stream",
     "text": [
      "(260601, 40)\n"
     ]
    },
    {
     "data": {
      "text/html": [
       "<div>\n",
       "<style scoped>\n",
       "    .dataframe tbody tr th:only-of-type {\n",
       "        vertical-align: middle;\n",
       "    }\n",
       "\n",
       "    .dataframe tbody tr th {\n",
       "        vertical-align: top;\n",
       "    }\n",
       "\n",
       "    .dataframe thead th {\n",
       "        text-align: right;\n",
       "    }\n",
       "</style>\n",
       "<table border=\"1\" class=\"dataframe\">\n",
       "  <thead>\n",
       "    <tr style=\"text-align: right;\">\n",
       "      <th></th>\n",
       "      <th>building_id</th>\n",
       "      <th>geo_level_1_id</th>\n",
       "      <th>geo_level_2_id</th>\n",
       "      <th>geo_level_3_id</th>\n",
       "      <th>count_floors_pre_eq</th>\n",
       "      <th>age</th>\n",
       "      <th>area_percentage</th>\n",
       "      <th>height_percentage</th>\n",
       "      <th>land_surface_condition</th>\n",
       "      <th>foundation_type</th>\n",
       "      <th>...</th>\n",
       "      <th>has_secondary_use_hotel</th>\n",
       "      <th>has_secondary_use_rental</th>\n",
       "      <th>has_secondary_use_institution</th>\n",
       "      <th>has_secondary_use_school</th>\n",
       "      <th>has_secondary_use_industry</th>\n",
       "      <th>has_secondary_use_health_post</th>\n",
       "      <th>has_secondary_use_gov_office</th>\n",
       "      <th>has_secondary_use_use_police</th>\n",
       "      <th>has_secondary_use_other</th>\n",
       "      <th>damage_grade</th>\n",
       "    </tr>\n",
       "  </thead>\n",
       "  <tbody>\n",
       "    <tr>\n",
       "      <th>0</th>\n",
       "      <td>802906</td>\n",
       "      <td>6</td>\n",
       "      <td>487</td>\n",
       "      <td>12198</td>\n",
       "      <td>2</td>\n",
       "      <td>30</td>\n",
       "      <td>6</td>\n",
       "      <td>5</td>\n",
       "      <td>t</td>\n",
       "      <td>r</td>\n",
       "      <td>...</td>\n",
       "      <td>0</td>\n",
       "      <td>0</td>\n",
       "      <td>0</td>\n",
       "      <td>0</td>\n",
       "      <td>0</td>\n",
       "      <td>0</td>\n",
       "      <td>0</td>\n",
       "      <td>0</td>\n",
       "      <td>0</td>\n",
       "      <td>3</td>\n",
       "    </tr>\n",
       "    <tr>\n",
       "      <th>1</th>\n",
       "      <td>28830</td>\n",
       "      <td>8</td>\n",
       "      <td>900</td>\n",
       "      <td>2812</td>\n",
       "      <td>2</td>\n",
       "      <td>10</td>\n",
       "      <td>8</td>\n",
       "      <td>7</td>\n",
       "      <td>o</td>\n",
       "      <td>r</td>\n",
       "      <td>...</td>\n",
       "      <td>0</td>\n",
       "      <td>0</td>\n",
       "      <td>0</td>\n",
       "      <td>0</td>\n",
       "      <td>0</td>\n",
       "      <td>0</td>\n",
       "      <td>0</td>\n",
       "      <td>0</td>\n",
       "      <td>0</td>\n",
       "      <td>2</td>\n",
       "    </tr>\n",
       "    <tr>\n",
       "      <th>2</th>\n",
       "      <td>94947</td>\n",
       "      <td>21</td>\n",
       "      <td>363</td>\n",
       "      <td>8973</td>\n",
       "      <td>2</td>\n",
       "      <td>10</td>\n",
       "      <td>5</td>\n",
       "      <td>5</td>\n",
       "      <td>t</td>\n",
       "      <td>r</td>\n",
       "      <td>...</td>\n",
       "      <td>0</td>\n",
       "      <td>0</td>\n",
       "      <td>0</td>\n",
       "      <td>0</td>\n",
       "      <td>0</td>\n",
       "      <td>0</td>\n",
       "      <td>0</td>\n",
       "      <td>0</td>\n",
       "      <td>0</td>\n",
       "      <td>3</td>\n",
       "    </tr>\n",
       "    <tr>\n",
       "      <th>3</th>\n",
       "      <td>590882</td>\n",
       "      <td>22</td>\n",
       "      <td>418</td>\n",
       "      <td>10694</td>\n",
       "      <td>2</td>\n",
       "      <td>10</td>\n",
       "      <td>6</td>\n",
       "      <td>5</td>\n",
       "      <td>t</td>\n",
       "      <td>r</td>\n",
       "      <td>...</td>\n",
       "      <td>0</td>\n",
       "      <td>0</td>\n",
       "      <td>0</td>\n",
       "      <td>0</td>\n",
       "      <td>0</td>\n",
       "      <td>0</td>\n",
       "      <td>0</td>\n",
       "      <td>0</td>\n",
       "      <td>0</td>\n",
       "      <td>2</td>\n",
       "    </tr>\n",
       "    <tr>\n",
       "      <th>4</th>\n",
       "      <td>201944</td>\n",
       "      <td>11</td>\n",
       "      <td>131</td>\n",
       "      <td>1488</td>\n",
       "      <td>3</td>\n",
       "      <td>30</td>\n",
       "      <td>8</td>\n",
       "      <td>9</td>\n",
       "      <td>t</td>\n",
       "      <td>r</td>\n",
       "      <td>...</td>\n",
       "      <td>0</td>\n",
       "      <td>0</td>\n",
       "      <td>0</td>\n",
       "      <td>0</td>\n",
       "      <td>0</td>\n",
       "      <td>0</td>\n",
       "      <td>0</td>\n",
       "      <td>0</td>\n",
       "      <td>0</td>\n",
       "      <td>3</td>\n",
       "    </tr>\n",
       "  </tbody>\n",
       "</table>\n",
       "<p>5 rows × 40 columns</p>\n",
       "</div>"
      ],
      "text/plain": [
       "   building_id  geo_level_1_id  geo_level_2_id  geo_level_3_id  \\\n",
       "0       802906               6             487           12198   \n",
       "1        28830               8             900            2812   \n",
       "2        94947              21             363            8973   \n",
       "3       590882              22             418           10694   \n",
       "4       201944              11             131            1488   \n",
       "\n",
       "   count_floors_pre_eq  age  area_percentage  height_percentage  \\\n",
       "0                    2   30                6                  5   \n",
       "1                    2   10                8                  7   \n",
       "2                    2   10                5                  5   \n",
       "3                    2   10                6                  5   \n",
       "4                    3   30                8                  9   \n",
       "\n",
       "  land_surface_condition foundation_type  ... has_secondary_use_hotel  \\\n",
       "0                      t               r  ...                       0   \n",
       "1                      o               r  ...                       0   \n",
       "2                      t               r  ...                       0   \n",
       "3                      t               r  ...                       0   \n",
       "4                      t               r  ...                       0   \n",
       "\n",
       "  has_secondary_use_rental has_secondary_use_institution  \\\n",
       "0                        0                             0   \n",
       "1                        0                             0   \n",
       "2                        0                             0   \n",
       "3                        0                             0   \n",
       "4                        0                             0   \n",
       "\n",
       "  has_secondary_use_school has_secondary_use_industry  \\\n",
       "0                        0                          0   \n",
       "1                        0                          0   \n",
       "2                        0                          0   \n",
       "3                        0                          0   \n",
       "4                        0                          0   \n",
       "\n",
       "   has_secondary_use_health_post  has_secondary_use_gov_office  \\\n",
       "0                              0                             0   \n",
       "1                              0                             0   \n",
       "2                              0                             0   \n",
       "3                              0                             0   \n",
       "4                              0                             0   \n",
       "\n",
       "   has_secondary_use_use_police  has_secondary_use_other  damage_grade  \n",
       "0                             0                        0             3  \n",
       "1                             0                        0             2  \n",
       "2                             0                        0             3  \n",
       "3                             0                        0             2  \n",
       "4                             0                        0             3  \n",
       "\n",
       "[5 rows x 40 columns]"
      ]
     },
     "execution_count": 3,
     "metadata": {},
     "output_type": "execute_result"
    }
   ],
   "source": [
    "print(dataset.shape)\n",
    "dataset.head()"
   ]
  },
  {
   "cell_type": "markdown",
   "metadata": {},
   "source": [
    "## Data Exploration\n",
    "\n",
    "Dataset contains 260K rows with 40 columns.\n",
    "\n",
    "We have a detailed description of each of the columns in the link **https://www.drivendata.org/competitions/57/nepal-earthquake/page/136/**\n",
    "\n",
    "We have to go through each of those features to understand what is good and what isn't. We can start with first looking at the depending variable (y).\n"
   ]
  },
  {
   "cell_type": "code",
   "execution_count": 4,
   "metadata": {},
   "outputs": [
    {
     "name": "stdout",
     "output_type": "stream",
     "text": [
      "damage_grade\n",
      "1     25124\n",
      "2    148259\n",
      "3     87218\n",
      "Name: building_id, dtype: int64\n"
     ]
    },
    {
     "data": {
      "text/plain": [
       "damage_grade\n",
       "1    0.096408\n",
       "2    0.568912\n",
       "3    0.334680\n",
       "Name: building_id, dtype: float64"
      ]
     },
     "execution_count": 4,
     "metadata": {},
     "output_type": "execute_result"
    }
   ],
   "source": [
    "print(dataset.groupby('damage_grade')['building_id'].count())\n",
    "\n",
    "dataset.groupby('damage_grade')['building_id'].count()/sum(dataset.groupby('damage_grade')['building_id'].count())"
   ]
  },
  {
   "cell_type": "markdown",
   "metadata": {},
   "source": [
    "56% fall under damage grade 2, 9.6% in 1 and 33% in 3\n",
    "\n",
    "Let's dive deeper into the features to understand what would help us predict the damage."
   ]
  },
  {
   "cell_type": "code",
   "execution_count": 5,
   "metadata": {},
   "outputs": [
    {
     "data": {
      "text/plain": [
       "building_id                               0\n",
       "geo_level_1_id                            0\n",
       "geo_level_2_id                            0\n",
       "geo_level_3_id                            0\n",
       "count_floors_pre_eq                       0\n",
       "age                                       0\n",
       "area_percentage                           0\n",
       "height_percentage                         0\n",
       "land_surface_condition                    0\n",
       "foundation_type                           0\n",
       "roof_type                                 0\n",
       "ground_floor_type                         0\n",
       "other_floor_type                          0\n",
       "position                                  0\n",
       "plan_configuration                        0\n",
       "has_superstructure_adobe_mud              0\n",
       "has_superstructure_mud_mortar_stone       0\n",
       "has_superstructure_stone_flag             0\n",
       "has_superstructure_cement_mortar_stone    0\n",
       "has_superstructure_mud_mortar_brick       0\n",
       "has_superstructure_cement_mortar_brick    0\n",
       "has_superstructure_timber                 0\n",
       "has_superstructure_bamboo                 0\n",
       "has_superstructure_rc_non_engineered      0\n",
       "has_superstructure_rc_engineered          0\n",
       "has_superstructure_other                  0\n",
       "legal_ownership_status                    0\n",
       "count_families                            0\n",
       "has_secondary_use                         0\n",
       "has_secondary_use_agriculture             0\n",
       "has_secondary_use_hotel                   0\n",
       "has_secondary_use_rental                  0\n",
       "has_secondary_use_institution             0\n",
       "has_secondary_use_school                  0\n",
       "has_secondary_use_industry                0\n",
       "has_secondary_use_health_post             0\n",
       "has_secondary_use_gov_office              0\n",
       "has_secondary_use_use_police              0\n",
       "has_secondary_use_other                   0\n",
       "damage_grade                              0\n",
       "dtype: int64"
      ]
     },
     "execution_count": 5,
     "metadata": {},
     "output_type": "execute_result"
    }
   ],
   "source": [
    "dataset.isnull().sum()"
   ]
  },
  {
   "cell_type": "markdown",
   "metadata": {},
   "source": [
    "Seems like we do not have any missing data (credits to DrivenData).\n",
    "\n",
    "\n",
    "## Univariate analysis:\n",
    "\n",
    "Let's look at a couple of features for Univariate analysis"
   ]
  },
  {
   "cell_type": "code",
   "execution_count": 6,
   "metadata": {},
   "outputs": [
    {
     "data": {
      "text/plain": [
       "<matplotlib.axes._subplots.AxesSubplot at 0x19dba371c88>"
      ]
     },
     "execution_count": 6,
     "metadata": {},
     "output_type": "execute_result"
    },
    {
     "data": {
      "image/png": "[encoded data removed]",
      "text/plain": [
       "<Figure size 432x288 with 1 Axes>"
      ]
     },
     "metadata": {
      "needs_background": "light"
     },
     "output_type": "display_data"
    }
   ],
   "source": [
    "(dataset['foundation_type'].value_counts()/np.sum(dataset['foundation_type'].value_counts())).plot('bar')"
   ]
  },
  {
   "cell_type": "code",
   "execution_count": 7,
   "metadata": {},
   "outputs": [
    {
     "data": {
      "text/plain": [
       "<matplotlib.axes._subplots.AxesSubplot at 0x19dba3a3588>"
      ]
     },
     "execution_count": 7,
     "metadata": {},
     "output_type": "execute_result"
    },
    {
     "data": {
      "image/png": "[encoded data removed]",
      "text/plain": [
       "<Figure size 432x288 with 1 Axes>"
      ]
     },
     "metadata": {
      "needs_background": "light"
     },
     "output_type": "display_data"
    }
   ],
   "source": [
    "(dataset['plan_configuration'].value_counts()/np.sum(dataset['plan_configuration'].value_counts())).plot('bar')"
   ]
  },
  {
   "cell_type": "markdown",
   "metadata": {},
   "source": [
    "We will be eliminating 'plan_configuration' but keeping 'foundation_type'. Similarly we will remove few other features where we have 95% values in one category. \n",
    "\n",
    "Also, we will be clubbing categories that do not have a significant % of values, for ex, we will club 'h','i', 'u', 'w' into 'u' (Note: we are creating a new bucket here called 'Others', and not categorising these into 'u', although we are retaining 'u' for simplicity). \n",
    "\n",
    "Let's visualize each of the features with respect to the dependant variable through graphs to understand it better."
   ]
  },
  {
   "cell_type": "code",
   "execution_count": 8,
   "metadata": {},
   "outputs": [],
   "source": [
    "def perc_stacked_graph(dataset, X, Y, Z):\n",
    "    perc_stacked = dataset.pivot_table(index=[X], columns=Y, values=Z, aggfunc='count').reset_index()\n",
    "    #perc_stacked.drop(['land_surface_condition'], axis=1)\n",
    "\n",
    "    perc_stacked = perc_stacked.set_index(perc_stacked[X], drop=True)\n",
    "    perc_stacked = perc_stacked.drop([X], axis=1)\n",
    "    for row in perc_stacked.index:\n",
    "        perc_stacked.loc[row] = perc_stacked.loc[row]/np.sum(perc_stacked.loc[row], axis=0)\n",
    "    perc_stacked.plot(kind='bar')"
   ]
  },
  {
   "cell_type": "code",
   "execution_count": 9,
   "metadata": {},
   "outputs": [
    {
     "data": {
      "image/png": "[encoded data removed]",
      "text/plain": [
       "<Figure size 432x288 with 1 Axes>"
      ]
     },
     "metadata": {
      "needs_background": "light"
     },
     "output_type": "display_data"
    }
   ],
   "source": [
    "perc_stacked_graph(dataset, \"damage_grade\", \"foundation_type\", \"building_id\")"
   ]
  },
  {
   "cell_type": "markdown",
   "metadata": {},
   "source": [
    "We can say from the above graph that for foundation type 'w', damage grade is more likely to be 1 and for 'r', its 2 or 3.\n",
    "A better/newer foundation might have suffered lesser damage. 'u'. 'i' and 'w' could have been better foundations (although we don't have this information, this could easily be a good predictor if we have more context)"
   ]
  },
  {
   "cell_type": "code",
   "execution_count": 10,
   "metadata": {},
   "outputs": [
    {
     "data": {
      "image/png": "[encoded data removed]",
      "text/plain": [
       "<Figure size 432x288 with 1 Axes>"
      ]
     },
     "metadata": {
      "needs_background": "light"
     },
     "output_type": "display_data"
    }
   ],
   "source": [
    "perc_stacked_graph(dataset, \"damage_grade\", \"foundation_type\", \"building_id\")"
   ]
  },
  {
   "cell_type": "markdown",
   "metadata": {},
   "source": [
    "Geo ID seems to be a great predictor too. After all, some places are bound to be more affected than others - geographically prone areas, area with older buildings, etc."
   ]
  },
  {
   "cell_type": "code",
   "execution_count": 11,
   "metadata": {},
   "outputs": [
    {
     "data": {
      "text/plain": [
       "<matplotlib.legend.Legend at 0x19dba6af4e0>"
      ]
     },
     "execution_count": 11,
     "metadata": {},
     "output_type": "execute_result"
    },
    {
     "data": {
      "image/png": "[encoded data removed]",
      "text/plain": [
       "<Figure size 432x288 with 1 Axes>"
      ]
     },
     "metadata": {
      "needs_background": "light"
     },
     "output_type": "display_data"
    }
   ],
   "source": [
    "fig, ax = plt.subplots()\n",
    "for a in [1, 2, 3]:\n",
    "    sns.distplot(dataset[dataset['damage_grade'] == a]['geo_level_1_id'], ax=ax, kde=False)\n",
    "ax.legend(['1','2','3'])"
   ]
  },
  {
   "cell_type": "markdown",
   "metadata": {},
   "source": [
    "Specific Geo IDs seem to have higher damage grade, for ex, area ID 17 has more damage grade 3 and area IDs 20, 30, etc. have damage grades 2. This also seems like a good predictor\n",
    "\n",
    "\n",
    "## Bi-Variate Analysis:\n",
    "\n",
    "We will look at the Pearson's correlation and Chi Square test to identify highly correlated variables. Having highly correlated variables makes it difficult for the model to establish the right relationships with the variables."
   ]
  },
  {
   "cell_type": "code",
   "execution_count": 12,
   "metadata": {},
   "outputs": [
    {
     "data": {
      "text/html": [
       "<div>\n",
       "<style scoped>\n",
       "    .dataframe tbody tr th:only-of-type {\n",
       "        vertical-align: middle;\n",
       "    }\n",
       "\n",
       "    .dataframe tbody tr th {\n",
       "        vertical-align: top;\n",
       "    }\n",
       "\n",
       "    .dataframe thead th {\n",
       "        text-align: right;\n",
       "    }\n",
       "</style>\n",
       "<table border=\"1\" class=\"dataframe\">\n",
       "  <thead>\n",
       "    <tr style=\"text-align: right;\">\n",
       "      <th></th>\n",
       "      <th>building_id</th>\n",
       "      <th>geo_level_1_id</th>\n",
       "      <th>geo_level_2_id</th>\n",
       "      <th>geo_level_3_id</th>\n",
       "      <th>count_floors_pre_eq</th>\n",
       "      <th>age</th>\n",
       "      <th>area_percentage</th>\n",
       "      <th>height_percentage</th>\n",
       "      <th>has_superstructure_adobe_mud</th>\n",
       "      <th>has_superstructure_mud_mortar_stone</th>\n",
       "      <th>...</th>\n",
       "      <th>has_secondary_use_hotel</th>\n",
       "      <th>has_secondary_use_rental</th>\n",
       "      <th>has_secondary_use_institution</th>\n",
       "      <th>has_secondary_use_school</th>\n",
       "      <th>has_secondary_use_industry</th>\n",
       "      <th>has_secondary_use_health_post</th>\n",
       "      <th>has_secondary_use_gov_office</th>\n",
       "      <th>has_secondary_use_use_police</th>\n",
       "      <th>has_secondary_use_other</th>\n",
       "      <th>damage_grade</th>\n",
       "    </tr>\n",
       "  </thead>\n",
       "  <tbody>\n",
       "    <tr>\n",
       "      <th>building_id</th>\n",
       "      <td>1.000000</td>\n",
       "      <td>-0.002850</td>\n",
       "      <td>0.000347</td>\n",
       "      <td>-0.000393</td>\n",
       "      <td>-0.000654</td>\n",
       "      <td>-0.001476</td>\n",
       "      <td>-0.002070</td>\n",
       "      <td>0.000096</td>\n",
       "      <td>-0.000307</td>\n",
       "      <td>0.002423</td>\n",
       "      <td>...</td>\n",
       "      <td>0.001934</td>\n",
       "      <td>-0.002152</td>\n",
       "      <td>0.000706</td>\n",
       "      <td>-0.000362</td>\n",
       "      <td>0.002348</td>\n",
       "      <td>-0.000374</td>\n",
       "      <td>0.000538</td>\n",
       "      <td>-0.003116</td>\n",
       "      <td>-0.002295</td>\n",
       "      <td>0.001063</td>\n",
       "    </tr>\n",
       "    <tr>\n",
       "      <th>geo_level_1_id</th>\n",
       "      <td>-0.002850</td>\n",
       "      <td>1.000000</td>\n",
       "      <td>-0.061405</td>\n",
       "      <td>0.002718</td>\n",
       "      <td>-0.089364</td>\n",
       "      <td>-0.003908</td>\n",
       "      <td>0.071158</td>\n",
       "      <td>-0.063474</td>\n",
       "      <td>-0.018245</td>\n",
       "      <td>-0.152038</td>\n",
       "      <td>...</td>\n",
       "      <td>0.001911</td>\n",
       "      <td>0.023523</td>\n",
       "      <td>0.003700</td>\n",
       "      <td>0.002977</td>\n",
       "      <td>0.002655</td>\n",
       "      <td>-0.002303</td>\n",
       "      <td>0.001060</td>\n",
       "      <td>0.000523</td>\n",
       "      <td>-0.017992</td>\n",
       "      <td>-0.072347</td>\n",
       "    </tr>\n",
       "    <tr>\n",
       "      <th>geo_level_2_id</th>\n",
       "      <td>0.000347</td>\n",
       "      <td>-0.061405</td>\n",
       "      <td>1.000000</td>\n",
       "      <td>0.000921</td>\n",
       "      <td>0.047730</td>\n",
       "      <td>0.012594</td>\n",
       "      <td>-0.049443</td>\n",
       "      <td>0.035516</td>\n",
       "      <td>0.015833</td>\n",
       "      <td>0.076491</td>\n",
       "      <td>...</td>\n",
       "      <td>-0.008439</td>\n",
       "      <td>-0.030704</td>\n",
       "      <td>-0.004840</td>\n",
       "      <td>-0.004856</td>\n",
       "      <td>0.000687</td>\n",
       "      <td>-0.000757</td>\n",
       "      <td>-0.000152</td>\n",
       "      <td>0.001926</td>\n",
       "      <td>-0.013068</td>\n",
       "      <td>0.043161</td>\n",
       "    </tr>\n",
       "    <tr>\n",
       "      <th>geo_level_3_id</th>\n",
       "      <td>-0.000393</td>\n",
       "      <td>0.002718</td>\n",
       "      <td>0.000921</td>\n",
       "      <td>1.000000</td>\n",
       "      <td>-0.021646</td>\n",
       "      <td>-0.006385</td>\n",
       "      <td>-0.005643</td>\n",
       "      <td>-0.024507</td>\n",
       "      <td>-0.015732</td>\n",
       "      <td>0.026294</td>\n",
       "      <td>...</td>\n",
       "      <td>-0.002001</td>\n",
       "      <td>-0.007356</td>\n",
       "      <td>-0.007058</td>\n",
       "      <td>-0.004373</td>\n",
       "      <td>-0.000862</td>\n",
       "      <td>-0.002632</td>\n",
       "      <td>-0.000943</td>\n",
       "      <td>0.000269</td>\n",
       "      <td>-0.002463</td>\n",
       "      <td>0.007932</td>\n",
       "    </tr>\n",
       "    <tr>\n",
       "      <th>count_floors_pre_eq</th>\n",
       "      <td>-0.000654</td>\n",
       "      <td>-0.089364</td>\n",
       "      <td>0.047730</td>\n",
       "      <td>-0.021646</td>\n",
       "      <td>1.000000</td>\n",
       "      <td>0.086668</td>\n",
       "      <td>0.101071</td>\n",
       "      <td>0.772734</td>\n",
       "      <td>0.174852</td>\n",
       "      <td>-0.027116</td>\n",
       "      <td>...</td>\n",
       "      <td>0.077120</td>\n",
       "      <td>0.035425</td>\n",
       "      <td>0.016384</td>\n",
       "      <td>0.008833</td>\n",
       "      <td>-0.002611</td>\n",
       "      <td>0.006786</td>\n",
       "      <td>0.009639</td>\n",
       "      <td>0.003939</td>\n",
       "      <td>-0.002073</td>\n",
       "      <td>0.122308</td>\n",
       "    </tr>\n",
       "  </tbody>\n",
       "</table>\n",
       "<p>5 rows × 32 columns</p>\n",
       "</div>"
      ],
      "text/plain": [
       "                     building_id  geo_level_1_id  geo_level_2_id  \\\n",
       "building_id             1.000000       -0.002850        0.000347   \n",
       "geo_level_1_id         -0.002850        1.000000       -0.061405   \n",
       "geo_level_2_id          0.000347       -0.061405        1.000000   \n",
       "geo_level_3_id         -0.000393        0.002718        0.000921   \n",
       "count_floors_pre_eq    -0.000654       -0.089364        0.047730   \n",
       "\n",
       "                     geo_level_3_id  count_floors_pre_eq       age  \\\n",
       "building_id               -0.000393            -0.000654 -0.001476   \n",
       "geo_level_1_id             0.002718            -0.089364 -0.003908   \n",
       "geo_level_2_id             0.000921             0.047730  0.012594   \n",
       "geo_level_3_id             1.000000            -0.021646 -0.006385   \n",
       "count_floors_pre_eq       -0.021646             1.000000  0.086668   \n",
       "\n",
       "                     area_percentage  height_percentage  \\\n",
       "building_id                -0.002070           0.000096   \n",
       "geo_level_1_id              0.071158          -0.063474   \n",
       "geo_level_2_id             -0.049443           0.035516   \n",
       "geo_level_3_id             -0.005643          -0.024507   \n",
       "count_floors_pre_eq         0.101071           0.772734   \n",
       "\n",
       "                     has_superstructure_adobe_mud  \\\n",
       "building_id                             -0.000307   \n",
       "geo_level_1_id                          -0.018245   \n",
       "geo_level_2_id                           0.015833   \n",
       "geo_level_3_id                          -0.015732   \n",
       "count_floors_pre_eq                      0.174852   \n",
       "\n",
       "                     has_superstructure_mud_mortar_stone  ...  \\\n",
       "building_id                                     0.002423  ...   \n",
       "geo_level_1_id                                 -0.152038  ...   \n",
       "geo_level_2_id                                  0.076491  ...   \n",
       "geo_level_3_id                                  0.026294  ...   \n",
       "count_floors_pre_eq                            -0.027116  ...   \n",
       "\n",
       "                     has_secondary_use_hotel  has_secondary_use_rental  \\\n",
       "building_id                         0.001934                 -0.002152   \n",
       "geo_level_1_id                      0.001911                  0.023523   \n",
       "geo_level_2_id                     -0.008439                 -0.030704   \n",
       "geo_level_3_id                     -0.002001                 -0.007356   \n",
       "count_floors_pre_eq                 0.077120                  0.035425   \n",
       "\n",
       "                     has_secondary_use_institution  has_secondary_use_school  \\\n",
       "building_id                               0.000706                 -0.000362   \n",
       "geo_level_1_id                            0.003700                  0.002977   \n",
       "geo_level_2_id                           -0.004840                 -0.004856   \n",
       "geo_level_3_id                           -0.007058                 -0.004373   \n",
       "count_floors_pre_eq                       0.016384                  0.008833   \n",
       "\n",
       "                     has_secondary_use_industry  \\\n",
       "building_id                            0.002348   \n",
       "geo_level_1_id                         0.002655   \n",
       "geo_level_2_id                         0.000687   \n",
       "geo_level_3_id                        -0.000862   \n",
       "count_floors_pre_eq                   -0.002611   \n",
       "\n",
       "                     has_secondary_use_health_post  \\\n",
       "building_id                              -0.000374   \n",
       "geo_level_1_id                           -0.002303   \n",
       "geo_level_2_id                           -0.000757   \n",
       "geo_level_3_id                           -0.002632   \n",
       "count_floors_pre_eq                       0.006786   \n",
       "\n",
       "                     has_secondary_use_gov_office  \\\n",
       "building_id                              0.000538   \n",
       "geo_level_1_id                           0.001060   \n",
       "geo_level_2_id                          -0.000152   \n",
       "geo_level_3_id                          -0.000943   \n",
       "count_floors_pre_eq                      0.009639   \n",
       "\n",
       "                     has_secondary_use_use_police  has_secondary_use_other  \\\n",
       "building_id                             -0.003116                -0.002295   \n",
       "geo_level_1_id                           0.000523                -0.017992   \n",
       "geo_level_2_id                           0.001926                -0.013068   \n",
       "geo_level_3_id                           0.000269                -0.002463   \n",
       "count_floors_pre_eq                      0.003939                -0.002073   \n",
       "\n",
       "                     damage_grade  \n",
       "building_id              0.001063  \n",
       "geo_level_1_id          -0.072347  \n",
       "geo_level_2_id           0.043161  \n",
       "geo_level_3_id           0.007932  \n",
       "count_floors_pre_eq      0.122308  \n",
       "\n",
       "[5 rows x 32 columns]"
      ]
     },
     "execution_count": 12,
     "metadata": {},
     "output_type": "execute_result"
    }
   ],
   "source": [
    "def pearson_cor(dataset):\n",
    "    pearsoncorr = dataset._get_numeric_data().corr()\n",
    "    \"\"\"sns.heatmap(pearsoncorr, \n",
    "                xticklabels=pearsoncorr.columns,\n",
    "                yticklabels=pearsoncorr.columns,\n",
    "                cmap='RdBu_r',\n",
    "                annot=True,\n",
    "                linewidth=0.5)\"\"\"\n",
    "    #pearsoncorr.to_csv(\"correlation matrix.csv\")\n",
    "    return pearsoncorr\n",
    "pearson_cor(dataset).head()"
   ]
  },
  {
   "cell_type": "code",
   "execution_count": 13,
   "metadata": {},
   "outputs": [
    {
     "data": {
      "text/html": [
       "<div>\n",
       "<style scoped>\n",
       "    .dataframe tbody tr th:only-of-type {\n",
       "        vertical-align: middle;\n",
       "    }\n",
       "\n",
       "    .dataframe tbody tr th {\n",
       "        vertical-align: top;\n",
       "    }\n",
       "\n",
       "    .dataframe thead th {\n",
       "        text-align: right;\n",
       "    }\n",
       "</style>\n",
       "<table border=\"1\" class=\"dataframe\">\n",
       "  <thead>\n",
       "    <tr style=\"text-align: right;\">\n",
       "      <th></th>\n",
       "      <th>land_surface_condition</th>\n",
       "      <th>foundation_type</th>\n",
       "      <th>roof_type</th>\n",
       "      <th>ground_floor_type</th>\n",
       "      <th>other_floor_type</th>\n",
       "      <th>position</th>\n",
       "      <th>plan_configuration</th>\n",
       "      <th>legal_ownership_status</th>\n",
       "    </tr>\n",
       "  </thead>\n",
       "  <tbody>\n",
       "    <tr>\n",
       "      <th>land_surface_condition</th>\n",
       "      <td>NaN</td>\n",
       "      <td>NaN</td>\n",
       "      <td>NaN</td>\n",
       "      <td>NaN</td>\n",
       "      <td>NaN</td>\n",
       "      <td>NaN</td>\n",
       "      <td>NaN</td>\n",
       "      <td>NaN</td>\n",
       "    </tr>\n",
       "    <tr>\n",
       "      <th>foundation_type</th>\n",
       "      <td>NaN</td>\n",
       "      <td>NaN</td>\n",
       "      <td>NaN</td>\n",
       "      <td>NaN</td>\n",
       "      <td>NaN</td>\n",
       "      <td>NaN</td>\n",
       "      <td>NaN</td>\n",
       "      <td>NaN</td>\n",
       "    </tr>\n",
       "    <tr>\n",
       "      <th>roof_type</th>\n",
       "      <td>NaN</td>\n",
       "      <td>NaN</td>\n",
       "      <td>NaN</td>\n",
       "      <td>NaN</td>\n",
       "      <td>NaN</td>\n",
       "      <td>NaN</td>\n",
       "      <td>NaN</td>\n",
       "      <td>NaN</td>\n",
       "    </tr>\n",
       "    <tr>\n",
       "      <th>ground_floor_type</th>\n",
       "      <td>NaN</td>\n",
       "      <td>NaN</td>\n",
       "      <td>NaN</td>\n",
       "      <td>NaN</td>\n",
       "      <td>NaN</td>\n",
       "      <td>NaN</td>\n",
       "      <td>NaN</td>\n",
       "      <td>NaN</td>\n",
       "    </tr>\n",
       "    <tr>\n",
       "      <th>other_floor_type</th>\n",
       "      <td>NaN</td>\n",
       "      <td>NaN</td>\n",
       "      <td>NaN</td>\n",
       "      <td>NaN</td>\n",
       "      <td>NaN</td>\n",
       "      <td>NaN</td>\n",
       "      <td>NaN</td>\n",
       "      <td>NaN</td>\n",
       "    </tr>\n",
       "    <tr>\n",
       "      <th>position</th>\n",
       "      <td>NaN</td>\n",
       "      <td>NaN</td>\n",
       "      <td>NaN</td>\n",
       "      <td>NaN</td>\n",
       "      <td>NaN</td>\n",
       "      <td>NaN</td>\n",
       "      <td>NaN</td>\n",
       "      <td>NaN</td>\n",
       "    </tr>\n",
       "    <tr>\n",
       "      <th>plan_configuration</th>\n",
       "      <td>NaN</td>\n",
       "      <td>NaN</td>\n",
       "      <td>NaN</td>\n",
       "      <td>NaN</td>\n",
       "      <td>NaN</td>\n",
       "      <td>NaN</td>\n",
       "      <td>NaN</td>\n",
       "      <td>NaN</td>\n",
       "    </tr>\n",
       "    <tr>\n",
       "      <th>legal_ownership_status</th>\n",
       "      <td>NaN</td>\n",
       "      <td>NaN</td>\n",
       "      <td>NaN</td>\n",
       "      <td>NaN</td>\n",
       "      <td>NaN</td>\n",
       "      <td>NaN</td>\n",
       "      <td>NaN</td>\n",
       "      <td>NaN</td>\n",
       "    </tr>\n",
       "  </tbody>\n",
       "</table>\n",
       "</div>"
      ],
      "text/plain": [
       "                       land_surface_condition foundation_type roof_type  \\\n",
       "land_surface_condition                    NaN             NaN       NaN   \n",
       "foundation_type                           NaN             NaN       NaN   \n",
       "roof_type                                 NaN             NaN       NaN   \n",
       "ground_floor_type                         NaN             NaN       NaN   \n",
       "other_floor_type                          NaN             NaN       NaN   \n",
       "position                                  NaN             NaN       NaN   \n",
       "plan_configuration                        NaN             NaN       NaN   \n",
       "legal_ownership_status                    NaN             NaN       NaN   \n",
       "\n",
       "                       ground_floor_type other_floor_type position  \\\n",
       "land_surface_condition               NaN              NaN      NaN   \n",
       "foundation_type                      NaN              NaN      NaN   \n",
       "roof_type                            NaN              NaN      NaN   \n",
       "ground_floor_type                    NaN              NaN      NaN   \n",
       "other_floor_type                     NaN              NaN      NaN   \n",
       "position                             NaN              NaN      NaN   \n",
       "plan_configuration                   NaN              NaN      NaN   \n",
       "legal_ownership_status               NaN              NaN      NaN   \n",
       "\n",
       "                       plan_configuration legal_ownership_status  \n",
       "land_surface_condition                NaN                    NaN  \n",
       "foundation_type                       NaN                    NaN  \n",
       "roof_type                             NaN                    NaN  \n",
       "ground_floor_type                     NaN                    NaN  \n",
       "other_floor_type                      NaN                    NaN  \n",
       "position                              NaN                    NaN  \n",
       "plan_configuration                    NaN                    NaN  \n",
       "legal_ownership_status                NaN                    NaN  "
      ]
     },
     "execution_count": 13,
     "metadata": {},
     "output_type": "execute_result"
    }
   ],
   "source": [
    "def chi_square_test(dataset):\n",
    "    categ_col_list = dataset.select_dtypes(exclude='number').columns\n",
    "    chi_df = pd.DataFrame(columns=categ_col_list, index=categ_col_list)\n",
    "    for i in categ_col_list:\n",
    "        for j in categ_col_list:\n",
    "            cross = pd.crosstab(dataset[i], dataset[j])\n",
    "\n",
    "            chi_stat = stats.chi2_contingency(cross)\n",
    "            p_chi_stat = chi_stat[1]\n",
    "            chi_df.loc[i,j] = p_chi_stat\n",
    "    return chi_df\n",
    "chi_sq = chi_square_test(dataset)\n",
    "chi_sq[chi_sq > 0.05]"
   ]
  },
  {
   "cell_type": "markdown",
   "metadata": {},
   "source": [
    "## Summarizing data cleaning:\n",
    "\n",
    " - subgrouping categories for some features\n",
    " - dropping high skewed features\n",
    " - dropping highly correlated variables\n",
    " - changing datatypes"
   ]
  },
  {
   "cell_type": "code",
   "execution_count": 14,
   "metadata": {},
   "outputs": [],
   "source": [
    "# Data Cleaning\n",
    "\n",
    "def clean_data(dataset):\n",
    "    # Age\n",
    "    #dataset.loc[(dataset['age']>=120) | (dataset['age']==0), 'age'] = np.mean(dataset['age'])\n",
    "    #dataset.loc[dataset['age']>=70, 'age'] = 70\n",
    "\n",
    "    # land_surface_condition\n",
    "    dataset['land_surface_condition'] = dataset['land_surface_condition'].astype(str)\n",
    "    dataset.loc[~(dataset['land_surface_condition'].isin(['n','o','t'])), 'land_surface_condition'] = statistics.mode(dataset['land_surface_condition'])\n",
    "\n",
    "    dataset.loc[dataset['land_surface_condition'].isin(['o','n']), 'land_surface_condition'] = 'n'\n",
    "    # foundation_type\n",
    "    dataset.loc[dataset['foundation_type'].isin(['h','i', 'u', 'w']), 'foundation_type'] = 'u'\n",
    "\n",
    "    # ground_floor_type\n",
    "    dataset.loc[dataset['ground_floor_type'].isin(['m','x', 'z']), 'ground_floor_type'] = 'x'\n",
    "\n",
    "    # other_floor_type\n",
    "    dataset.loc[dataset['other_floor_type'].isin(['j','s']), 'other_floor_type'] = 'j'\n",
    "\n",
    "    # count_families\n",
    "    dataset.loc[dataset['count_families'] >= 2, 'count_families'] = 2\n",
    "\n",
    "    # Drop due to no visual variance in bar graphs\n",
    "    #dataset = dataset.drop(['position'], axis=1)\n",
    "\n",
    "\n",
    "\n",
    "    # Drop due to skewness\n",
    "    dataset = dataset.drop(['plan_configuration'\n",
    "                            ,'plan_configuration'\n",
    "                            ,'has_superstructure_cement_mortar_stone'\n",
    "                            ,'has_superstructure_mud_mortar_brick'\n",
    "                            ,'has_superstructure_rc_engineered'\n",
    "                            ,'has_superstructure_other'\n",
    "                            ,'legal_ownership_status'\n",
    "                            ,'has_secondary_use_hotel'\n",
    "                            ,'has_secondary_use_rental'\n",
    "                            ,'has_secondary_use_institution'\n",
    "                            ,'has_secondary_use_school'\n",
    "                            ,'has_secondary_use_industry'\n",
    "                            ,'has_secondary_use_health_post'\n",
    "                            ,'has_secondary_use_gov_office'\n",
    "                            ,'has_secondary_use_use_police'\n",
    "                            ,'has_secondary_use_other'\n",
    "                           ], axis=1)\n",
    "    #dataset.loc[dataset['geo_level_1_id'] <= 10, 'geo_level_1_id'] = 100\n",
    "    #dataset.loc[(dataset['geo_level_1_id'] > 10) & (dataset['geo_level_1_id'] <= 20), 'geo_level_1_id'] = 200\n",
    "    #dataset.loc[(dataset['geo_level_1_id'] > 20) & (dataset['geo_level_1_id'] <= 30), 'geo_level_1_id'] = 300\n",
    "    \n",
    "    dataset = dataset.drop(['building_id'], axis=1)\n",
    "    \n",
    "    # Drop due to high correlation from Pearson's correlation\n",
    "    dataset = dataset.drop(['height_percentage', 'has_secondary_use_agriculture'], axis=1)\n",
    "    return dataset\n",
    "#dataset = clean_data(dataset)"
   ]
  },
  {
   "cell_type": "markdown",
   "metadata": {},
   "source": [
    "## Model Building:\n",
    "\n",
    "We will now try the below models with a test/train split of 80/20:\n",
    "\n",
    " - Random Forests\n",
    " - XGBoost\n",
    " - Logistic Regression\n",
    " - Linear Regression\n",
    " - One vs Rest Logistic\n",
    " - Ordinal Logistic\n",
    " - CatBoost\n",
    "\n",
    "We will use **micro averaged F1 score** as our metric for evaluation\n"
   ]
  },
  {
   "cell_type": "code",
   "execution_count": 15,
   "metadata": {},
   "outputs": [],
   "source": [
    "dataset, test_values = get_datasets()\n",
    "dataset = dataset.drop(['position'], axis=1)\n",
    "dataset = clean_data(dataset)\n",
    "#dataset = secondary_clean_data(dataset)\n"
   ]
  },
  {
   "cell_type": "code",
   "execution_count": 16,
   "metadata": {},
   "outputs": [
    {
     "data": {
      "text/plain": [
       "(208480, 20)"
      ]
     },
     "execution_count": 16,
     "metadata": {},
     "output_type": "execute_result"
    }
   ],
   "source": [
    "def create_test_train(dataset):\n",
    "    X = dataset.drop('damage_grade', axis=1)\n",
    "    Y = dataset['damage_grade']\n",
    "    X_train, X_test, y_train, y_test = train_test_split(X, Y,test_size=0.2, random_state=2020)\n",
    "    return(X_train, X_test, y_train, y_test)\n",
    "\n",
    "\n",
    "X_train, X_test, y_train, y_test = create_test_train(dataset)\n",
    "X_train.shape\n"
   ]
  },
  {
   "cell_type": "code",
   "execution_count": 35,
   "metadata": {},
   "outputs": [],
   "source": [
    "X_train_dum = pd.get_dummies(X_train)\n",
    "X_train.head()\n",
    "X_test_dum = pd.get_dummies(X_test)"
   ]
  },
  {
   "cell_type": "code",
   "execution_count": 20,
   "metadata": {},
   "outputs": [
    {
     "name": "stderr",
     "output_type": "stream",
     "text": [
      "C:\\ProgramData\\Anaconda3\\lib\\site-packages\\sklearn\\linear_model\\logistic.py:469: FutureWarning: Default multi_class will be changed to 'auto' in 0.22. Specify the multi_class option to silence this warning.\n",
      "  \"this warning.\", FutureWarning)\n"
     ]
    },
    {
     "name": "stdout",
     "output_type": "stream",
     "text": [
      "F1 Score - Test:  0.5742215229945703\n"
     ]
    }
   ],
   "source": [
    "\n",
    "logreg = LogisticRegression(solver='lbfgs', max_iter = 500)\n",
    "logreg.fit(X_train, y_train)\n",
    "#X_test['geo_level_2_id'] = (X_test['geo_level_2_id'] - np.min(X_test['geo_level_2_id']))/(np.max(X_test['geo_level_2_id']) - np.min(X_test['geo_level_2_id']))\n",
    "#X_test['geo_level_3_id'] = (X_test['geo_level_3_id'] - np.min(X_test['geo_level_3_id']))/(np.max(X_test['geo_level_3_id']) - np.min(X_test['geo_level_3_id']))\n",
    "#X_test = pd.get_dummies(X_test)\n",
    "in_sample_preds_log = logreg.predict(X_test)\n",
    "print(\"F1 Score - Test: \", f1_score(y_test, in_sample_preds_log, average='micro'))"
   ]
  },
  {
   "cell_type": "code",
   "execution_count": 21,
   "metadata": {},
   "outputs": [
    {
     "name": "stdout",
     "output_type": "stream",
     "text": [
      "F1 Score - Test:  0.5723220966596957\n"
     ]
    }
   ],
   "source": [
    "# Linear Regression\n",
    "model_linear = LinearRegression()\n",
    "model_linear.fit(X_train, y_train)\n",
    "in_sample_preds_lin = model_linear.predict(X_test)\n",
    "print(\"F1 Score - Test: \", f1_score(y_test, np.round(in_sample_preds_lin), average='micro'))"
   ]
  },
  {
   "cell_type": "code",
   "execution_count": 22,
   "metadata": {},
   "outputs": [
    {
     "name": "stderr",
     "output_type": "stream",
     "text": [
      "C:\\ProgramData\\Anaconda3\\lib\\site-packages\\sklearn\\linear_model\\logistic.py:432: FutureWarning: Default solver will be changed to 'lbfgs' in 0.22. Specify a solver to silence this warning.\n",
      "  FutureWarning)\n"
     ]
    },
    {
     "name": "stdout",
     "output_type": "stream",
     "text": [
      "F1 Score - Test:  0.5471882734406477\n"
     ]
    }
   ],
   "source": [
    "# 1 vs Rest\n",
    "model_1vR = LogisticRegression(multi_class='ovr', class_weight='balanced', max_iter=500)\n",
    "model_1vR.fit(X_train, y_train)\n",
    "in_sample_preds_1vR = model_1vR.predict(X_test)\n",
    "print(\"F1 Score - Test: \", f1_score(y_test, np.round(in_sample_preds_1vR), average='micro'))"
   ]
  },
  {
   "cell_type": "code",
   "execution_count": 18,
   "metadata": {},
   "outputs": [
    {
     "name": "stdout",
     "output_type": "stream",
     "text": [
      "F1 Score - Test:  0.574681989984843\n"
     ]
    }
   ],
   "source": [
    "# Ordinal Logistic\n",
    "model_ordinal = LogisticAT(alpha=0)\n",
    "model_ordinal.fit(X_train, y_train)\n",
    "in_sample_preds_ord = model_ordinal.predict(X_test)\n",
    "print(\"F1 Score - Test: \", f1_score(y_test, np.round(in_sample_preds_ord), average='micro'))"
   ]
  },
  {
   "cell_type": "code",
   "execution_count": 33,
   "metadata": {},
   "outputs": [
    {
     "name": "stdout",
     "output_type": "stream",
     "text": [
      "{'randomforestclassifier__min_samples_leaf': 5, 'randomforestclassifier__n_estimators': 500}\n",
      "661.1875\n"
     ]
    }
   ],
   "source": [
    "# Random Forest\n",
    "def random_forest_model(X_train, y_train):\n",
    "    \n",
    "    pipe = make_pipeline(StandardScaler(), \n",
    "                         RandomForestClassifier(random_state=2020, n_jobs=-1))\n",
    "    pipe\n",
    "\n",
    "    param_grid = {'randomforestclassifier__n_estimators': [500],\n",
    "                  'randomforestclassifier__min_samples_leaf': [5]}\n",
    "    gs = GridSearchCV(pipe, param_grid, cv=5)\n",
    "    X_train = pd.get_dummies(X_train)\n",
    "    gs.fit(X_train, y_train.values.ravel())\n",
    "    print(gs.best_params_)\n",
    "\n",
    "    return gs\n",
    "\n",
    "start = time.process_time()\n",
    "gs = random_forest_model(X_train, y_train)\n",
    "print(time.process_time() - start)"
   ]
  },
  {
   "cell_type": "code",
   "execution_count": 34,
   "metadata": {},
   "outputs": [
    {
     "name": "stdout",
     "output_type": "stream",
     "text": [
      "F1 Score - Train:  0.7793649270913277\n",
      "F1 Score - Test:  0.7232785249707412\n"
     ]
    }
   ],
   "source": [
    "X_train = pd.get_dummies(X_train)\n",
    "in_sample_preds = gs.predict(X_train)\n",
    "print(\"F1 Score - Train: \", f1_score(y_train, in_sample_preds, average='micro'))\n",
    "\n",
    "X_test = pd.get_dummies(X_test)\n",
    "in_sample_preds_rf = gs.predict(X_test)\n",
    "print(\"F1 Score - Test: \", f1_score(y_test, in_sample_preds_rf, average='micro'))"
   ]
  },
  {
   "cell_type": "code",
   "execution_count": 59,
   "metadata": {},
   "outputs": [
    {
     "name": "stdout",
     "output_type": "stream",
     "text": [
      "0.0\n"
     ]
    }
   ],
   "source": [
    "# XGBoost\n",
    "xgb1 = xgb.XGBClassifier(\n",
    "learning_rate =0.2,\n",
    "n_estimators=1260,\n",
    "max_depth=5,\n",
    "min_child_weight=1,\n",
    "gamma=0,\n",
    "subsample=0.8,\n",
    "colsample_bytree=0.8,\n",
    "objective= 'multi:softmax',\n",
    "scale_pos_weight=0,\n",
    "seed=27,\n",
    "num_class=3)\n",
    "\n",
    "start = time.process_time()\n",
    "\n",
    "param_test1 = {'max_depth':[5],\n",
    " 'min_child_weight':[1]\n",
    "}\n",
    "\n",
    "#gsearch1 = GridSearchCV(estimator = xgb1, param_grid = param_test1, cv =5)\n",
    "#gsearch1.fit(X_train, y_train)\n",
    "#print(gsearch1.grid_scores_, gsearch1.best_params_, gsearch1.best_score_)\n",
    "\n",
    "print(time.process_time() - start)"
   ]
  },
  {
   "cell_type": "code",
   "execution_count": 23,
   "metadata": {},
   "outputs": [
    {
     "name": "stderr",
     "output_type": "stream",
     "text": [
      "C:\\Users\\shash\\AppData\\Roaming\\Python\\Python37\\site-packages\\sklearn\\utils\\deprecation.py:143: FutureWarning: The sklearn.preprocessing.label module is  deprecated in version 0.22 and will be removed in version 0.24. The corresponding classes / functions should instead be imported from sklearn.preprocessing. Anything that cannot be imported from sklearn.preprocessing is now part of the private API.\n",
      "  warnings.warn(message, FutureWarning)\n",
      "C:\\Users\\shash\\AppData\\Roaming\\Python\\Python37\\site-packages\\sklearn\\base.py:334: UserWarning: Trying to unpickle estimator LabelEncoder from version 0.21.2 when using version 0.23.0. This might lead to breaking code or invalid results. Use at your own risk.\n",
      "  UserWarning)\n"
     ]
    }
   ],
   "source": [
    "xgb1 = pickle.load(open(\"DD_xgb.sav\", 'rb'))"
   ]
  },
  {
   "cell_type": "code",
   "execution_count": 31,
   "metadata": {},
   "outputs": [
    {
     "data": {
      "text/plain": [
       "XGBClassifier(base_score=0.5, booster='gbtree', colsample_bylevel=1,\n",
       "              colsample_bynode=1, colsample_bytree=0.8, gamma=0,\n",
       "              learning_rate=0.2, max_delta_step=0, max_depth=5,\n",
       "              min_child_weight=1, missing=None, n_estimators=1260, n_jobs=1,\n",
       "              nthread=None, num_class=3, objective='multi:softprob',\n",
       "              random_state=0, reg_alpha=0, reg_lambda=1, scale_pos_weight=0,\n",
       "              seed=27, silent=None, subsample=0.8, verbosity=1)"
      ]
     },
     "execution_count": 31,
     "metadata": {},
     "output_type": "execute_result"
    }
   ],
   "source": [
    "xgb1.fit(X_train, y_train)"
   ]
  },
  {
   "cell_type": "code",
   "execution_count": 32,
   "metadata": {},
   "outputs": [],
   "source": [
    "import pickle\n",
    "DD_xgb = pickle.dump(xgb1, open(\"DD_xgb.sav\", \"wb\"))"
   ]
  },
  {
   "cell_type": "code",
   "execution_count": null,
   "metadata": {},
   "outputs": [],
   "source": [
    "xgb_param = xgb1.get_xgb_params()\n",
    "xgb_param\n",
    "\n",
    "xgdmat = xgb.DMatrix(X_train_dum, y_train.values-1)\n",
    "cvresult = xgb.cv(xgb_param, xgdmat, num_boost_round=xgb1.get_params()['n_estimators'], nfold=3,\n",
    "            early_stopping_rounds=100)\n",
    "xgb1.set_params(n_estimators=cvresult.shape[0])\n",
    "\n",
    "xgb1.fit(X_train, y_train.values-1)"
   ]
  },
  {
   "cell_type": "code",
   "execution_count": 26,
   "metadata": {},
   "outputs": [
    {
     "name": "stdout",
     "output_type": "stream",
     "text": [
      "F1 Score - Test:  0.747050133343566\n"
     ]
    }
   ],
   "source": [
    "test_xgb = xgb.DMatrix(X_test)\n",
    "in_sample_preds_xgb= (xgb1.predict(X_test)).astype(int)\n",
    "print(\"F1 Score - Test: \", f1_score(y_test, in_sample_preds_xgb, average='micro'))"
   ]
  },
  {
   "cell_type": "code",
   "execution_count": 57,
   "metadata": {},
   "outputs": [
    {
     "data": {
      "text/plain": [
       "<matplotlib.axes._subplots.AxesSubplot at 0x19dc3f84ac8>"
      ]
     },
     "execution_count": 57,
     "metadata": {},
     "output_type": "execute_result"
    },
    {
     "data": {
      "image/png": "[encoded data removed]",
      "text/plain": [
       "<Figure size 432x288 with 1 Axes>"
      ]
     },
     "metadata": {
      "needs_background": "light"
     },
     "output_type": "display_data"
    }
   ],
   "source": [
    "imp_df = []\n",
    "for col, imp in zip(X_train_dum.columns, xgb1.feature_importances_):\n",
    "    imp_df.append([col,imp])\n",
    "imp_df = pd.DataFrame(imp_df, columns=['Feature', 'Importance'])\n",
    "imp_df = imp_df.sort_values('Importance', ascending = False).reset_index(drop=True)\n",
    "imp_df.set_index('Feature').plot(kind='barh')"
   ]
  },
  {
   "cell_type": "code",
   "execution_count": 30,
   "metadata": {},
   "outputs": [],
   "source": [
    "#cb=CatBoostClassifier(learning_rate=0.2,depth=8,boosting_type='Plain',eval_metric='Accuracy',n_estimators=2000,random_state=294, verbose=0)\n",
    "def cat_hyp(depth, l2_leaf_reg):\n",
    "    params = {'learning_rate' : 0.25,\n",
    "             'boosting_type':'Plain',\n",
    "             'eval_metric':'Accuracy',\n",
    "              'n_estimators':200}\n",
    "    params['depth'] = depth\n",
    "    params['l2_leaf_reg'] = l2_leaf_reg\n",
    "    cb = CatBoostClassifier(params,random_state=294, verbose=0)\n",
    "    cb.fit(X_train_dum,y_train)\n",
    "    f1_score(y_test, in_sample_preds_cat, average='micro')"
   ]
  },
  {
   "cell_type": "code",
   "execution_count": 60,
   "metadata": {},
   "outputs": [],
   "source": [
    "params = {'depth':[3,5,7],\n",
    "          #'iterations':[500],\n",
    "          'learning_rate':[0.2,0.3], \n",
    "          'l2_leaf_reg':[3,5,10],\n",
    "          #'border_count':[32,5,50],\n",
    "          #'ctr_border_count':[50,5,10,100],\n",
    "          #'thread_count':4\n",
    "         }"
   ]
  },
  {
   "cell_type": "code",
   "execution_count": 61,
   "metadata": {},
   "outputs": [
    {
     "name": "stdout",
     "output_type": "stream",
     "text": [
      "Fitting 2 folds for each of 18 candidates, totalling 36 fits\n",
      "[CV] depth=3, l2_leaf_reg=3, learning_rate=0.2 .......................\n"
     ]
    },
    {
     "name": "stderr",
     "output_type": "stream",
     "text": [
      "[Parallel(n_jobs=1)]: Using backend SequentialBackend with 1 concurrent workers.\n"
     ]
    },
    {
     "name": "stdout",
     "output_type": "stream",
     "text": [
      "[CV]  depth=3, l2_leaf_reg=3, learning_rate=0.2, score=0.613, total=   2.7s\n",
      "[CV] depth=3, l2_leaf_reg=3, learning_rate=0.2 .......................\n"
     ]
    },
    {
     "name": "stderr",
     "output_type": "stream",
     "text": [
      "[Parallel(n_jobs=1)]: Done   1 out of   1 | elapsed:    2.6s remaining:    0.0s\n"
     ]
    },
    {
     "name": "stdout",
     "output_type": "stream",
     "text": [
      "[CV]  depth=3, l2_leaf_reg=3, learning_rate=0.2, score=0.609, total=   2.3s\n",
      "[CV] depth=3, l2_leaf_reg=3, learning_rate=0.3 .......................\n"
     ]
    },
    {
     "name": "stderr",
     "output_type": "stream",
     "text": [
      "[Parallel(n_jobs=1)]: Done   2 out of   2 | elapsed:    4.9s remaining:    0.0s\n"
     ]
    },
    {
     "name": "stdout",
     "output_type": "stream",
     "text": [
      "[CV]  depth=3, l2_leaf_reg=3, learning_rate=0.3, score=0.619, total=   2.2s\n",
      "[CV] depth=3, l2_leaf_reg=3, learning_rate=0.3 .......................\n"
     ]
    },
    {
     "name": "stderr",
     "output_type": "stream",
     "text": [
      "[Parallel(n_jobs=1)]: Done   3 out of   3 | elapsed:    7.1s remaining:    0.0s\n"
     ]
    },
    {
     "name": "stdout",
     "output_type": "stream",
     "text": [
      "[CV]  depth=3, l2_leaf_reg=3, learning_rate=0.3, score=0.618, total=   2.5s\n",
      "[CV] depth=3, l2_leaf_reg=5, learning_rate=0.2 .......................\n"
     ]
    },
    {
     "name": "stderr",
     "output_type": "stream",
     "text": [
      "[Parallel(n_jobs=1)]: Done   4 out of   4 | elapsed:    9.6s remaining:    0.0s\n"
     ]
    },
    {
     "name": "stdout",
     "output_type": "stream",
     "text": [
      "[CV]  depth=3, l2_leaf_reg=5, learning_rate=0.2, score=0.611, total=   2.4s\n",
      "[CV] depth=3, l2_leaf_reg=5, learning_rate=0.2 .......................\n"
     ]
    },
    {
     "name": "stderr",
     "output_type": "stream",
     "text": [
      "[Parallel(n_jobs=1)]: Done   5 out of   5 | elapsed:   12.1s remaining:    0.0s\n"
     ]
    },
    {
     "name": "stdout",
     "output_type": "stream",
     "text": [
      "[CV]  depth=3, l2_leaf_reg=5, learning_rate=0.2, score=0.609, total=   2.5s\n",
      "[CV] depth=3, l2_leaf_reg=5, learning_rate=0.3 .......................\n"
     ]
    },
    {
     "name": "stderr",
     "output_type": "stream",
     "text": [
      "[Parallel(n_jobs=1)]: Done   6 out of   6 | elapsed:   14.5s remaining:    0.0s\n"
     ]
    },
    {
     "name": "stdout",
     "output_type": "stream",
     "text": [
      "[CV]  depth=3, l2_leaf_reg=5, learning_rate=0.3, score=0.618, total=   2.4s\n",
      "[CV] depth=3, l2_leaf_reg=5, learning_rate=0.3 .......................\n"
     ]
    },
    {
     "name": "stderr",
     "output_type": "stream",
     "text": [
      "[Parallel(n_jobs=1)]: Done   7 out of   7 | elapsed:   17.0s remaining:    0.0s\n"
     ]
    },
    {
     "name": "stdout",
     "output_type": "stream",
     "text": [
      "[CV]  depth=3, l2_leaf_reg=5, learning_rate=0.3, score=0.618, total=   2.5s\n",
      "[CV] depth=3, l2_leaf_reg=10, learning_rate=0.2 ......................\n"
     ]
    },
    {
     "name": "stderr",
     "output_type": "stream",
     "text": [
      "[Parallel(n_jobs=1)]: Done   8 out of   8 | elapsed:   19.5s remaining:    0.0s\n"
     ]
    },
    {
     "name": "stdout",
     "output_type": "stream",
     "text": [
      "[CV]  depth=3, l2_leaf_reg=10, learning_rate=0.2, score=0.612, total=   2.3s\n",
      "[CV] depth=3, l2_leaf_reg=10, learning_rate=0.2 ......................\n"
     ]
    },
    {
     "name": "stderr",
     "output_type": "stream",
     "text": [
      "[Parallel(n_jobs=1)]: Done   9 out of   9 | elapsed:   21.8s remaining:    0.0s\n"
     ]
    },
    {
     "name": "stdout",
     "output_type": "stream",
     "text": [
      "[CV]  depth=3, l2_leaf_reg=10, learning_rate=0.2, score=0.608, total=   2.5s\n",
      "[CV] depth=3, l2_leaf_reg=10, learning_rate=0.3 ......................\n",
      "[CV]  depth=3, l2_leaf_reg=10, learning_rate=0.3, score=0.616, total=   2.4s\n",
      "[CV] depth=3, l2_leaf_reg=10, learning_rate=0.3 ......................\n",
      "[CV]  depth=3, l2_leaf_reg=10, learning_rate=0.3, score=0.616, total=   2.7s\n",
      "[CV] depth=5, l2_leaf_reg=3, learning_rate=0.2 .......................\n",
      "[CV]  depth=5, l2_leaf_reg=3, learning_rate=0.2, score=0.635, total=   3.4s\n",
      "[CV] depth=5, l2_leaf_reg=3, learning_rate=0.2 .......................\n",
      "[CV]  depth=5, l2_leaf_reg=3, learning_rate=0.2, score=0.635, total=   3.2s\n",
      "[CV] depth=5, l2_leaf_reg=3, learning_rate=0.3 .......................\n",
      "[CV]  depth=5, l2_leaf_reg=3, learning_rate=0.3, score=0.642, total=   3.4s\n",
      "[CV] depth=5, l2_leaf_reg=3, learning_rate=0.3 .......................\n",
      "[CV]  depth=5, l2_leaf_reg=3, learning_rate=0.3, score=0.642, total=   3.6s\n",
      "[CV] depth=5, l2_leaf_reg=5, learning_rate=0.2 .......................\n",
      "[CV]  depth=5, l2_leaf_reg=5, learning_rate=0.2, score=0.633, total=   3.4s\n",
      "[CV] depth=5, l2_leaf_reg=5, learning_rate=0.2 .......................\n",
      "[CV]  depth=5, l2_leaf_reg=5, learning_rate=0.2, score=0.633, total=   3.7s\n",
      "[CV] depth=5, l2_leaf_reg=5, learning_rate=0.3 .......................\n",
      "[CV]  depth=5, l2_leaf_reg=5, learning_rate=0.3, score=0.640, total=   3.5s\n",
      "[CV] depth=5, l2_leaf_reg=5, learning_rate=0.3 .......................\n",
      "[CV]  depth=5, l2_leaf_reg=5, learning_rate=0.3, score=0.641, total=   3.5s\n",
      "[CV] depth=5, l2_leaf_reg=10, learning_rate=0.2 ......................\n",
      "[CV]  depth=5, l2_leaf_reg=10, learning_rate=0.2, score=0.631, total=   3.3s\n",
      "[CV] depth=5, l2_leaf_reg=10, learning_rate=0.2 ......................\n",
      "[CV]  depth=5, l2_leaf_reg=10, learning_rate=0.2, score=0.632, total=   3.2s\n",
      "[CV] depth=5, l2_leaf_reg=10, learning_rate=0.3 ......................\n",
      "[CV]  depth=5, l2_leaf_reg=10, learning_rate=0.3, score=0.638, total=   3.3s\n",
      "[CV] depth=5, l2_leaf_reg=10, learning_rate=0.3 ......................\n",
      "[CV]  depth=5, l2_leaf_reg=10, learning_rate=0.3, score=0.639, total=   3.5s\n",
      "[CV] depth=7, l2_leaf_reg=3, learning_rate=0.2 .......................\n",
      "[CV]  depth=7, l2_leaf_reg=3, learning_rate=0.2, score=0.648, total=   5.0s\n",
      "[CV] depth=7, l2_leaf_reg=3, learning_rate=0.2 .......................\n",
      "[CV]  depth=7, l2_leaf_reg=3, learning_rate=0.2, score=0.648, total=   5.0s\n",
      "[CV] depth=7, l2_leaf_reg=3, learning_rate=0.3 .......................\n",
      "[CV]  depth=7, l2_leaf_reg=3, learning_rate=0.3, score=0.657, total=   4.7s\n",
      "[CV] depth=7, l2_leaf_reg=3, learning_rate=0.3 .......................\n",
      "[CV]  depth=7, l2_leaf_reg=3, learning_rate=0.3, score=0.654, total=   5.0s\n",
      "[CV] depth=7, l2_leaf_reg=5, learning_rate=0.2 .......................\n",
      "[CV]  depth=7, l2_leaf_reg=5, learning_rate=0.2, score=0.646, total=   4.4s\n",
      "[CV] depth=7, l2_leaf_reg=5, learning_rate=0.2 .......................\n",
      "[CV]  depth=7, l2_leaf_reg=5, learning_rate=0.2, score=0.648, total=   4.6s\n",
      "[CV] depth=7, l2_leaf_reg=5, learning_rate=0.3 .......................\n",
      "[CV]  depth=7, l2_leaf_reg=5, learning_rate=0.3, score=0.653, total=   4.6s\n",
      "[CV] depth=7, l2_leaf_reg=5, learning_rate=0.3 .......................\n",
      "[CV]  depth=7, l2_leaf_reg=5, learning_rate=0.3, score=0.654, total=   4.8s\n",
      "[CV] depth=7, l2_leaf_reg=10, learning_rate=0.2 ......................\n",
      "[CV]  depth=7, l2_leaf_reg=10, learning_rate=0.2, score=0.646, total=   4.7s\n",
      "[CV] depth=7, l2_leaf_reg=10, learning_rate=0.2 ......................\n",
      "[CV]  depth=7, l2_leaf_reg=10, learning_rate=0.2, score=0.644, total=   4.3s\n",
      "[CV] depth=7, l2_leaf_reg=10, learning_rate=0.3 ......................\n",
      "[CV]  depth=7, l2_leaf_reg=10, learning_rate=0.3, score=0.653, total=   4.6s\n",
      "[CV] depth=7, l2_leaf_reg=10, learning_rate=0.3 ......................\n",
      "[CV]  depth=7, l2_leaf_reg=10, learning_rate=0.3, score=0.651, total=   4.5s\n"
     ]
    },
    {
     "name": "stderr",
     "output_type": "stream",
     "text": [
      "[Parallel(n_jobs=1)]: Done  36 out of  36 | elapsed:  2.1min finished\n"
     ]
    },
    {
     "data": {
      "text/plain": [
       "GridSearchCV(cv=2,\n",
       "             estimator=<catboost.core.CatBoostClassifier object at 0x0000019DBC3466D8>,\n",
       "             param_grid={'depth': [3, 5, 7], 'l2_leaf_reg': [3, 5, 10],\n",
       "                         'learning_rate': [0.2, 0.3]},\n",
       "             scoring='f1_macro', verbose=10)"
      ]
     },
     "execution_count": 61,
     "metadata": {},
     "output_type": "execute_result"
    }
   ],
   "source": [
    "cb = CatBoostClassifier(boosting_type='Plain', n_estimators=300, verbose=0, task_type='GPU')\n",
    "cb_model = GridSearchCV(cb, params, scoring=\"f1_macro\", cv = 2, verbose=10)\n",
    "cb_model.fit(X_train_dum, y_train)"
   ]
  },
  {
   "cell_type": "code",
   "execution_count": 43,
   "metadata": {},
   "outputs": [
    {
     "data": {
      "text/plain": [
       "{'border_count': 50, 'depth': 7, 'l2_leaf_reg': 3, 'learning_rate': 0.3}"
      ]
     },
     "execution_count": 43,
     "metadata": {},
     "output_type": "execute_result"
    }
   ],
   "source": [
    "cb_model.best_params_"
   ]
  },
  {
   "cell_type": "code",
   "execution_count": 45,
   "metadata": {},
   "outputs": [
    {
     "name": "stdout",
     "output_type": "stream",
     "text": [
      "F1 Score - Test:  0.747050133343566\n"
     ]
    }
   ],
   "source": [
    "in_sample_preds_cb = cb_model.predict(X_test_dum)\n",
    "print(\"F1 Score - Test: \", f1_score(y_test, in_sample_preds_xgb, average='micro'))"
   ]
  },
  {
   "cell_type": "code",
   "execution_count": null,
   "metadata": {},
   "outputs": [],
   "source": [
    "# Submission\n",
    "dataset_dum = pd.get_dummies(dataset)\n",
    "\n",
    "\n",
    "test_values = clean_data(test_values)\n",
    "test_values = test_values.drop(['position'], axis=1)\n",
    "#test_values = secondary_clean_data(test_values)\n",
    "test_values_dum = pd.get_dummies(test_values)\n",
    "sub_preds = xgb1.predict(test_values_dum)\n",
    "test_values = pd.read_csv(\"test_values.csv\")\n",
    "sub_df = pd.DataFrame(test_values['building_id'].values, columns=['building_id'])\n",
    "sub_df['damage_grade'] = sub_preds\n",
    "sub_df.to_csv(\"Richter_damage_9.csv\", index=False)"
   ]
  },
  {
   "cell_type": "markdown",
   "metadata": {},
   "source": [
    "Both CatBoost and XGBoost are giving similar results. Final submission was made using results from XGBoost. Accuracy in Public Leaderboard was 74.36% and top accuracy is 75.5%"
   ]
  },
  {
   "cell_type": "code",
   "execution_count": null,
   "metadata": {},
   "outputs": [],
   "source": []
  }
 ],
 "metadata": {
  "kernelspec": {
   "display_name": "Python 3",
   "language": "python",
   "name": "python3"
  },
  "language_info": {
   "codemirror_mode": {
    "name": "ipython",
    "version": 3
   },
   "file_extension": ".py",
   "mimetype": "text/x-python",
   "name": "python",
   "nbconvert_exporter": "python",
   "pygments_lexer": "ipython3",
   "version": "3.7.1"
  }
 },
 "nbformat": 4,
 "nbformat_minor": 2
}
