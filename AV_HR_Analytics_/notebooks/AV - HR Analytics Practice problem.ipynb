{
 "cells": [
  {
   "cell_type": "code",
   "execution_count": 1,
   "metadata": {},
   "outputs": [],
   "source": [
    "import numpy as np\n",
    "import pandas as pd\n",
    "import matplotlib.pyplot as plt\n",
    "from sklearn.model_selection import train_test_split, GridSearchCV, RandomizedSearchCV\n",
    "from sklearn.metrics import f1_score, roc_curve, auc\n",
    "from catboost import CatBoostClassifier\n",
    "import os\n",
    "import seaborn as sns\n",
    "\n",
    "from sklearn.ensemble import RandomForestClassifier\n",
    "import xgboost as xgb"
   ]
  },
  {
   "cell_type": "code",
   "execution_count": 2,
   "metadata": {},
   "outputs": [],
   "source": []
  },
  {
   "cell_type": "code",
   "execution_count": 111,
   "metadata": {},
   "outputs": [],
   "source": [
    "def get_datasets():\n",
    "    train = pd.read_csv(\"train_LZdllcl.csv\")\n",
    "    test = pd.read_csv(\"test_2umaH9m.csv\")\n",
    "    \n",
    "    return train, test\n",
    "\n",
    "train, test = get_datasets()\n",
    "test_id = test.loc[:,'employee_id']"
   ]
  },
  {
   "cell_type": "code",
   "execution_count": 66,
   "metadata": {},
   "outputs": [
    {
     "data": {
      "text/html": [
       "<div>\n",
       "<style scoped>\n",
       "    .dataframe tbody tr th:only-of-type {\n",
       "        vertical-align: middle;\n",
       "    }\n",
       "\n",
       "    .dataframe tbody tr th {\n",
       "        vertical-align: top;\n",
       "    }\n",
       "\n",
       "    .dataframe thead th {\n",
       "        text-align: right;\n",
       "    }\n",
       "</style>\n",
       "<table border=\"1\" class=\"dataframe\">\n",
       "  <thead>\n",
       "    <tr style=\"text-align: right;\">\n",
       "      <th></th>\n",
       "      <th>employee_id</th>\n",
       "      <th>department</th>\n",
       "      <th>region</th>\n",
       "      <th>education</th>\n",
       "      <th>gender</th>\n",
       "      <th>recruitment_channel</th>\n",
       "      <th>no_of_trainings</th>\n",
       "      <th>age</th>\n",
       "      <th>previous_year_rating</th>\n",
       "      <th>length_of_service</th>\n",
       "      <th>KPIs_met &gt;80%</th>\n",
       "      <th>awards_won?</th>\n",
       "      <th>avg_training_score</th>\n",
       "      <th>is_promoted</th>\n",
       "    </tr>\n",
       "  </thead>\n",
       "  <tbody>\n",
       "    <tr>\n",
       "      <th>0</th>\n",
       "      <td>65438</td>\n",
       "      <td>Sales &amp; Marketing</td>\n",
       "      <td>region_7</td>\n",
       "      <td>Master's &amp; above</td>\n",
       "      <td>f</td>\n",
       "      <td>sourcing</td>\n",
       "      <td>1</td>\n",
       "      <td>35</td>\n",
       "      <td>5.0</td>\n",
       "      <td>8</td>\n",
       "      <td>1</td>\n",
       "      <td>0</td>\n",
       "      <td>49</td>\n",
       "      <td>0</td>\n",
       "    </tr>\n",
       "    <tr>\n",
       "      <th>1</th>\n",
       "      <td>65141</td>\n",
       "      <td>Operations</td>\n",
       "      <td>region_22</td>\n",
       "      <td>Bachelor's</td>\n",
       "      <td>m</td>\n",
       "      <td>other</td>\n",
       "      <td>1</td>\n",
       "      <td>30</td>\n",
       "      <td>5.0</td>\n",
       "      <td>4</td>\n",
       "      <td>0</td>\n",
       "      <td>0</td>\n",
       "      <td>60</td>\n",
       "      <td>0</td>\n",
       "    </tr>\n",
       "    <tr>\n",
       "      <th>2</th>\n",
       "      <td>7513</td>\n",
       "      <td>Sales &amp; Marketing</td>\n",
       "      <td>region_19</td>\n",
       "      <td>Bachelor's</td>\n",
       "      <td>m</td>\n",
       "      <td>sourcing</td>\n",
       "      <td>1</td>\n",
       "      <td>34</td>\n",
       "      <td>3.0</td>\n",
       "      <td>7</td>\n",
       "      <td>0</td>\n",
       "      <td>0</td>\n",
       "      <td>50</td>\n",
       "      <td>0</td>\n",
       "    </tr>\n",
       "    <tr>\n",
       "      <th>3</th>\n",
       "      <td>2542</td>\n",
       "      <td>Sales &amp; Marketing</td>\n",
       "      <td>region_23</td>\n",
       "      <td>Bachelor's</td>\n",
       "      <td>m</td>\n",
       "      <td>other</td>\n",
       "      <td>2</td>\n",
       "      <td>39</td>\n",
       "      <td>1.0</td>\n",
       "      <td>10</td>\n",
       "      <td>0</td>\n",
       "      <td>0</td>\n",
       "      <td>50</td>\n",
       "      <td>0</td>\n",
       "    </tr>\n",
       "    <tr>\n",
       "      <th>4</th>\n",
       "      <td>48945</td>\n",
       "      <td>Technology</td>\n",
       "      <td>region_26</td>\n",
       "      <td>Bachelor's</td>\n",
       "      <td>m</td>\n",
       "      <td>other</td>\n",
       "      <td>1</td>\n",
       "      <td>45</td>\n",
       "      <td>3.0</td>\n",
       "      <td>2</td>\n",
       "      <td>0</td>\n",
       "      <td>0</td>\n",
       "      <td>73</td>\n",
       "      <td>0</td>\n",
       "    </tr>\n",
       "  </tbody>\n",
       "</table>\n",
       "</div>"
      ],
      "text/plain": [
       "   employee_id         department     region         education gender  \\\n",
       "0        65438  Sales & Marketing   region_7  Master's & above      f   \n",
       "1        65141         Operations  region_22        Bachelor's      m   \n",
       "2         7513  Sales & Marketing  region_19        Bachelor's      m   \n",
       "3         2542  Sales & Marketing  region_23        Bachelor's      m   \n",
       "4        48945         Technology  region_26        Bachelor's      m   \n",
       "\n",
       "  recruitment_channel  no_of_trainings  age  previous_year_rating  \\\n",
       "0            sourcing                1   35                   5.0   \n",
       "1               other                1   30                   5.0   \n",
       "2            sourcing                1   34                   3.0   \n",
       "3               other                2   39                   1.0   \n",
       "4               other                1   45                   3.0   \n",
       "\n",
       "   length_of_service  KPIs_met >80%  awards_won?  avg_training_score  \\\n",
       "0                  8              1            0                  49   \n",
       "1                  4              0            0                  60   \n",
       "2                  7              0            0                  50   \n",
       "3                 10              0            0                  50   \n",
       "4                  2              0            0                  73   \n",
       "\n",
       "   is_promoted  \n",
       "0            0  \n",
       "1            0  \n",
       "2            0  \n",
       "3            0  \n",
       "4            0  "
      ]
     },
     "execution_count": 66,
     "metadata": {},
     "output_type": "execute_result"
    }
   ],
   "source": [
    "train.head()"
   ]
  },
  {
   "cell_type": "code",
   "execution_count": 5,
   "metadata": {},
   "outputs": [
    {
     "data": {
      "text/plain": [
       "is_promoted\n",
       "0    50140\n",
       "1     4668\n",
       "Name: employee_id, dtype: int64"
      ]
     },
     "execution_count": 5,
     "metadata": {},
     "output_type": "execute_result"
    }
   ],
   "source": [
    "train.groupby('is_promoted')['employee_id'].count()"
   ]
  },
  {
   "cell_type": "code",
   "execution_count": 6,
   "metadata": {},
   "outputs": [
    {
     "data": {
      "text/html": [
       "<div>\n",
       "<style scoped>\n",
       "    .dataframe tbody tr th:only-of-type {\n",
       "        vertical-align: middle;\n",
       "    }\n",
       "\n",
       "    .dataframe tbody tr th {\n",
       "        vertical-align: top;\n",
       "    }\n",
       "\n",
       "    .dataframe thead th {\n",
       "        text-align: right;\n",
       "    }\n",
       "</style>\n",
       "<table border=\"1\" class=\"dataframe\">\n",
       "  <thead>\n",
       "    <tr style=\"text-align: right;\">\n",
       "      <th></th>\n",
       "      <th>employee_id</th>\n",
       "      <th>no_of_trainings</th>\n",
       "      <th>age</th>\n",
       "      <th>previous_year_rating</th>\n",
       "      <th>length_of_service</th>\n",
       "      <th>KPIs_met &gt;80%</th>\n",
       "      <th>awards_won?</th>\n",
       "      <th>avg_training_score</th>\n",
       "      <th>is_promoted</th>\n",
       "    </tr>\n",
       "  </thead>\n",
       "  <tbody>\n",
       "    <tr>\n",
       "      <th>count</th>\n",
       "      <td>54808.000000</td>\n",
       "      <td>54808.000000</td>\n",
       "      <td>54808.000000</td>\n",
       "      <td>50684.000000</td>\n",
       "      <td>54808.000000</td>\n",
       "      <td>54808.000000</td>\n",
       "      <td>54808.000000</td>\n",
       "      <td>54808.000000</td>\n",
       "      <td>54808.000000</td>\n",
       "    </tr>\n",
       "    <tr>\n",
       "      <th>mean</th>\n",
       "      <td>39195.830627</td>\n",
       "      <td>1.253011</td>\n",
       "      <td>34.803915</td>\n",
       "      <td>3.329256</td>\n",
       "      <td>5.865512</td>\n",
       "      <td>0.351974</td>\n",
       "      <td>0.023172</td>\n",
       "      <td>63.386750</td>\n",
       "      <td>0.085170</td>\n",
       "    </tr>\n",
       "    <tr>\n",
       "      <th>std</th>\n",
       "      <td>22586.581449</td>\n",
       "      <td>0.609264</td>\n",
       "      <td>7.660169</td>\n",
       "      <td>1.259993</td>\n",
       "      <td>4.265094</td>\n",
       "      <td>0.477590</td>\n",
       "      <td>0.150450</td>\n",
       "      <td>13.371559</td>\n",
       "      <td>0.279137</td>\n",
       "    </tr>\n",
       "    <tr>\n",
       "      <th>min</th>\n",
       "      <td>1.000000</td>\n",
       "      <td>1.000000</td>\n",
       "      <td>20.000000</td>\n",
       "      <td>1.000000</td>\n",
       "      <td>1.000000</td>\n",
       "      <td>0.000000</td>\n",
       "      <td>0.000000</td>\n",
       "      <td>39.000000</td>\n",
       "      <td>0.000000</td>\n",
       "    </tr>\n",
       "    <tr>\n",
       "      <th>25%</th>\n",
       "      <td>19669.750000</td>\n",
       "      <td>1.000000</td>\n",
       "      <td>29.000000</td>\n",
       "      <td>3.000000</td>\n",
       "      <td>3.000000</td>\n",
       "      <td>0.000000</td>\n",
       "      <td>0.000000</td>\n",
       "      <td>51.000000</td>\n",
       "      <td>0.000000</td>\n",
       "    </tr>\n",
       "    <tr>\n",
       "      <th>50%</th>\n",
       "      <td>39225.500000</td>\n",
       "      <td>1.000000</td>\n",
       "      <td>33.000000</td>\n",
       "      <td>3.000000</td>\n",
       "      <td>5.000000</td>\n",
       "      <td>0.000000</td>\n",
       "      <td>0.000000</td>\n",
       "      <td>60.000000</td>\n",
       "      <td>0.000000</td>\n",
       "    </tr>\n",
       "    <tr>\n",
       "      <th>75%</th>\n",
       "      <td>58730.500000</td>\n",
       "      <td>1.000000</td>\n",
       "      <td>39.000000</td>\n",
       "      <td>4.000000</td>\n",
       "      <td>7.000000</td>\n",
       "      <td>1.000000</td>\n",
       "      <td>0.000000</td>\n",
       "      <td>76.000000</td>\n",
       "      <td>0.000000</td>\n",
       "    </tr>\n",
       "    <tr>\n",
       "      <th>max</th>\n",
       "      <td>78298.000000</td>\n",
       "      <td>10.000000</td>\n",
       "      <td>60.000000</td>\n",
       "      <td>5.000000</td>\n",
       "      <td>37.000000</td>\n",
       "      <td>1.000000</td>\n",
       "      <td>1.000000</td>\n",
       "      <td>99.000000</td>\n",
       "      <td>1.000000</td>\n",
       "    </tr>\n",
       "  </tbody>\n",
       "</table>\n",
       "</div>"
      ],
      "text/plain": [
       "        employee_id  no_of_trainings           age  previous_year_rating  \\\n",
       "count  54808.000000     54808.000000  54808.000000          50684.000000   \n",
       "mean   39195.830627         1.253011     34.803915              3.329256   \n",
       "std    22586.581449         0.609264      7.660169              1.259993   \n",
       "min        1.000000         1.000000     20.000000              1.000000   \n",
       "25%    19669.750000         1.000000     29.000000              3.000000   \n",
       "50%    39225.500000         1.000000     33.000000              3.000000   \n",
       "75%    58730.500000         1.000000     39.000000              4.000000   \n",
       "max    78298.000000        10.000000     60.000000              5.000000   \n",
       "\n",
       "       length_of_service  KPIs_met >80%   awards_won?  avg_training_score  \\\n",
       "count       54808.000000   54808.000000  54808.000000        54808.000000   \n",
       "mean            5.865512       0.351974      0.023172           63.386750   \n",
       "std             4.265094       0.477590      0.150450           13.371559   \n",
       "min             1.000000       0.000000      0.000000           39.000000   \n",
       "25%             3.000000       0.000000      0.000000           51.000000   \n",
       "50%             5.000000       0.000000      0.000000           60.000000   \n",
       "75%             7.000000       1.000000      0.000000           76.000000   \n",
       "max            37.000000       1.000000      1.000000           99.000000   \n",
       "\n",
       "        is_promoted  \n",
       "count  54808.000000  \n",
       "mean       0.085170  \n",
       "std        0.279137  \n",
       "min        0.000000  \n",
       "25%        0.000000  \n",
       "50%        0.000000  \n",
       "75%        0.000000  \n",
       "max        1.000000  "
      ]
     },
     "execution_count": 6,
     "metadata": {},
     "output_type": "execute_result"
    }
   ],
   "source": [
    "train.describe()"
   ]
  },
  {
   "cell_type": "code",
   "execution_count": 7,
   "metadata": {},
   "outputs": [
    {
     "data": {
      "text/html": [
       "<div>\n",
       "<style scoped>\n",
       "    .dataframe tbody tr th:only-of-type {\n",
       "        vertical-align: middle;\n",
       "    }\n",
       "\n",
       "    .dataframe tbody tr th {\n",
       "        vertical-align: top;\n",
       "    }\n",
       "\n",
       "    .dataframe thead th {\n",
       "        text-align: right;\n",
       "    }\n",
       "</style>\n",
       "<table border=\"1\" class=\"dataframe\">\n",
       "  <thead>\n",
       "    <tr style=\"text-align: right;\">\n",
       "      <th></th>\n",
       "      <th>employee_id</th>\n",
       "      <th>department_x</th>\n",
       "      <th>region_x</th>\n",
       "      <th>education_x</th>\n",
       "      <th>gender_x</th>\n",
       "      <th>recruitment_channel_x</th>\n",
       "      <th>no_of_trainings_x</th>\n",
       "      <th>age_x</th>\n",
       "      <th>previous_year_rating_x</th>\n",
       "      <th>length_of_service_x</th>\n",
       "      <th>...</th>\n",
       "      <th>education_y</th>\n",
       "      <th>gender_y</th>\n",
       "      <th>recruitment_channel_y</th>\n",
       "      <th>no_of_trainings_y</th>\n",
       "      <th>age_y</th>\n",
       "      <th>previous_year_rating_y</th>\n",
       "      <th>length_of_service_y</th>\n",
       "      <th>KPIs_met &gt;80%_y</th>\n",
       "      <th>awards_won?_y</th>\n",
       "      <th>avg_training_score_y</th>\n",
       "    </tr>\n",
       "  </thead>\n",
       "  <tbody>\n",
       "  </tbody>\n",
       "</table>\n",
       "<p>0 rows × 26 columns</p>\n",
       "</div>"
      ],
      "text/plain": [
       "Empty DataFrame\n",
       "Columns: [employee_id, department_x, region_x, education_x, gender_x, recruitment_channel_x, no_of_trainings_x, age_x, previous_year_rating_x, length_of_service_x, KPIs_met >80%_x, awards_won?_x, avg_training_score_x, is_promoted, department_y, region_y, education_y, gender_y, recruitment_channel_y, no_of_trainings_y, age_y, previous_year_rating_y, length_of_service_y, KPIs_met >80%_y, awards_won?_y, avg_training_score_y]\n",
       "Index: []\n",
       "\n",
       "[0 rows x 26 columns]"
      ]
     },
     "execution_count": 7,
     "metadata": {},
     "output_type": "execute_result"
    }
   ],
   "source": [
    "train.merge(test, on='employee_id', how='inner')"
   ]
  },
  {
   "cell_type": "code",
   "execution_count": 8,
   "metadata": {},
   "outputs": [],
   "source": [
    "def perc_stacked_graph(dataset, X, Y, Z, axs, figsize=(5,5)):\n",
    "    # in a pivot table -> X - row, y - Column, Z - Values\n",
    "    perc_stacked = dataset.pivot_table(index=[X], columns=Y, values=Z, aggfunc='count').reset_index()\n",
    "    #perc_stacked.drop(['land_surface_condition'], axis=1)\n",
    "\n",
    "    perc_stacked = perc_stacked.set_index(perc_stacked[X], drop=True)\n",
    "    perc_stacked = perc_stacked.drop([X], axis=1)\n",
    "    for row in perc_stacked.index:\n",
    "        perc_stacked.loc[row] = perc_stacked.loc[row]/np.sum(perc_stacked.loc[row], axis=0)\n",
    "    perc_stacked.plot(ax=axs, kind = 'bar', figsize=(15,15))"
   ]
  },
  {
   "cell_type": "code",
   "execution_count": 9,
   "metadata": {},
   "outputs": [],
   "source": [
    "def sample_boost(X_train, y_train_sub, y):\n",
    "    #col = 'Quantitative Finance'\n",
    "    comb_df = pd.DataFrame(X_train)\n",
    "    comb_df[y] = y_train_sub\n",
    "    temp_df = comb_df[comb_df[y]==1]\n",
    "    comb_df = comb_df.drop(temp_df.index, axis=0)\n",
    "    boost_comb_train, boost_comb_test = train_test_split(comb_df, test_size = len(temp_df)*4)\n",
    "    boost_comb_test = pd.concat([boost_comb_test, temp_df], axis=0)\n",
    "    y_train_sub = boost_comb_test[y]\n",
    "    X_train = boost_comb_test.drop(y, axis=1)\n",
    "    return X_train, y_train_sub\n"
   ]
  },
  {
   "cell_type": "code",
   "execution_count": null,
   "metadata": {},
   "outputs": [],
   "source": []
  },
  {
   "cell_type": "code",
   "execution_count": 10,
   "metadata": {},
   "outputs": [
    {
     "data": {
      "text/plain": [
       "Index(['department', 'region', 'education', 'gender', 'recruitment_channel',\n",
       "       'previous_year_rating'],\n",
       "      dtype='object')"
      ]
     },
     "execution_count": 10,
     "metadata": {},
     "output_type": "execute_result"
    }
   ],
   "source": [
    "train.select_dtypes(exclude='int64').columns"
   ]
  },
  {
   "cell_type": "code",
   "execution_count": null,
   "metadata": {},
   "outputs": [],
   "source": []
  },
  {
   "cell_type": "code",
   "execution_count": 16,
   "metadata": {},
   "outputs": [],
   "source": [
    "y = 'is_promoted'\n",
    "id_ = 'employee_id'"
   ]
  },
  {
   "cell_type": "code",
   "execution_count": 60,
   "metadata": {},
   "outputs": [
    {
     "data": {
      "image/png": "[encoded data removed]",
      "text/plain": [
       "<Figure size 1080x1080 with 6 Axes>"
      ]
     },
     "metadata": {
      "needs_background": "light"
     },
     "output_type": "display_data"
    }
   ],
   "source": [
    "\n",
    "fig, axs = plt.subplots(2,3)\n",
    "\n",
    "perc_stacked_graph(train, y, \"department\", id_, axs = axs[0,0])\n",
    "perc_stacked_graph(train, y, \"region\", id_, axs = axs[0,1])\n",
    "perc_stacked_graph(train, y, \"gender\", id_, axs = axs[0,2])\n",
    "perc_stacked_graph(train, y, \"education\", id_, axs = axs[1,0])\n",
    "perc_stacked_graph(train, y, \"recruitment_channel\", id_, axs = axs[1,1])\n",
    "perc_stacked_graph(train, y, \"previous_year_rating\", id_, axs = axs[1,2])\n",
    "\n",
    "plt.show()"
   ]
  },
  {
   "cell_type": "code",
   "execution_count": 47,
   "metadata": {},
   "outputs": [
    {
     "name": "stderr",
     "output_type": "stream",
     "text": [
      "C:\\ProgramData\\Anaconda3\\lib\\site-packages\\statsmodels\\nonparametric\\kde.py:487: RuntimeWarning: invalid value encountered in true_divide\n",
      "  binned = fast_linbin(X, a, b, gridsize) / (delta * nobs)\n",
      "C:\\ProgramData\\Anaconda3\\lib\\site-packages\\statsmodels\\nonparametric\\kdetools.py:34: RuntimeWarning: invalid value encountered in double_scalars\n",
      "  FAC1 = 2*(np.pi*bw/RANGE)**2\n",
      "C:\\ProgramData\\Anaconda3\\lib\\site-packages\\statsmodels\\nonparametric\\kde.py:487: RuntimeWarning: invalid value encountered in true_divide\n",
      "  binned = fast_linbin(X, a, b, gridsize) / (delta * nobs)\n",
      "C:\\ProgramData\\Anaconda3\\lib\\site-packages\\statsmodels\\nonparametric\\kdetools.py:34: RuntimeWarning: invalid value encountered in double_scalars\n",
      "  FAC1 = 2*(np.pi*bw/RANGE)**2\n"
     ]
    },
    {
     "data": {
      "image/png": "[encoded data removed]",
      "text/plain": [
       "<Figure size 432x288 with 16 Axes>"
      ]
     },
     "metadata": {
      "needs_background": "light"
     },
     "output_type": "display_data"
    }
   ],
   "source": [
    "fig, axs = plt.subplots(len(int_cols),2)\n",
    "int_cols = train.select_dtypes(include='int64').columns\n",
    "for i,col in zip(range(len(int_cols)),int_cols):\n",
    "    sns.distplot(train.loc[train[y]==1,col], ax=axs[i,0])\n",
    "    sns.distplot(train.loc[train[y]==0,col], ax=axs[i,1])"
   ]
  },
  {
   "cell_type": "code",
   "execution_count": 30,
   "metadata": {},
   "outputs": [
    {
     "name": "stdout",
     "output_type": "stream",
     "text": [
      "Index(['employee_id', 'no_of_trainings', 'age', 'previous_year_rating',\n",
      "       'length_of_service', 'KPIs_met >80%', 'awards_won?',\n",
      "       'avg_training_score', 'is_promoted'],\n",
      "      dtype='object')\n"
     ]
    },
    {
     "data": {
      "text/plain": [
       "<matplotlib.axes._subplots.AxesSubplot at 0x2150190bfd0>"
      ]
     },
     "execution_count": 30,
     "metadata": {},
     "output_type": "execute_result"
    },
    {
     "data": {
      "image/png": "[encoded data removed]",
      "text/plain": [
       "<Figure size 432x288 with 1 Axes>"
      ]
     },
     "metadata": {
      "needs_background": "light"
     },
     "output_type": "display_data"
    }
   ],
   "source": [
    "print(train.select_dtypes(include='int64').columns)\n",
    "col='KPIs_met >80%'\n",
    "sns.distplot(train.loc[train[y]==1,col], hist=False)\n",
    "sns.distplot(train.loc[train[y]==0,col], hist=False)"
   ]
  },
  {
   "cell_type": "code",
   "execution_count": 64,
   "metadata": {},
   "outputs": [
    {
     "name": "stdout",
     "output_type": "stream",
     "text": [
      "54808\n"
     ]
    },
    {
     "data": {
      "text/plain": [
       "employee_id                0\n",
       "department                 0\n",
       "region                     0\n",
       "education               2409\n",
       "gender                     0\n",
       "recruitment_channel        0\n",
       "no_of_trainings            0\n",
       "age                        0\n",
       "previous_year_rating    4124\n",
       "length_of_service          0\n",
       "KPIs_met >80%              0\n",
       "awards_won?                0\n",
       "avg_training_score         0\n",
       "is_promoted                0\n",
       "dtype: int64"
      ]
     },
     "execution_count": 64,
     "metadata": {},
     "output_type": "execute_result"
    }
   ],
   "source": [
    "print(len(train))\n",
    "train.isnull().sum()"
   ]
  },
  {
   "cell_type": "code",
   "execution_count": 108,
   "metadata": {},
   "outputs": [],
   "source": [
    "def clean_data(dataset):\n",
    "    dataset.loc[dataset['department'].isin(['Legal', 'R&D']),'department'] = 'Legal R&D'\n",
    "    \n",
    "    dataset.loc[dataset['previous_year_rating'].isnull(),'previous_year_rating'] = -99\n",
    "    dataset['previous_year_rating'] = dataset['previous_year_rating'].astype('int64')\n",
    "    \n",
    "    dataset.loc[dataset['education'].isnull(),'education'] = 'Other'\n",
    "    dataset = dataset.drop('employee_id', axis=1)\n",
    "    return dataset\n",
    "train = clean_data(train)\n",
    "test = clean_data(test)"
   ]
  },
  {
   "cell_type": "code",
   "execution_count": 36,
   "metadata": {},
   "outputs": [
    {
     "data": {
      "text/plain": [
       "Index(['employee_id', 'department', 'region', 'education', 'gender',\n",
       "       'recruitment_channel', 'no_of_trainings', 'age', 'previous_year_rating',\n",
       "       'length_of_service', 'KPIs_met >80%', 'awards_won?',\n",
       "       'avg_training_score', 'is_promoted'],\n",
       "      dtype='object')"
      ]
     },
     "execution_count": 36,
     "metadata": {},
     "output_type": "execute_result"
    }
   ],
   "source": [
    "train.columns"
   ]
  },
  {
   "cell_type": "code",
   "execution_count": 95,
   "metadata": {},
   "outputs": [],
   "source": [
    "train, test = get_datasets()\n",
    "train = clean_data(train)\n",
    "test = clean_data(test)\n",
    "def add_features(dataset, cols):\n",
    "    for col in cols:\n",
    "        temp = dataset.groupby(col).agg({'no_of_trainings':['count','mean','sum'],\n",
    "                                 'age':['count','mean','sum','min','max'],\n",
    "                                  'previous_year_rating':['count','mean','sum'],\n",
    "                                  'length_of_service':['count','mean','sum','min','max'],\n",
    "                                  'KPIs_met >80%':['count','mean','sum','min','max'],\n",
    "                                  'awards_won?':['count','mean','sum','min','max'],\n",
    "                                  'avg_training_score':['count','mean','sum','min','max'],\n",
    "                                 })\n",
    "        temp.columns = [('_'+col+'_').join(x) for x in temp.columns]\n",
    "        dataset = pd.merge(dataset,temp,on=[col],how='left')\n",
    "    return dataset\n",
    "\n",
    "train = add_features(train, ['department', 'education', 'gender', 'recruitment_channel'])"
   ]
  },
  {
   "cell_type": "code",
   "execution_count": 59,
   "metadata": {},
   "outputs": [
    {
     "data": {
      "text/plain": [
       "(43846, 137)"
      ]
     },
     "execution_count": 59,
     "metadata": {},
     "output_type": "execute_result"
    }
   ],
   "source": [
    "def create_test_train(dataset):\n",
    "    X = dataset.drop(y, axis=1)\n",
    "    Y = dataset[y]\n",
    "    X_train, X_test, y_train, y_test = train_test_split(X, Y,test_size=0.2, random_state=2020)\n",
    "    return(X_train, X_test, y_train, y_test)\n",
    "\n",
    "\n",
    "X_train, X_test, y_train, y_test = create_test_train(train)\n",
    "X_train.shape"
   ]
  },
  {
   "cell_type": "code",
   "execution_count": 60,
   "metadata": {},
   "outputs": [],
   "source": [
    "X_train_dum = pd.get_dummies(X_train)\n",
    "X_test_dum = pd.get_dummies(X_test)\n"
   ]
  },
  {
   "cell_type": "code",
   "execution_count": 83,
   "metadata": {},
   "outputs": [
    {
     "name": "stderr",
     "output_type": "stream",
     "text": [
      "C:\\ProgramData\\Anaconda3\\lib\\site-packages\\sklearn\\ensemble\\forest.py:245: FutureWarning: The default value of n_estimators will change from 10 in version 0.20 to 100 in 0.22.\n",
      "  \"10 in version 0.20 to 100 in 0.22.\", FutureWarning)\n"
     ]
    },
    {
     "name": "stdout",
     "output_type": "stream",
     "text": [
      "F1 Score:  0.37225042301184436\n"
     ]
    }
   ],
   "source": [
    "rf = RandomForestClassifier()\n",
    "rf = rf.fit(X_train_dum, y_train)\n",
    "pred = rf.predict(X_test_dum)\n",
    "print(\"F1 Score: \", f1_score(y_test, pred))"
   ]
  },
  {
   "cell_type": "code",
   "execution_count": 124,
   "metadata": {},
   "outputs": [],
   "source": [
    "rf = RandomForestClassifier(n_estimators = 500, n_jobs=-1, random_state= 2020, verbose=0)\n",
    "params = {'n_estimators':[500,700,800,1000]} \n"
   ]
  },
  {
   "cell_type": "code",
   "execution_count": 125,
   "metadata": {},
   "outputs": [
    {
     "name": "stderr",
     "output_type": "stream",
     "text": [
      "C:\\ProgramData\\Anaconda3\\lib\\site-packages\\sklearn\\model_selection\\_search.py:266: UserWarning: The total space of parameters 4 is smaller than n_iter=20. Running 4 iterations. For exhaustive searches, use GridSearchCV.\n",
      "  % (grid_size, self.n_iter, grid_size), UserWarning)\n",
      "[Parallel(n_jobs=-1)]: Using backend LokyBackend with 8 concurrent workers.\n"
     ]
    },
    {
     "name": "stdout",
     "output_type": "stream",
     "text": [
      "Fitting 3 folds for each of 4 candidates, totalling 12 fits\n"
     ]
    },
    {
     "name": "stderr",
     "output_type": "stream",
     "text": [
      "[Parallel(n_jobs=-1)]: Done   4 out of  12 | elapsed:   55.3s remaining:  1.8min\n",
      "[Parallel(n_jobs=-1)]: Done  12 out of  12 | elapsed:  1.6min finished\n"
     ]
    },
    {
     "data": {
      "text/plain": [
       "RandomizedSearchCV(cv=3, error_score='raise-deprecating',\n",
       "                   estimator=RandomForestClassifier(bootstrap=True,\n",
       "                                                    class_weight=None,\n",
       "                                                    criterion='gini',\n",
       "                                                    max_depth=None,\n",
       "                                                    max_features='auto',\n",
       "                                                    max_leaf_nodes=None,\n",
       "                                                    min_impurity_decrease=0.0,\n",
       "                                                    min_impurity_split=None,\n",
       "                                                    min_samples_leaf=1,\n",
       "                                                    min_samples_split=2,\n",
       "                                                    min_weight_fraction_leaf=0.0,\n",
       "                                                    n_estimators=500, n_jobs=-1,\n",
       "                                                    oob_score=False,\n",
       "                                                    random_state=2020,\n",
       "                                                    verbose=0,\n",
       "                                                    warm_start=False),\n",
       "                   iid='warn', n_iter=20, n_jobs=-1,\n",
       "                   param_distributions={'n_estimators': [500, 700, 800, 1000]},\n",
       "                   pre_dispatch='2*n_jobs', random_state=2020, refit=True,\n",
       "                   return_train_score=False, scoring=None, verbose=2)"
      ]
     },
     "execution_count": 125,
     "metadata": {},
     "output_type": "execute_result"
    }
   ],
   "source": [
    "rs = RandomizedSearchCV(estimator=rf, param_distributions=params, n_iter=20, cv=3, verbose=2, random_state=2020, n_jobs=-1)\n",
    "rs.fit(X_train_dum, y_train)"
   ]
  },
  {
   "cell_type": "code",
   "execution_count": 126,
   "metadata": {},
   "outputs": [
    {
     "data": {
      "text/plain": [
       "{'n_estimators': 800}"
      ]
     },
     "execution_count": 126,
     "metadata": {},
     "output_type": "execute_result"
    }
   ],
   "source": [
    "rs.best_params_"
   ]
  },
  {
   "cell_type": "code",
   "execution_count": 127,
   "metadata": {},
   "outputs": [],
   "source": [
    "rf = RandomForestClassifier(n_estimators = 800, # from random search \n",
    "                            random_state= 2020, \n",
    "                            verbose=2,\n",
    "                           min_samples_split=2, # from random search\n",
    "                           max_depth=None, # from random search\n",
    "                           min_samples_leaf=1) # from random search"
   ]
  },
  {
   "cell_type": "code",
   "execution_count": 115,
   "metadata": {},
   "outputs": [],
   "source": [
    "train, test = get_datasets()\n",
    "test_id = test.loc[:,'employee_id']\n",
    "train = clean_data(train)\n",
    "train = add_features(train, add_feat_list)\n",
    "X_train, X_test, y_train, y_test = create_test_train(train)\n",
    "X_train_dum = pd.get_dummies(X_train)\n",
    "X_test_dum = pd.get_dummies(X_test)"
   ]
  },
  {
   "cell_type": "code",
   "execution_count": 135,
   "metadata": {},
   "outputs": [],
   "source": [
    "xgb1 = xgb.XGBClassifier(#learning_rate =0.3,\n",
    "                        n_estimators=700,\n",
    "                        max_depth=3,\n",
    "                        min_child_weight=1,\n",
    "                        gamma=0,\n",
    "                        subsample=1,\n",
    "                        #colsample_bytree=0.45,\n",
    "                         colsample_bylevel=0.45,\n",
    "                        #objective= 'multi:softmax',\n",
    "                        #scale_pos_weight=0,\n",
    "                        #seed=2020,\n",
    "                        verbose = 10)\n",
    "xg_params = {'learning_rate':[0.035, 0.04,0.045,0.05],\n",
    "               #'max_depth':[3,7,10],\n",
    "               #'min_child_weight':[1,2,5,10],\n",
    "                #'subsample':[0.5,0.7,1]\n",
    "                #'colsample_bylevel':[0.45,0.7,1],\n",
    "                #'colsample_bytree':[0.45,0.7,1],\n",
    "                #'gamma':[0,0.1,0.5,1]\n",
    "             'n_estimators':[250,350,400]\n",
    "}"
   ]
  },
  {
   "cell_type": "code",
   "execution_count": 168,
   "metadata": {},
   "outputs": [
    {
     "name": "stderr",
     "output_type": "stream",
     "text": [
      "C:\\ProgramData\\Anaconda3\\lib\\site-packages\\sklearn\\model_selection\\_search.py:266: UserWarning: The total space of parameters 4 is smaller than n_iter=20. Running 4 iterations. For exhaustive searches, use GridSearchCV.\n",
      "  % (grid_size, self.n_iter, grid_size), UserWarning)\n",
      "[Parallel(n_jobs=-1)]: Using backend LokyBackend with 8 concurrent workers.\n"
     ]
    },
    {
     "name": "stdout",
     "output_type": "stream",
     "text": [
      "Fitting 2 folds for each of 4 candidates, totalling 8 fits\n"
     ]
    },
    {
     "name": "stderr",
     "output_type": "stream",
     "text": [
      "[Parallel(n_jobs=-1)]: Done   2 out of   8 | elapsed:    7.9s remaining:   23.9s\n",
      "[Parallel(n_jobs=-1)]: Done   3 out of   8 | elapsed:   14.3s remaining:   23.9s\n",
      "[Parallel(n_jobs=-1)]: Done   4 out of   8 | elapsed:   14.6s remaining:   14.6s\n",
      "[Parallel(n_jobs=-1)]: Done   5 out of   8 | elapsed:   19.6s remaining:   11.7s\n",
      "[Parallel(n_jobs=-1)]: Done   6 out of   8 | elapsed:   19.8s remaining:    6.5s\n",
      "[Parallel(n_jobs=-1)]: Done   8 out of   8 | elapsed:   29.4s remaining:    0.0s\n",
      "[Parallel(n_jobs=-1)]: Done   8 out of   8 | elapsed:   29.4s finished\n"
     ]
    },
    {
     "data": {
      "text/plain": [
       "{'n_estimators': 300}"
      ]
     },
     "execution_count": 168,
     "metadata": {},
     "output_type": "execute_result"
    }
   ],
   "source": [
    "rs = RandomizedSearchCV(estimator=xgb1, param_distributions=xg_params, n_iter=20, cv=2, verbose=10, random_state=2020, n_jobs=-1)\n",
    "rs.fit(X_train_dum, y_train)\n",
    "rs.best_params_"
   ]
  },
  {
   "cell_type": "code",
   "execution_count": 136,
   "metadata": {},
   "outputs": [
    {
     "name": "stdout",
     "output_type": "stream",
     "text": [
      "Fitting 2 folds for each of 12 candidates, totalling 24 fits\n"
     ]
    },
    {
     "name": "stderr",
     "output_type": "stream",
     "text": [
      "[Parallel(n_jobs=-1)]: Using backend LokyBackend with 8 concurrent workers.\n",
      "[Parallel(n_jobs=-1)]: Done   2 tasks      | elapsed:   15.0s\n",
      "[Parallel(n_jobs=-1)]: Done   9 tasks      | elapsed:   31.8s\n",
      "[Parallel(n_jobs=-1)]: Done  12 out of  24 | elapsed:   32.4s remaining:   32.4s\n",
      "[Parallel(n_jobs=-1)]: Done  15 out of  24 | elapsed:   39.6s remaining:   23.7s\n",
      "[Parallel(n_jobs=-1)]: Done  18 out of  24 | elapsed:   46.2s remaining:   15.3s\n",
      "[Parallel(n_jobs=-1)]: Done  21 out of  24 | elapsed:   51.8s remaining:    7.3s\n",
      "[Parallel(n_jobs=-1)]: Done  24 out of  24 | elapsed:   56.2s remaining:    0.0s\n",
      "[Parallel(n_jobs=-1)]: Done  24 out of  24 | elapsed:   56.2s finished\n"
     ]
    },
    {
     "data": {
      "text/plain": [
       "{'learning_rate': 0.05, 'n_estimators': 400}"
      ]
     },
     "execution_count": 136,
     "metadata": {},
     "output_type": "execute_result"
    }
   ],
   "source": [
    "X_train_boost, y_train_boost = sample_boost(X_train_dum, y_train, y)\n",
    "gs = GridSearchCV(estimator=xgb1, param_grid=xg_params, cv=2, verbose=10, n_jobs=-1)\n",
    "gs.fit(X_train_boost, y_train_boost)\n",
    "gs.best_params_"
   ]
  },
  {
   "cell_type": "code",
   "execution_count": 137,
   "metadata": {},
   "outputs": [],
   "source": [
    "# Best XGB params\n",
    "xgb1 = xgb.XGBClassifier(learning_rate =0.05,\n",
    "                        n_estimators=400,\n",
    "                        max_depth=3,\n",
    "                        min_child_weight=1,\n",
    "                        gamma=0,\n",
    "                        subsample=1,\n",
    "                        colsample_bytree=1,\n",
    "                        colsample_bylevel=0.45,\n",
    "                        #scale_pos_weight=0,\n",
    "                        #seed=2020,\n",
    "                        verbose = 2)"
   ]
  },
  {
   "cell_type": "code",
   "execution_count": null,
   "metadata": {},
   "outputs": [],
   "source": [
    "# Submission File\n",
    "train, test = get_datasets()\n",
    "full_df_2 = clean_data(train)\n",
    "full_df_2 = add_features(full_df_2, add_feat_list)\n",
    "\n",
    "full_df_y = full_df_2[y]\n",
    "full_df_2 = full_df_2.loc[:,imp_df['Feature']]\n",
    "full_df_x = pd.get_dummies(full_df_2)\n",
    "\n",
    "X_train_boost, y_train_boost = sample_boost(full_df_x, full_df_y, y)\n",
    "xgb1 = xgb1.fit(X_train_boost, y_train_boost)\n",
    "\n",
    "test2 = clean_data(test)\n",
    "test2 = add_features(test2, add_feat_list)\n",
    "test2 = test2.loc[:,imp_df['Feature']]\n",
    "test_dum = pd.get_dummies(test2)\n",
    "\n",
    "final_pred = xgb1.predict(test_dum)\n",
    "final_sub_df = pd.DataFrame(test.loc[:,'employee_id'])\n",
    "final_sub_df[y] = final_pred\n"
   ]
  },
  {
   "cell_type": "code",
   "execution_count": 139,
   "metadata": {},
   "outputs": [
    {
     "data": {
      "text/plain": [
       "836"
      ]
     },
     "execution_count": 139,
     "metadata": {},
     "output_type": "execute_result"
    }
   ],
   "source": [
    "final_sub_df.to_csv( \"all_feat_xgb.csv\", index=False)\n",
    "final_pred.sum()"
   ]
  },
  {
   "cell_type": "code",
   "execution_count": 102,
   "metadata": {},
   "outputs": [],
   "source": [
    "xgb1 = xgb.XGBClassifier(n_estimators=1000, random_state=0, learning_rate=0.1)"
   ]
  },
  {
   "cell_type": "code",
   "execution_count": 97,
   "metadata": {},
   "outputs": [],
   "source": [
    "add_feat_list = ['department', 'education', 'gender', 'recruitment_channel']"
   ]
  },
  {
   "cell_type": "code",
   "execution_count": 103,
   "metadata": {},
   "outputs": [
    {
     "name": "stdout",
     "output_type": "stream",
     "text": [
      "F1 Score:  0.5058175137783221\n",
      "F1 Score:  0.4999999999999999\n",
      "F1 Score:  0.5024154589371981\n",
      "F1 Score:  0.4886711573790569\n"
     ]
    }
   ],
   "source": [
    "\n",
    "\n",
    "for col in ['department', 'education', 'gender', 'recruitment_channel']:\n",
    "    train, test = get_datasets()\n",
    "    train = clean_data(train)\n",
    "    test = clean_data(test)\n",
    "    train = add_features(train, [col])\n",
    "    X_train, X_test, y_train, y_test = create_test_train(train)\n",
    "    X_train_dum = pd.get_dummies(X_train)\n",
    "    X_test_dum = pd.get_dummies(X_test)\n",
    "\n",
    "    X_train_boost, y_train_boost = sample_boost(X_train_dum, y_train, y)\n",
    "    xgb1 = xgb1.fit(X_train_boost, y_train_boost)\n",
    "    pred = xgb1.predict(X_test_dum)\n",
    "    print(\"F1 Score: \", f1_score(y_test, pred))"
   ]
  },
  {
   "cell_type": "code",
   "execution_count": 96,
   "metadata": {},
   "outputs": [
    {
     "name": "stdout",
     "output_type": "stream",
     "text": [
      "F1 Score:  0.498792270531401\n"
     ]
    }
   ],
   "source": [
    "train, test = get_datasets()\n",
    "train = clean_data(train)\n",
    "train = add_features(train, [col])\n",
    "X_train, X_test, y_train, y_test = create_test_train(train)\n",
    "X_train_dum = pd.get_dummies(X_train)\n",
    "X_test_dum = pd.get_dummies(X_test)\n",
    "\n",
    "X_train_boost, y_train_boost = sample_boost(X_train_dum, y_train, y)\n",
    "xgb1 = xgb1.fit(X_train_boost, y_train_boost)\n",
    "pred = xgb1.predict(X_test_dum)\n",
    "print(\"F1 Score: \", f1_score(y_test, pred))"
   ]
  },
  {
   "cell_type": "code",
   "execution_count": 126,
   "metadata": {},
   "outputs": [],
   "source": [
    "imp_df = []\n",
    "for col, imp in zip(X_train_boost.columns, xgb1.feature_importances_):\n",
    "    imp_df.append([col,imp])\n",
    "imp_df = pd.DataFrame(imp_df, columns=['Feature', 'Importance'])"
   ]
  },
  {
   "cell_type": "code",
   "execution_count": 127,
   "metadata": {},
   "outputs": [
    {
     "data": {
      "text/html": [
       "<div>\n",
       "<style scoped>\n",
       "    .dataframe tbody tr th:only-of-type {\n",
       "        vertical-align: middle;\n",
       "    }\n",
       "\n",
       "    .dataframe tbody tr th {\n",
       "        vertical-align: top;\n",
       "    }\n",
       "\n",
       "    .dataframe thead th {\n",
       "        text-align: right;\n",
       "    }\n",
       "</style>\n",
       "<table border=\"1\" class=\"dataframe\">\n",
       "  <thead>\n",
       "    <tr style=\"text-align: right;\">\n",
       "      <th></th>\n",
       "      <th>Feature</th>\n",
       "      <th>Importance</th>\n",
       "    </tr>\n",
       "  </thead>\n",
       "  <tbody>\n",
       "    <tr>\n",
       "      <th>0</th>\n",
       "      <td>department_Procurement</td>\n",
       "      <td>0.085298</td>\n",
       "    </tr>\n",
       "    <tr>\n",
       "      <th>1</th>\n",
       "      <td>KPIs_met &gt;80%</td>\n",
       "      <td>0.076974</td>\n",
       "    </tr>\n",
       "    <tr>\n",
       "      <th>2</th>\n",
       "      <td>avg_training_score_department_mean</td>\n",
       "      <td>0.071567</td>\n",
       "    </tr>\n",
       "    <tr>\n",
       "      <th>3</th>\n",
       "      <td>awards_won?</td>\n",
       "      <td>0.059594</td>\n",
       "    </tr>\n",
       "    <tr>\n",
       "      <th>4</th>\n",
       "      <td>KPIs_met &gt;80%_department_mean</td>\n",
       "      <td>0.058640</td>\n",
       "    </tr>\n",
       "    <tr>\n",
       "      <th>5</th>\n",
       "      <td>age_department_count</td>\n",
       "      <td>0.055003</td>\n",
       "    </tr>\n",
       "    <tr>\n",
       "      <th>6</th>\n",
       "      <td>avg_training_score_department_min</td>\n",
       "      <td>0.051614</td>\n",
       "    </tr>\n",
       "    <tr>\n",
       "      <th>7</th>\n",
       "      <td>awards_won?_department_mean</td>\n",
       "      <td>0.046633</td>\n",
       "    </tr>\n",
       "    <tr>\n",
       "      <th>8</th>\n",
       "      <td>avg_training_score</td>\n",
       "      <td>0.042332</td>\n",
       "    </tr>\n",
       "    <tr>\n",
       "      <th>9</th>\n",
       "      <td>no_of_trainings_department_count</td>\n",
       "      <td>0.028854</td>\n",
       "    </tr>\n",
       "    <tr>\n",
       "      <th>10</th>\n",
       "      <td>no_of_trainings_department_sum</td>\n",
       "      <td>0.024766</td>\n",
       "    </tr>\n",
       "    <tr>\n",
       "      <th>11</th>\n",
       "      <td>KPIs_met &gt;80%_department_sum</td>\n",
       "      <td>0.022212</td>\n",
       "    </tr>\n",
       "    <tr>\n",
       "      <th>12</th>\n",
       "      <td>length_of_service_department_sum</td>\n",
       "      <td>0.021858</td>\n",
       "    </tr>\n",
       "    <tr>\n",
       "      <th>13</th>\n",
       "      <td>previous_year_rating</td>\n",
       "      <td>0.019741</td>\n",
       "    </tr>\n",
       "    <tr>\n",
       "      <th>14</th>\n",
       "      <td>length_of_service_department_mean</td>\n",
       "      <td>0.018836</td>\n",
       "    </tr>\n",
       "    <tr>\n",
       "      <th>15</th>\n",
       "      <td>age_department_mean</td>\n",
       "      <td>0.018460</td>\n",
       "    </tr>\n",
       "    <tr>\n",
       "      <th>16</th>\n",
       "      <td>age_department_sum</td>\n",
       "      <td>0.018065</td>\n",
       "    </tr>\n",
       "    <tr>\n",
       "      <th>17</th>\n",
       "      <td>previous_year_rating_department_mean</td>\n",
       "      <td>0.014468</td>\n",
       "    </tr>\n",
       "    <tr>\n",
       "      <th>18</th>\n",
       "      <td>previous_year_rating_department_sum</td>\n",
       "      <td>0.010660</td>\n",
       "    </tr>\n",
       "    <tr>\n",
       "      <th>19</th>\n",
       "      <td>previous_year_rating_department_count</td>\n",
       "      <td>0.008892</td>\n",
       "    </tr>\n",
       "    <tr>\n",
       "      <th>20</th>\n",
       "      <td>department_Technology</td>\n",
       "      <td>0.008063</td>\n",
       "    </tr>\n",
       "    <tr>\n",
       "      <th>21</th>\n",
       "      <td>region_region_22</td>\n",
       "      <td>0.007875</td>\n",
       "    </tr>\n",
       "    <tr>\n",
       "      <th>22</th>\n",
       "      <td>department_Analytics</td>\n",
       "      <td>0.007258</td>\n",
       "    </tr>\n",
       "    <tr>\n",
       "      <th>23</th>\n",
       "      <td>age_education_sum</td>\n",
       "      <td>0.007109</td>\n",
       "    </tr>\n",
       "    <tr>\n",
       "      <th>24</th>\n",
       "      <td>region_region_4</td>\n",
       "      <td>0.006922</td>\n",
       "    </tr>\n",
       "    <tr>\n",
       "      <th>25</th>\n",
       "      <td>region_region_30</td>\n",
       "      <td>0.006465</td>\n",
       "    </tr>\n",
       "    <tr>\n",
       "      <th>26</th>\n",
       "      <td>length_of_service_education_mean</td>\n",
       "      <td>0.006339</td>\n",
       "    </tr>\n",
       "    <tr>\n",
       "      <th>27</th>\n",
       "      <td>age_gender_mean</td>\n",
       "      <td>0.005556</td>\n",
       "    </tr>\n",
       "    <tr>\n",
       "      <th>28</th>\n",
       "      <td>age_department_min</td>\n",
       "      <td>0.005397</td>\n",
       "    </tr>\n",
       "    <tr>\n",
       "      <th>29</th>\n",
       "      <td>KPIs_met &gt;80%_education_mean</td>\n",
       "      <td>0.005168</td>\n",
       "    </tr>\n",
       "    <tr>\n",
       "      <th>30</th>\n",
       "      <td>length_of_service_recruitment_channel_sum</td>\n",
       "      <td>0.005160</td>\n",
       "    </tr>\n",
       "  </tbody>\n",
       "</table>\n",
       "</div>"
      ],
      "text/plain": [
       "                                      Feature  Importance\n",
       "0                      department_Procurement    0.085298\n",
       "1                               KPIs_met >80%    0.076974\n",
       "2          avg_training_score_department_mean    0.071567\n",
       "3                                 awards_won?    0.059594\n",
       "4               KPIs_met >80%_department_mean    0.058640\n",
       "5                        age_department_count    0.055003\n",
       "6           avg_training_score_department_min    0.051614\n",
       "7                 awards_won?_department_mean    0.046633\n",
       "8                          avg_training_score    0.042332\n",
       "9            no_of_trainings_department_count    0.028854\n",
       "10             no_of_trainings_department_sum    0.024766\n",
       "11               KPIs_met >80%_department_sum    0.022212\n",
       "12           length_of_service_department_sum    0.021858\n",
       "13                       previous_year_rating    0.019741\n",
       "14          length_of_service_department_mean    0.018836\n",
       "15                        age_department_mean    0.018460\n",
       "16                         age_department_sum    0.018065\n",
       "17       previous_year_rating_department_mean    0.014468\n",
       "18        previous_year_rating_department_sum    0.010660\n",
       "19      previous_year_rating_department_count    0.008892\n",
       "20                      department_Technology    0.008063\n",
       "21                           region_region_22    0.007875\n",
       "22                       department_Analytics    0.007258\n",
       "23                          age_education_sum    0.007109\n",
       "24                            region_region_4    0.006922\n",
       "25                           region_region_30    0.006465\n",
       "26           length_of_service_education_mean    0.006339\n",
       "27                            age_gender_mean    0.005556\n",
       "28                         age_department_min    0.005397\n",
       "29               KPIs_met >80%_education_mean    0.005168\n",
       "30  length_of_service_recruitment_channel_sum    0.005160"
      ]
     },
     "execution_count": 127,
     "metadata": {},
     "output_type": "execute_result"
    }
   ],
   "source": [
    "imp_df = imp_df.sort_values('Importance', ascending=False).reset_index(drop=True)\n",
    "imp_df = imp_df.loc[imp_df['Importance']>= 0.005,:]\n",
    "imp_df"
   ]
  },
  {
   "cell_type": "code",
   "execution_count": 141,
   "metadata": {},
   "outputs": [
    {
     "data": {
      "text/plain": [
       "Index(['department_Procurement', 'KPIs_met >80%',\n",
       "       'avg_training_score_department_mean', 'awards_won?',\n",
       "       'KPIs_met >80%_department_mean', 'age_department_count',\n",
       "       'avg_training_score_department_min', 'awards_won?_department_mean',\n",
       "       'avg_training_score', 'no_of_trainings_department_count',\n",
       "       'no_of_trainings_department_sum', 'KPIs_met >80%_department_sum',\n",
       "       'length_of_service_department_sum', 'previous_year_rating',\n",
       "       'length_of_service_department_mean', 'age_department_mean',\n",
       "       'age_department_sum', 'previous_year_rating_department_mean',\n",
       "       'previous_year_rating_department_sum',\n",
       "       'previous_year_rating_department_count', 'department_Technology',\n",
       "       'region_region_22', 'department_Analytics', 'age_education_sum',\n",
       "       'region_region_4', 'region_region_30',\n",
       "       'length_of_service_education_mean', 'age_gender_mean',\n",
       "       'age_department_min', 'KPIs_met >80%_education_mean',\n",
       "       'length_of_service_recruitment_channel_sum'],\n",
       "      dtype='object')"
      ]
     },
     "execution_count": 141,
     "metadata": {},
     "output_type": "execute_result"
    }
   ],
   "source": [
    "full_df_x.columns"
   ]
  }
 ],
 "metadata": {
  "kernelspec": {
   "display_name": "Python 3",
   "language": "python",
   "name": "python3"
  },
  "language_info": {
   "codemirror_mode": {
    "name": "ipython",
    "version": 3
   },
   "file_extension": ".py",
   "mimetype": "text/x-python",
   "name": "python",
   "nbconvert_exporter": "python",
   "pygments_lexer": "ipython3",
   "version": "3.7.1"
  }
 },
 "nbformat": 4,
 "nbformat_minor": 2
}
